{
 "cells": [
  {
   "cell_type": "code",
   "execution_count": 2,
   "metadata": {
    "collapsed": true
   },
   "outputs": [],
   "source": [
    "import os\n",
    "\n",
    "import matplotlib.pyplot as plt\n",
    "import numpy as np\n",
    "\n",
    "os.chdir('/Users/vladbuinceanu/Documents/KdG/Data and A.I./Sem 2/Python/Python/Sources')\n",
    "import pandas as pd\n",
    "from functions import *\n",
    "def split_choices(row):\n",
    "    return str.split(row, ',')\n",
    "\n",
    "def split_preferences(row):\n",
    "    return np.array([str.split(el,'=') for el in row])\n",
    "\n",
    "def sort_preferences(row):\n",
    "    try:\n",
    "        ranknumbers = row[:,0].astype(int)\n",
    "        return row[ranknumbers.argsort()][:,1]\n",
    "    except Exception:\n",
    "        return np.repeat(np.nan, 10)"
   ]
  },
  {
   "cell_type": "code",
   "execution_count": 3,
   "outputs": [],
   "source": [
    "studenq = pd.read_csv('Questionnaire 22-23.csv', delimiter=';', decimal = ',')"
   ],
   "metadata": {
    "collapsed": false
   }
  },
  {
   "cell_type": "code",
   "execution_count": 4,
   "outputs": [
    {
     "data": {
      "text/plain": "            1           2          3       4          5           6       7   \\\n0       Orange      Banana       Kiwi  Cherry       Plum  Strawberry   Melon   \n1   Strawberry      Orange     Banana   Apple     Cherry   Pineapple    Plum   \n2   Strawberry   Pineapple      Apple  Banana     Cherry        Kiwi   Melon   \n3       Orange        Kiwi     Cherry   Melon  Pineapple  Strawberry  Banana   \n4        Melon  Strawberry  Pineapple  Cherry     Banana        Kiwi    Plum   \n..         ...         ...        ...     ...        ...         ...     ...   \n82       Apple   Pineapple      Melon  Orange       Pear      Cherry  Banana   \n83      Banana      Orange       Pear   Melon  Pineapple      Cherry    Kiwi   \n84      Orange   Pineapple     Cherry   Melon       Plum      Banana    Kiwi   \n85  Strawberry       Apple     Banana  Orange  Pineapple        Kiwi    Pear   \n86       Apple        Plum      Melon  Cherry       Kiwi        Pear  Orange   \n\n            8           9           10  \n0    Pineapple       Apple        Pear  \n1        Melon        Kiwi        Pear  \n2         Pear        Plum      Orange  \n3         Plum        Pear       Apple  \n4         Pear      Orange       Apple  \n..         ...         ...         ...  \n82        Kiwi  Strawberry        Plum  \n83        Plum       Apple  Strawberry  \n84        Pear  Strawberry       Apple  \n85      Cherry        Plum       Melon  \n86  Strawberry   Pineapple      Banana  \n\n[87 rows x 10 columns]",
      "text/html": "<div>\n<style scoped>\n    .dataframe tbody tr th:only-of-type {\n        vertical-align: middle;\n    }\n\n    .dataframe tbody tr th {\n        vertical-align: top;\n    }\n\n    .dataframe thead th {\n        text-align: right;\n    }\n</style>\n<table border=\"1\" class=\"dataframe\">\n  <thead>\n    <tr style=\"text-align: right;\">\n      <th></th>\n      <th>1</th>\n      <th>2</th>\n      <th>3</th>\n      <th>4</th>\n      <th>5</th>\n      <th>6</th>\n      <th>7</th>\n      <th>8</th>\n      <th>9</th>\n      <th>10</th>\n    </tr>\n  </thead>\n  <tbody>\n    <tr>\n      <th>0</th>\n      <td>Orange</td>\n      <td>Banana</td>\n      <td>Kiwi</td>\n      <td>Cherry</td>\n      <td>Plum</td>\n      <td>Strawberry</td>\n      <td>Melon</td>\n      <td>Pineapple</td>\n      <td>Apple</td>\n      <td>Pear</td>\n    </tr>\n    <tr>\n      <th>1</th>\n      <td>Strawberry</td>\n      <td>Orange</td>\n      <td>Banana</td>\n      <td>Apple</td>\n      <td>Cherry</td>\n      <td>Pineapple</td>\n      <td>Plum</td>\n      <td>Melon</td>\n      <td>Kiwi</td>\n      <td>Pear</td>\n    </tr>\n    <tr>\n      <th>2</th>\n      <td>Strawberry</td>\n      <td>Pineapple</td>\n      <td>Apple</td>\n      <td>Banana</td>\n      <td>Cherry</td>\n      <td>Kiwi</td>\n      <td>Melon</td>\n      <td>Pear</td>\n      <td>Plum</td>\n      <td>Orange</td>\n    </tr>\n    <tr>\n      <th>3</th>\n      <td>Orange</td>\n      <td>Kiwi</td>\n      <td>Cherry</td>\n      <td>Melon</td>\n      <td>Pineapple</td>\n      <td>Strawberry</td>\n      <td>Banana</td>\n      <td>Plum</td>\n      <td>Pear</td>\n      <td>Apple</td>\n    </tr>\n    <tr>\n      <th>4</th>\n      <td>Melon</td>\n      <td>Strawberry</td>\n      <td>Pineapple</td>\n      <td>Cherry</td>\n      <td>Banana</td>\n      <td>Kiwi</td>\n      <td>Plum</td>\n      <td>Pear</td>\n      <td>Orange</td>\n      <td>Apple</td>\n    </tr>\n    <tr>\n      <th>...</th>\n      <td>...</td>\n      <td>...</td>\n      <td>...</td>\n      <td>...</td>\n      <td>...</td>\n      <td>...</td>\n      <td>...</td>\n      <td>...</td>\n      <td>...</td>\n      <td>...</td>\n    </tr>\n    <tr>\n      <th>82</th>\n      <td>Apple</td>\n      <td>Pineapple</td>\n      <td>Melon</td>\n      <td>Orange</td>\n      <td>Pear</td>\n      <td>Cherry</td>\n      <td>Banana</td>\n      <td>Kiwi</td>\n      <td>Strawberry</td>\n      <td>Plum</td>\n    </tr>\n    <tr>\n      <th>83</th>\n      <td>Banana</td>\n      <td>Orange</td>\n      <td>Pear</td>\n      <td>Melon</td>\n      <td>Pineapple</td>\n      <td>Cherry</td>\n      <td>Kiwi</td>\n      <td>Plum</td>\n      <td>Apple</td>\n      <td>Strawberry</td>\n    </tr>\n    <tr>\n      <th>84</th>\n      <td>Orange</td>\n      <td>Pineapple</td>\n      <td>Cherry</td>\n      <td>Melon</td>\n      <td>Plum</td>\n      <td>Banana</td>\n      <td>Kiwi</td>\n      <td>Pear</td>\n      <td>Strawberry</td>\n      <td>Apple</td>\n    </tr>\n    <tr>\n      <th>85</th>\n      <td>Strawberry</td>\n      <td>Apple</td>\n      <td>Banana</td>\n      <td>Orange</td>\n      <td>Pineapple</td>\n      <td>Kiwi</td>\n      <td>Pear</td>\n      <td>Cherry</td>\n      <td>Plum</td>\n      <td>Melon</td>\n    </tr>\n    <tr>\n      <th>86</th>\n      <td>Apple</td>\n      <td>Plum</td>\n      <td>Melon</td>\n      <td>Cherry</td>\n      <td>Kiwi</td>\n      <td>Pear</td>\n      <td>Orange</td>\n      <td>Strawberry</td>\n      <td>Pineapple</td>\n      <td>Banana</td>\n    </tr>\n  </tbody>\n</table>\n<p>87 rows × 10 columns</p>\n</div>"
     },
     "metadata": {},
     "output_type": "display_data"
    },
    {
     "data": {
      "text/plain": "            0   1   2   3   4   5   6   7   8   9   ...  77  78  79  80  81  \\\n0                                                   ...                       \nApple        9   4   3  10  10   9   3  10   5   5  ...   1   1   5   2   3   \nBanana       2   3   4   7   5   8   4   1   6   1  ...   2   6   2   4   4   \nCherry       4   5   5   3   4   6   5   3   3   7  ...   6   7   6   5   5   \nKiwi         3   9   6   2   6  10   6   4   1   8  ...   9  10   3  10   6   \nMelon        7   8   7   4   1   5   7   8   9  10  ...   3   9   4   1   7   \nOrange       1   2  10   1   9   4  10   7   7   2  ...   4   4  10   7  10   \nPear        10  10   8   9   8   3   8   6  10   4  ...   7   5   9   3   8   \nPineapple    8   6   2   5   3   7   2   5   4   6  ...   5   2   1   8   2   \nPlum         5   7   9   8   7   2   9   9   8   9  ...   8   3   7   9   9   \nStrawberry   6   1   1   6   2   1   1   2   2   3  ...  10   8   8   6   1   \n\n            82  83  84  85  86  \n0                               \nApple        1   9  10   2   1  \nBanana       7   1   6   3  10  \nCherry       6   6   3   8   4  \nKiwi         8   7   7   6   5  \nMelon        3   4   4  10   3  \nOrange       4   2   1   4   7  \nPear         5   3   8   7   6  \nPineapple    2   5   2   5   9  \nPlum        10   8   5   9   2  \nStrawberry   9  10   9   1   8  \n\n[10 rows x 79 columns]",
      "text/html": "<div>\n<style scoped>\n    .dataframe tbody tr th:only-of-type {\n        vertical-align: middle;\n    }\n\n    .dataframe tbody tr th {\n        vertical-align: top;\n    }\n\n    .dataframe thead th {\n        text-align: right;\n    }\n</style>\n<table border=\"1\" class=\"dataframe\">\n  <thead>\n    <tr style=\"text-align: right;\">\n      <th></th>\n      <th>0</th>\n      <th>1</th>\n      <th>2</th>\n      <th>3</th>\n      <th>4</th>\n      <th>5</th>\n      <th>6</th>\n      <th>7</th>\n      <th>8</th>\n      <th>9</th>\n      <th>...</th>\n      <th>77</th>\n      <th>78</th>\n      <th>79</th>\n      <th>80</th>\n      <th>81</th>\n      <th>82</th>\n      <th>83</th>\n      <th>84</th>\n      <th>85</th>\n      <th>86</th>\n    </tr>\n    <tr>\n      <th>0</th>\n      <th></th>\n      <th></th>\n      <th></th>\n      <th></th>\n      <th></th>\n      <th></th>\n      <th></th>\n      <th></th>\n      <th></th>\n      <th></th>\n      <th></th>\n      <th></th>\n      <th></th>\n      <th></th>\n      <th></th>\n      <th></th>\n      <th></th>\n      <th></th>\n      <th></th>\n      <th></th>\n      <th></th>\n    </tr>\n  </thead>\n  <tbody>\n    <tr>\n      <th>Apple</th>\n      <td>9</td>\n      <td>4</td>\n      <td>3</td>\n      <td>10</td>\n      <td>10</td>\n      <td>9</td>\n      <td>3</td>\n      <td>10</td>\n      <td>5</td>\n      <td>5</td>\n      <td>...</td>\n      <td>1</td>\n      <td>1</td>\n      <td>5</td>\n      <td>2</td>\n      <td>3</td>\n      <td>1</td>\n      <td>9</td>\n      <td>10</td>\n      <td>2</td>\n      <td>1</td>\n    </tr>\n    <tr>\n      <th>Banana</th>\n      <td>2</td>\n      <td>3</td>\n      <td>4</td>\n      <td>7</td>\n      <td>5</td>\n      <td>8</td>\n      <td>4</td>\n      <td>1</td>\n      <td>6</td>\n      <td>1</td>\n      <td>...</td>\n      <td>2</td>\n      <td>6</td>\n      <td>2</td>\n      <td>4</td>\n      <td>4</td>\n      <td>7</td>\n      <td>1</td>\n      <td>6</td>\n      <td>3</td>\n      <td>10</td>\n    </tr>\n    <tr>\n      <th>Cherry</th>\n      <td>4</td>\n      <td>5</td>\n      <td>5</td>\n      <td>3</td>\n      <td>4</td>\n      <td>6</td>\n      <td>5</td>\n      <td>3</td>\n      <td>3</td>\n      <td>7</td>\n      <td>...</td>\n      <td>6</td>\n      <td>7</td>\n      <td>6</td>\n      <td>5</td>\n      <td>5</td>\n      <td>6</td>\n      <td>6</td>\n      <td>3</td>\n      <td>8</td>\n      <td>4</td>\n    </tr>\n    <tr>\n      <th>Kiwi</th>\n      <td>3</td>\n      <td>9</td>\n      <td>6</td>\n      <td>2</td>\n      <td>6</td>\n      <td>10</td>\n      <td>6</td>\n      <td>4</td>\n      <td>1</td>\n      <td>8</td>\n      <td>...</td>\n      <td>9</td>\n      <td>10</td>\n      <td>3</td>\n      <td>10</td>\n      <td>6</td>\n      <td>8</td>\n      <td>7</td>\n      <td>7</td>\n      <td>6</td>\n      <td>5</td>\n    </tr>\n    <tr>\n      <th>Melon</th>\n      <td>7</td>\n      <td>8</td>\n      <td>7</td>\n      <td>4</td>\n      <td>1</td>\n      <td>5</td>\n      <td>7</td>\n      <td>8</td>\n      <td>9</td>\n      <td>10</td>\n      <td>...</td>\n      <td>3</td>\n      <td>9</td>\n      <td>4</td>\n      <td>1</td>\n      <td>7</td>\n      <td>3</td>\n      <td>4</td>\n      <td>4</td>\n      <td>10</td>\n      <td>3</td>\n    </tr>\n    <tr>\n      <th>Orange</th>\n      <td>1</td>\n      <td>2</td>\n      <td>10</td>\n      <td>1</td>\n      <td>9</td>\n      <td>4</td>\n      <td>10</td>\n      <td>7</td>\n      <td>7</td>\n      <td>2</td>\n      <td>...</td>\n      <td>4</td>\n      <td>4</td>\n      <td>10</td>\n      <td>7</td>\n      <td>10</td>\n      <td>4</td>\n      <td>2</td>\n      <td>1</td>\n      <td>4</td>\n      <td>7</td>\n    </tr>\n    <tr>\n      <th>Pear</th>\n      <td>10</td>\n      <td>10</td>\n      <td>8</td>\n      <td>9</td>\n      <td>8</td>\n      <td>3</td>\n      <td>8</td>\n      <td>6</td>\n      <td>10</td>\n      <td>4</td>\n      <td>...</td>\n      <td>7</td>\n      <td>5</td>\n      <td>9</td>\n      <td>3</td>\n      <td>8</td>\n      <td>5</td>\n      <td>3</td>\n      <td>8</td>\n      <td>7</td>\n      <td>6</td>\n    </tr>\n    <tr>\n      <th>Pineapple</th>\n      <td>8</td>\n      <td>6</td>\n      <td>2</td>\n      <td>5</td>\n      <td>3</td>\n      <td>7</td>\n      <td>2</td>\n      <td>5</td>\n      <td>4</td>\n      <td>6</td>\n      <td>...</td>\n      <td>5</td>\n      <td>2</td>\n      <td>1</td>\n      <td>8</td>\n      <td>2</td>\n      <td>2</td>\n      <td>5</td>\n      <td>2</td>\n      <td>5</td>\n      <td>9</td>\n    </tr>\n    <tr>\n      <th>Plum</th>\n      <td>5</td>\n      <td>7</td>\n      <td>9</td>\n      <td>8</td>\n      <td>7</td>\n      <td>2</td>\n      <td>9</td>\n      <td>9</td>\n      <td>8</td>\n      <td>9</td>\n      <td>...</td>\n      <td>8</td>\n      <td>3</td>\n      <td>7</td>\n      <td>9</td>\n      <td>9</td>\n      <td>10</td>\n      <td>8</td>\n      <td>5</td>\n      <td>9</td>\n      <td>2</td>\n    </tr>\n    <tr>\n      <th>Strawberry</th>\n      <td>6</td>\n      <td>1</td>\n      <td>1</td>\n      <td>6</td>\n      <td>2</td>\n      <td>1</td>\n      <td>1</td>\n      <td>2</td>\n      <td>2</td>\n      <td>3</td>\n      <td>...</td>\n      <td>10</td>\n      <td>8</td>\n      <td>8</td>\n      <td>6</td>\n      <td>1</td>\n      <td>9</td>\n      <td>10</td>\n      <td>9</td>\n      <td>1</td>\n      <td>8</td>\n    </tr>\n  </tbody>\n</table>\n<p>10 rows × 79 columns</p>\n</div>"
     },
     "metadata": {},
     "output_type": "display_data"
    }
   ],
   "source": [
    "fruit_preferences = pd.DataFrame(zip(*studenq['Favorite Fruit'].apply(split_choices).apply(split_preferences).apply(sort_preferences)), index=range(1,11)).transpose()\n",
    "\n",
    "display(fruit_preferences)\n",
    "\n",
    "def transform_preference(df):\n",
    "    order = df.loc[0].sort_values() # only if all fruits were used by this student –no doubles-\n",
    "\n",
    "    index = pd.Series(order, dtype=\"category\")\n",
    "    copy_df = df.copy()\n",
    "    for column in copy_df:\n",
    "        copy_df[column] = copy_df[column].astype(pd.CategoricalDtype(categories=order))\n",
    "        copy_df[column] = copy_df[column].cat.codes\n",
    "    new_df= pd.DataFrame(index= index, columns=np.arange(copy_df.shape[0]))\n",
    "    for i in range(copy_df.shape[0]):\n",
    "        for j in range(copy_df.shape[1]):\n",
    "            new_df.iat[copy_df.iat[i,j],i]=j+1\n",
    "    for column in new_df:\n",
    "        new_df[column] = pd.to_numeric(new_df[column])\n",
    "    return new_df\n",
    "\n",
    "fruit_pref_trans = transform_preference(fruit_preferences)\n",
    "fruit_pref_trans = fruit_pref_trans.dropna(axis = 'columns')\n",
    "\n",
    "display(fruit_pref_trans)"
   ],
   "metadata": {
    "collapsed": false
   }
  },
  {
   "cell_type": "markdown",
   "source": [
    "# 1.b To what extent do Student003 and Student007 agree in terms of preference for fruit?"
   ],
   "metadata": {
    "collapsed": false
   }
  },
  {
   "cell_type": "code",
   "execution_count": 5,
   "outputs": [
    {
     "data": {
      "text/plain": "0.15555555555555553"
     },
     "metadata": {},
     "output_type": "display_data"
    }
   ],
   "source": [
    "corel = fruit_pref_trans[3].corr(fruit_pref_trans[7], method = 'kendall')\n",
    "display(corel)"
   ],
   "metadata": {
    "collapsed": false
   }
  },
  {
   "cell_type": "markdown",
   "source": [
    "# 2 Is there a linear relationship between the number of siblings and the number of mobile devices a student uses ? What corelation are you going to use here ? What conclusion ?\n",
    "\n",
    "Answer -> NO\n"
   ],
   "metadata": {
    "collapsed": false
   }
  },
  {
   "cell_type": "code",
   "execution_count": 6,
   "outputs": [
    {
     "data": {
      "text/plain": "0.11517871482185164"
     },
     "metadata": {},
     "output_type": "display_data"
    }
   ],
   "source": [
    "display(studenq.Siblings.corr(studenq['Mobile Devices']))"
   ],
   "metadata": {
    "collapsed": false
   }
  },
  {
   "cell_type": "markdown",
   "source": [
    "# 3. Is there a (linear) relationship between how important a student thinks his computer science studies are and how he sees the study load? What correlation are you going to use here?"
   ],
   "metadata": {
    "collapsed": false
   }
  },
  {
   "cell_type": "code",
   "execution_count": 7,
   "outputs": [
    {
     "data": {
      "text/plain": "0.1293422949203495"
     },
     "execution_count": 7,
     "metadata": {},
     "output_type": "execute_result"
    }
   ],
   "source": [
    "studenq['Importance AI Study'] = studenq['Importance AI Study'].astype(pd.CategoricalDtype(categories=['Not at all', 'Little importance', 'Moderate importance' , 'Great importance', 'Very great importance','Extreemly important'], ordered=True))\n",
    "studenq['Study Load'] = studenq['Study Load'].astype(pd.CategoricalDtype(categories=['<= 10 hours', '11-15 hours', '16-20 hours', '21-25 hours', '26-30 hours', '31-35 hours', '36-40 hours', '>= 41 hours'], ordered=True))\n",
    "\n",
    "df = pd.DataFrame({'Importance': studenq['Importance AI Study'], 'Load': studenq['Study Load']})\n",
    "df.dropna(axis='rows', inplace = True)\n",
    "df.Importance = df.Importance.cat.codes\n",
    "df.Load = df.Load.cat.codes\n",
    "df.corr(method='kendall')\n",
    "df.Importance.corr(df.Load, method='kendall')"
   ],
   "metadata": {
    "collapsed": false
   }
  },
  {
   "cell_type": "markdown",
   "source": [
    "# 4. Keith Pledger's textbook \"Edexcel GCSE Mathematics\" claims that (for boys) the height in cm is equal to 5.3 times the shoe size plus 133. What formula do you get for the computer science students? Note: English shoe size  European shoe size\n",
    "\n",
    "\n",
    "# a. Convert to uk shoe size"
   ],
   "metadata": {
    "collapsed": false
   }
  },
  {
   "cell_type": "code",
   "execution_count": 11,
   "outputs": [
    {
     "data": {
      "text/plain": "<Figure size 640x480 with 1 Axes>",
      "image/png": "[encoded data removed]"
     },
     "metadata": {},
     "output_type": "display_data"
    },
    {
     "name": "stdout",
     "output_type": "stream",
     "text": [
      "se  8.05\n"
     ]
    }
   ],
   "source": [
    "eu = [39,40,40.5,41,42,42.5,43,44,44.5,45,46,46.5,47,48]\n",
    "uk = [5,6,6.5,7,8,8.5,9,10,10.5,11,12,12.5,13,14]\n",
    "model = np.polyfit(eu, uk, 1)\n",
    "predict = np.poly1d(model)\n",
    "studenq['Shoe Size'] = studenq['Shoe Size'].astype(float)\n",
    "shoe_size = studenq['Shoe Size'].values\n",
    "shoe_uk = predict(shoe_size)\n",
    "\n",
    "df = pd.DataFrame({'Shoe_Uk': shoe_uk, 'Height': studenq['Height']})\n",
    "df.dropna(axis='rows', inplace=True)\n",
    "x = df.Shoe_Uk\n",
    "y = df.Height\n",
    "\n",
    "model = np.polyfit(x,y,1)\n",
    "predict = np.poly1d(model)\n",
    "xx = np.arange(x.min(), x.max(), (x.max() - x.min())/100)\n",
    "yy = predict(xx)\n",
    "plt.figure()\n",
    "plt.scatter(x,y)\n",
    "plt.plot(xx,yy, color='red')\n",
    "plt.xlabel('Shoes size UK')\n",
    "plt.ylabel('Height (cm)')\n",
    "plt.show()\n",
    "print('se %5.2f'%math.sqrt(((predict(x) - y) ** 2).mean()))\n",
    "\n"
   ],
   "metadata": {
    "collapsed": false
   }
  },
  {
   "cell_type": "markdown",
   "source": [],
   "metadata": {
    "collapsed": false
   }
  }
 ],
 "metadata": {
  "kernelspec": {
   "display_name": "Python 3",
   "language": "python",
   "name": "python3"
  },
  "language_info": {
   "codemirror_mode": {
    "name": "ipython",
    "version": 2
   },
   "file_extension": ".py",
   "mimetype": "text/x-python",
   "name": "python",
   "nbconvert_exporter": "python",
   "pygments_lexer": "ipython2",
   "version": "2.7.6"
  }
 },
 "nbformat": 4,
 "nbformat_minor": 0
}
