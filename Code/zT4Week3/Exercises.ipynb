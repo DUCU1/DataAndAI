{
 "cells": [
  {
   "cell_type": "code",
   "execution_count": 22,
   "metadata": {
    "collapsed": true,
    "ExecuteTime": {
     "end_time": "2023-06-18T18:47:14.413664Z",
     "start_time": "2023-06-18T18:47:14.064184Z"
    }
   },
   "outputs": [],
   "source": [
    "import os\n",
    "\n",
    "from bokeh.layouts import column\n",
    "\n",
    "os.chdir(\"/Users/vladbuinceanu/Documents/KdG/Data and A.I./Sem 2/Python/Python/Sources\")\n",
    "from functions import *\n",
    "import pandas as pd"
   ]
  },
  {
   "cell_type": "markdown",
   "source": [
    "# Exercise 1. The Simpsons ( Basic )"
   ],
   "metadata": {
    "collapsed": false
   }
  },
  {
   "cell_type": "markdown",
   "source": [
    "# a. Load the file from the Simpsons"
   ],
   "metadata": {
    "collapsed": false
   }
  },
  {
   "cell_type": "code",
   "execution_count": 23,
   "outputs": [
    {
     "data": {
      "text/plain": "    name hair length weight    age gender\n0  Homer          <3   >160  30-40      M",
      "text/html": "<div>\n<style scoped>\n    .dataframe tbody tr th:only-of-type {\n        vertical-align: middle;\n    }\n\n    .dataframe tbody tr th {\n        vertical-align: top;\n    }\n\n    .dataframe thead th {\n        text-align: right;\n    }\n</style>\n<table border=\"1\" class=\"dataframe\">\n  <thead>\n    <tr style=\"text-align: right;\">\n      <th></th>\n      <th>name</th>\n      <th>hair length</th>\n      <th>weight</th>\n      <th>age</th>\n      <th>gender</th>\n    </tr>\n  </thead>\n  <tbody>\n    <tr>\n      <th>0</th>\n      <td>Homer</td>\n      <td>&lt;3</td>\n      <td>&gt;160</td>\n      <td>30-40</td>\n      <td>M</td>\n    </tr>\n  </tbody>\n</table>\n</div>"
     },
     "metadata": {},
     "output_type": "display_data"
    }
   ],
   "source": [
    "simpsons = pd.read_csv('The Simpsons.csv')\n",
    "display(simpsons.head(1))"
   ],
   "metadata": {
    "collapsed": false,
    "ExecuteTime": {
     "end_time": "2023-06-18T18:47:14.445378Z",
     "start_time": "2023-06-18T18:47:14.423090Z"
    }
   }
  },
  {
   "cell_type": "markdown",
   "source": [
    "# b. Calculate the entropy of this table yourself. Write down the formula.\n",
    "-4/9 * math.log(4/9, 2) - 5/9 * math.log(5/9, 2) = 0.991076"
   ],
   "metadata": {
    "collapsed": false
   }
  },
  {
   "cell_type": "code",
   "execution_count": 24,
   "outputs": [
    {
     "data": {
      "text/plain": "0.9910760598382221"
     },
     "execution_count": 24,
     "metadata": {},
     "output_type": "execute_result"
    }
   ],
   "source": [
    "entropy(simpsons.weight)"
   ],
   "metadata": {
    "collapsed": false,
    "ExecuteTime": {
     "end_time": "2023-06-18T18:47:14.468267Z",
     "start_time": "2023-06-18T18:47:14.453260Z"
    }
   }
  },
  {
   "cell_type": "markdown",
   "source": [
    "# c. Calculate the gain for each column. Can you also calculate the gain for the last column?"
   ],
   "metadata": {
    "collapsed": false
   }
  },
  {
   "cell_type": "code",
   "execution_count": 25,
   "outputs": [
    {
     "data": {
      "text/plain": "0.5900048960119098"
     },
     "metadata": {},
     "output_type": "display_data"
    },
    {
     "data": {
      "text/plain": "0.45165906291896163"
     },
     "metadata": {},
     "output_type": "display_data"
    },
    {
     "data": {
      "text/plain": "0.07278022578373256"
     },
     "metadata": {},
     "output_type": "display_data"
    },
    {
     "data": {
      "text/plain": "0.9910760598382221"
     },
     "metadata": {},
     "output_type": "display_data"
    }
   ],
   "source": [
    "display(information_gain(simpsons, 'weight','gender'))\n",
    "display(information_gain(simpsons, 'hair length','gender'))\n",
    "display(information_gain(simpsons, 'age','gender'))\n",
    "display(information_gain(simpsons, 'gender', 'gender'))"
   ],
   "metadata": {
    "collapsed": false,
    "ExecuteTime": {
     "end_time": "2023-06-18T18:47:14.687424Z",
     "start_time": "2023-06-18T18:47:14.478708Z"
    }
   }
  },
  {
   "cell_type": "markdown",
   "source": [
    "# d. Determine the sub-table where the weight is always <=160."
   ],
   "metadata": {
    "collapsed": false
   }
  },
  {
   "cell_type": "code",
   "execution_count": 26,
   "outputs": [
    {
     "data": {
      "text/plain": "     name hair length weight    age gender\n1   Marge          >5  <=160  30-40      F\n2    Bart          <3  <=160    <30      M\n3    Lisa          >5  <=160    <30      F\n4  Maggie         3-5  <=160    <30      F\n6   Selma          >5  <=160    >40      F",
      "text/html": "<div>\n<style scoped>\n    .dataframe tbody tr th:only-of-type {\n        vertical-align: middle;\n    }\n\n    .dataframe tbody tr th {\n        vertical-align: top;\n    }\n\n    .dataframe thead th {\n        text-align: right;\n    }\n</style>\n<table border=\"1\" class=\"dataframe\">\n  <thead>\n    <tr style=\"text-align: right;\">\n      <th></th>\n      <th>name</th>\n      <th>hair length</th>\n      <th>weight</th>\n      <th>age</th>\n      <th>gender</th>\n    </tr>\n  </thead>\n  <tbody>\n    <tr>\n      <th>1</th>\n      <td>Marge</td>\n      <td>&gt;5</td>\n      <td>&lt;=160</td>\n      <td>30-40</td>\n      <td>F</td>\n    </tr>\n    <tr>\n      <th>2</th>\n      <td>Bart</td>\n      <td>&lt;3</td>\n      <td>&lt;=160</td>\n      <td>&lt;30</td>\n      <td>M</td>\n    </tr>\n    <tr>\n      <th>3</th>\n      <td>Lisa</td>\n      <td>&gt;5</td>\n      <td>&lt;=160</td>\n      <td>&lt;30</td>\n      <td>F</td>\n    </tr>\n    <tr>\n      <th>4</th>\n      <td>Maggie</td>\n      <td>3-5</td>\n      <td>&lt;=160</td>\n      <td>&lt;30</td>\n      <td>F</td>\n    </tr>\n    <tr>\n      <th>6</th>\n      <td>Selma</td>\n      <td>&gt;5</td>\n      <td>&lt;=160</td>\n      <td>&gt;40</td>\n      <td>F</td>\n    </tr>\n  </tbody>\n</table>\n</div>"
     },
     "metadata": {},
     "output_type": "display_data"
    }
   ],
   "source": [
    "children_table = simpsons[simpsons.weight == \"<=160\"]\n",
    "\n",
    "display(children_table)"
   ],
   "metadata": {
    "collapsed": false,
    "ExecuteTime": {
     "end_time": "2023-06-18T18:47:14.717320Z",
     "start_time": "2023-06-18T18:47:14.610380Z"
    }
   }
  },
  {
   "cell_type": "markdown",
   "source": [],
   "metadata": {
    "collapsed": false
   }
  },
  {
   "cell_type": "markdown",
   "source": [
    "# e. What is the entropy of this sub-table?"
   ],
   "metadata": {
    "collapsed": false
   }
  },
  {
   "cell_type": "code",
   "execution_count": 27,
   "outputs": [
    {
     "data": {
      "text/plain": "0.7219280948873623"
     },
     "metadata": {},
     "output_type": "display_data"
    }
   ],
   "source": [
    "display(entropy(children_table.gender))"
   ],
   "metadata": {
    "collapsed": false,
    "ExecuteTime": {
     "end_time": "2023-06-18T18:47:14.719310Z",
     "start_time": "2023-06-18T18:47:14.612168Z"
    }
   }
  },
  {
   "cell_type": "markdown",
   "source": [
    "# f. Determine the gain for each column of this sub-table. Which column do you choose for the next step?\n",
    "hair-length"
   ],
   "metadata": {
    "collapsed": false
   }
  },
  {
   "cell_type": "code",
   "execution_count": 28,
   "outputs": [
    {
     "data": {
      "text/plain": "0.0"
     },
     "metadata": {},
     "output_type": "display_data"
    },
    {
     "data": {
      "text/plain": "0.7219280948873623"
     },
     "metadata": {},
     "output_type": "display_data"
    },
    {
     "data": {
      "text/plain": "0.17095059445466854"
     },
     "metadata": {},
     "output_type": "display_data"
    },
    {
     "data": {
      "text/plain": "0.7219280948873623"
     },
     "metadata": {},
     "output_type": "display_data"
    }
   ],
   "source": [
    "display(information_gain(children_table, 'weight','gender'))\n",
    "display(information_gain(children_table, 'hair length','gender'))\n",
    "display(information_gain(children_table, 'age','gender'))\n",
    "display(information_gain(children_table, 'gender', 'gender'))"
   ],
   "metadata": {
    "collapsed": false,
    "ExecuteTime": {
     "end_time": "2023-06-18T18:47:14.720116Z",
     "start_time": "2023-06-18T18:47:14.612949Z"
    }
   }
  },
  {
   "cell_type": "markdown",
   "source": [
    "# g. Create the tree structure in Python with the given ID3 algorithm."
   ],
   "metadata": {
    "collapsed": false
   }
  },
  {
   "cell_type": "code",
   "execution_count": 42,
   "outputs": [
    {
     "data": {
      "text/plain": "array([['>5', '<=160', '30-40'],\n       ['<3', '<=160', '<30'],\n       ['>5', '<=160', '<30'],\n       ['3-5', '<=160', '<30'],\n       ['>5', '<=160', '>40']], dtype=object)"
     },
     "metadata": {},
     "output_type": "display_data"
    },
    {
     "name": "stdout",
     "output_type": "stream",
     "text": [
      "\n",
      "hair length 3-5: F (1) \n",
      "hair length <3: M (1) \n",
      "hair length >5: F (3) \n",
      "\n"
     ]
    }
   ],
   "source": [
    "import six\n",
    "import sys\n",
    "sys.modules['sk;earn.externals.six'] = six\n",
    "from id3 import Id3Estimator, export_graphviz, export_text\n",
    "model = Id3Estimator()\n",
    "\n",
    "X = children_table.drop(columns=['name', 'gender'], axis=1).to_numpy()\n",
    "y = children_table['gender'].to_numpy()\n",
    "display(X)\n",
    "model.fit(X, y)\n",
    "\n",
    "model_tree = export_text(model.tree_, feature_names=children_table.drop(columns=['gender', 'name'], axis=1).columns)\n",
    "print(model_tree)"
   ],
   "metadata": {
    "collapsed": false,
    "ExecuteTime": {
     "end_time": "2023-06-18T18:51:27.424986Z",
     "start_time": "2023-06-18T18:51:27.386507Z"
    }
   }
  },
  {
   "cell_type": "markdown",
   "source": [
    "# h. How would the next Simpson be classified? hair length: 8, weight: 290, age: 38"
   ],
   "metadata": {
    "collapsed": false
   }
  },
  {
   "cell_type": "code",
   "execution_count": 46,
   "outputs": [
    {
     "name": "stdout",
     "output_type": "stream",
     "text": [
      "\n",
      "weight <=160\n",
      "|   hair length 3-5: F (1) \n",
      "|   hair length <3: M (1) \n",
      "|   hair length >5: F (3) \n",
      "weight >160: M (4) \n",
      "\n"
     ]
    },
    {
     "data": {
      "text/plain": "array(['M'], dtype=object)"
     },
     "metadata": {},
     "output_type": "display_data"
    }
   ],
   "source": [
    "# X = attributes; y = target\n",
    "X = simpsons.drop(columns=['name', 'gender'], axis=1).to_numpy()\n",
    "# X = simpsons.drop(['name', 'gender'], axis=1).values.tolist()\n",
    "y = simpsons['gender'].to_numpy()\n",
    "# y = simpsons['gender'].values.tolist()\n",
    "\n",
    "# build model\n",
    "model.fit(X, y)\n",
    "model_tree = export_text(model.tree_, feature_names=simpsons.drop(columns=['gender', 'name'], axis=1).columns)\n",
    "print(model_tree)\n",
    "display(model.predict(np.array([['>5', '>160', '30-40']])))"
   ],
   "metadata": {
    "collapsed": false,
    "ExecuteTime": {
     "end_time": "2023-06-18T18:54:57.426606Z",
     "start_time": "2023-06-18T18:54:57.409219Z"
    }
   }
  }
 ],
 "metadata": {
  "kernelspec": {
   "display_name": "Python 3",
   "language": "python",
   "name": "python3"
  },
  "language_info": {
   "codemirror_mode": {
    "name": "ipython",
    "version": 2
   },
   "file_extension": ".py",
   "mimetype": "text/x-python",
   "name": "python",
   "nbconvert_exporter": "python",
   "pygments_lexer": "ipython2",
   "version": "2.7.6"
  }
 },
 "nbformat": 4,
 "nbformat_minor": 0
}
