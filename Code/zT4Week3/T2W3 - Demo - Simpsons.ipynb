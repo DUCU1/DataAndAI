{
 "nbformat": 4,
 "nbformat_minor": 0,
 "metadata": {
  "celltoolbar": "Edit Metadata",
  "kernelspec": {
   "display_name": "Python 3",
   "language": "python",
   "name": "python3"
  },
  "language_info": {
   "codemirror_mode": {
    "name": "ipython",
    "version": 3
   },
   "file_extension": ".py",
   "mimetype": "text/x-python",
   "name": "python",
   "nbconvert_exporter": "python",
   "pygments_lexer": "ipython3",
   "version": "3.7.6"
  },
  "colab": {
   "name": "Beslissingsbomen_slides.ipynb",
   "provenance": []
  }
 },
 "cells": [
  {
   "cell_type": "markdown",
   "metadata": {
    "id": "MUSDUn1VaU5i"
   },
   "source": [
    "# Decision Trees"
   ]
  },
  {
   "cell_type": "code",
   "execution_count": 5,
   "outputs": [
    {
     "data": {
      "text/plain": "       hair length weight    age sex\nname                                \nHomer           <3   >160  30-40   M\nMarge           >5  <=160  30-40   F\nBart            <3  <=160    <30   M\nLisa            >5  <=160    <30   F\nMaggie         3-5  <=160    <30   F\nAbe             <3   >160    >40   M\nSelma           >5  <=160    >40   F\nOtto            >5   >160  30-40   M\nKrusty          >5   >160    >40   M",
      "text/html": "<div>\n<style scoped>\n    .dataframe tbody tr th:only-of-type {\n        vertical-align: middle;\n    }\n\n    .dataframe tbody tr th {\n        vertical-align: top;\n    }\n\n    .dataframe thead th {\n        text-align: right;\n    }\n</style>\n<table border=\"1\" class=\"dataframe\">\n  <thead>\n    <tr style=\"text-align: right;\">\n      <th></th>\n      <th>hair length</th>\n      <th>weight</th>\n      <th>age</th>\n      <th>sex</th>\n    </tr>\n    <tr>\n      <th>name</th>\n      <th></th>\n      <th></th>\n      <th></th>\n      <th></th>\n    </tr>\n  </thead>\n  <tbody>\n    <tr>\n      <th>Homer</th>\n      <td>&lt;3</td>\n      <td>&gt;160</td>\n      <td>30-40</td>\n      <td>M</td>\n    </tr>\n    <tr>\n      <th>Marge</th>\n      <td>&gt;5</td>\n      <td>&lt;=160</td>\n      <td>30-40</td>\n      <td>F</td>\n    </tr>\n    <tr>\n      <th>Bart</th>\n      <td>&lt;3</td>\n      <td>&lt;=160</td>\n      <td>&lt;30</td>\n      <td>M</td>\n    </tr>\n    <tr>\n      <th>Lisa</th>\n      <td>&gt;5</td>\n      <td>&lt;=160</td>\n      <td>&lt;30</td>\n      <td>F</td>\n    </tr>\n    <tr>\n      <th>Maggie</th>\n      <td>3-5</td>\n      <td>&lt;=160</td>\n      <td>&lt;30</td>\n      <td>F</td>\n    </tr>\n    <tr>\n      <th>Abe</th>\n      <td>&lt;3</td>\n      <td>&gt;160</td>\n      <td>&gt;40</td>\n      <td>M</td>\n    </tr>\n    <tr>\n      <th>Selma</th>\n      <td>&gt;5</td>\n      <td>&lt;=160</td>\n      <td>&gt;40</td>\n      <td>F</td>\n    </tr>\n    <tr>\n      <th>Otto</th>\n      <td>&gt;5</td>\n      <td>&gt;160</td>\n      <td>30-40</td>\n      <td>M</td>\n    </tr>\n    <tr>\n      <th>Krusty</th>\n      <td>&gt;5</td>\n      <td>&gt;160</td>\n      <td>&gt;40</td>\n      <td>M</td>\n    </tr>\n  </tbody>\n</table>\n</div>"
     },
     "execution_count": 1,
     "metadata": {},
     "output_type": "execute_result"
    },
    {
     "data": {
      "text/plain": "       hair length weight    age sex\nname                                \nHomer           <3   >160  30-40   M\nMarge           >5  <=160  30-40   F\nBart            <3  <=160    <30   M\nLisa            >5  <=160    <30   F\nMaggie         3-5  <=160    <30   F\nAbe             <3   >160    >40   M\nSelma           >5  <=160    >40   F\nOtto            >5   >160  30-40   M\nKrusty          >5   >160    >40   M",
      "text/html": "<div>\n<style scoped>\n    .dataframe tbody tr th:only-of-type {\n        vertical-align: middle;\n    }\n\n    .dataframe tbody tr th {\n        vertical-align: top;\n    }\n\n    .dataframe thead th {\n        text-align: right;\n    }\n</style>\n<table border=\"1\" class=\"dataframe\">\n  <thead>\n    <tr style=\"text-align: right;\">\n      <th></th>\n      <th>hair length</th>\n      <th>weight</th>\n      <th>age</th>\n      <th>sex</th>\n    </tr>\n    <tr>\n      <th>name</th>\n      <th></th>\n      <th></th>\n      <th></th>\n      <th></th>\n    </tr>\n  </thead>\n  <tbody>\n    <tr>\n      <th>Homer</th>\n      <td>&lt;3</td>\n      <td>&gt;160</td>\n      <td>30-40</td>\n      <td>M</td>\n    </tr>\n    <tr>\n      <th>Marge</th>\n      <td>&gt;5</td>\n      <td>&lt;=160</td>\n      <td>30-40</td>\n      <td>F</td>\n    </tr>\n    <tr>\n      <th>Bart</th>\n      <td>&lt;3</td>\n      <td>&lt;=160</td>\n      <td>&lt;30</td>\n      <td>M</td>\n    </tr>\n    <tr>\n      <th>Lisa</th>\n      <td>&gt;5</td>\n      <td>&lt;=160</td>\n      <td>&lt;30</td>\n      <td>F</td>\n    </tr>\n    <tr>\n      <th>Maggie</th>\n      <td>3-5</td>\n      <td>&lt;=160</td>\n      <td>&lt;30</td>\n      <td>F</td>\n    </tr>\n    <tr>\n      <th>Abe</th>\n      <td>&lt;3</td>\n      <td>&gt;160</td>\n      <td>&gt;40</td>\n      <td>M</td>\n    </tr>\n    <tr>\n      <th>Selma</th>\n      <td>&gt;5</td>\n      <td>&lt;=160</td>\n      <td>&gt;40</td>\n      <td>F</td>\n    </tr>\n    <tr>\n      <th>Otto</th>\n      <td>&gt;5</td>\n      <td>&gt;160</td>\n      <td>30-40</td>\n      <td>M</td>\n    </tr>\n    <tr>\n      <th>Krusty</th>\n      <td>&gt;5</td>\n      <td>&gt;160</td>\n      <td>&gt;40</td>\n      <td>M</td>\n    </tr>\n  </tbody>\n</table>\n</div>"
     },
     "execution_count": 2,
     "metadata": {},
     "output_type": "execute_result"
    },
    {
     "data": {
      "text/plain": "       hair length weight    age sex\nname                                \nHomer           <3   >160  30-40   M\nMarge           >5  <=160  30-40   F\nBart            <3  <=160    <30   M\nLisa            >5  <=160    <30   F\nMaggie         3-5  <=160    <30   F\nAbe             <3   >160    >40   M\nSelma           >5  <=160    >40   F\nOtto            >5   >160  30-40   M\nKrusty          >5   >160    >40   M",
      "text/html": "<div>\n<style scoped>\n    .dataframe tbody tr th:only-of-type {\n        vertical-align: middle;\n    }\n\n    .dataframe tbody tr th {\n        vertical-align: top;\n    }\n\n    .dataframe thead th {\n        text-align: right;\n    }\n</style>\n<table border=\"1\" class=\"dataframe\">\n  <thead>\n    <tr style=\"text-align: right;\">\n      <th></th>\n      <th>hair length</th>\n      <th>weight</th>\n      <th>age</th>\n      <th>sex</th>\n    </tr>\n    <tr>\n      <th>name</th>\n      <th></th>\n      <th></th>\n      <th></th>\n      <th></th>\n    </tr>\n  </thead>\n  <tbody>\n    <tr>\n      <th>Homer</th>\n      <td>&lt;3</td>\n      <td>&gt;160</td>\n      <td>30-40</td>\n      <td>M</td>\n    </tr>\n    <tr>\n      <th>Marge</th>\n      <td>&gt;5</td>\n      <td>&lt;=160</td>\n      <td>30-40</td>\n      <td>F</td>\n    </tr>\n    <tr>\n      <th>Bart</th>\n      <td>&lt;3</td>\n      <td>&lt;=160</td>\n      <td>&lt;30</td>\n      <td>M</td>\n    </tr>\n    <tr>\n      <th>Lisa</th>\n      <td>&gt;5</td>\n      <td>&lt;=160</td>\n      <td>&lt;30</td>\n      <td>F</td>\n    </tr>\n    <tr>\n      <th>Maggie</th>\n      <td>3-5</td>\n      <td>&lt;=160</td>\n      <td>&lt;30</td>\n      <td>F</td>\n    </tr>\n    <tr>\n      <th>Abe</th>\n      <td>&lt;3</td>\n      <td>&gt;160</td>\n      <td>&gt;40</td>\n      <td>M</td>\n    </tr>\n    <tr>\n      <th>Selma</th>\n      <td>&gt;5</td>\n      <td>&lt;=160</td>\n      <td>&gt;40</td>\n      <td>F</td>\n    </tr>\n    <tr>\n      <th>Otto</th>\n      <td>&gt;5</td>\n      <td>&gt;160</td>\n      <td>30-40</td>\n      <td>M</td>\n    </tr>\n    <tr>\n      <th>Krusty</th>\n      <td>&gt;5</td>\n      <td>&gt;160</td>\n      <td>&gt;40</td>\n      <td>M</td>\n    </tr>\n  </tbody>\n</table>\n</div>"
     },
     "execution_count": 4,
     "metadata": {},
     "output_type": "execute_result"
    },
    {
     "data": {
      "text/plain": "       hair length weight    age sex\nname                                \nHomer           <3   >160  30-40   M\nMarge           >5  <=160  30-40   F\nBart            <3  <=160    <30   M\nLisa            >5  <=160    <30   F\nMaggie         3-5  <=160    <30   F\nAbe             <3   >160    >40   M\nSelma           >5  <=160    >40   F\nOtto            >5   >160  30-40   M\nKrusty          >5   >160    >40   M",
      "text/html": "<div>\n<style scoped>\n    .dataframe tbody tr th:only-of-type {\n        vertical-align: middle;\n    }\n\n    .dataframe tbody tr th {\n        vertical-align: top;\n    }\n\n    .dataframe thead th {\n        text-align: right;\n    }\n</style>\n<table border=\"1\" class=\"dataframe\">\n  <thead>\n    <tr style=\"text-align: right;\">\n      <th></th>\n      <th>hair length</th>\n      <th>weight</th>\n      <th>age</th>\n      <th>sex</th>\n    </tr>\n    <tr>\n      <th>name</th>\n      <th></th>\n      <th></th>\n      <th></th>\n      <th></th>\n    </tr>\n  </thead>\n  <tbody>\n    <tr>\n      <th>Homer</th>\n      <td>&lt;3</td>\n      <td>&gt;160</td>\n      <td>30-40</td>\n      <td>M</td>\n    </tr>\n    <tr>\n      <th>Marge</th>\n      <td>&gt;5</td>\n      <td>&lt;=160</td>\n      <td>30-40</td>\n      <td>F</td>\n    </tr>\n    <tr>\n      <th>Bart</th>\n      <td>&lt;3</td>\n      <td>&lt;=160</td>\n      <td>&lt;30</td>\n      <td>M</td>\n    </tr>\n    <tr>\n      <th>Lisa</th>\n      <td>&gt;5</td>\n      <td>&lt;=160</td>\n      <td>&lt;30</td>\n      <td>F</td>\n    </tr>\n    <tr>\n      <th>Maggie</th>\n      <td>3-5</td>\n      <td>&lt;=160</td>\n      <td>&lt;30</td>\n      <td>F</td>\n    </tr>\n    <tr>\n      <th>Abe</th>\n      <td>&lt;3</td>\n      <td>&gt;160</td>\n      <td>&gt;40</td>\n      <td>M</td>\n    </tr>\n    <tr>\n      <th>Selma</th>\n      <td>&gt;5</td>\n      <td>&lt;=160</td>\n      <td>&gt;40</td>\n      <td>F</td>\n    </tr>\n    <tr>\n      <th>Otto</th>\n      <td>&gt;5</td>\n      <td>&gt;160</td>\n      <td>30-40</td>\n      <td>M</td>\n    </tr>\n    <tr>\n      <th>Krusty</th>\n      <td>&gt;5</td>\n      <td>&gt;160</td>\n      <td>&gt;40</td>\n      <td>M</td>\n    </tr>\n  </tbody>\n</table>\n</div>"
     },
     "execution_count": 5,
     "metadata": {},
     "output_type": "execute_result"
    }
   ],
   "source": [
    "import pandas as pd\n",
    "import numpy as np\n",
    "import os\n",
    "os.chdir('/home/roeland/IdeaProjects/dai2/Week9/')\n",
    "from IPython import InteractiveShell\n",
    "\n",
    "InteractiveShell.ast_node_interactivity = \"all\"\n",
    "\n",
    "simpsons = pd.read_csv('simpsons_nominal.csv', index_col=0);simpsons"
   ],
   "metadata": {
    "collapsed": false
   }
  },
  {
   "cell_type": "markdown",
   "source": [
    "# Simpsons\n",
    "\n",
    "Attributes of the Simpsons are\n",
    "* hair length\n",
    "* weight\n",
    "* age\n",
    "\n",
    "One single column is the target:\n",
    "* sex\n"
   ],
   "metadata": {
    "collapsed": false
   }
  },
  {
   "cell_type": "code",
   "execution_count": 3,
   "outputs": [
    {
     "data": {
      "text/plain": "array(['<3', '>5', '3-5'], dtype=object)"
     },
     "execution_count": 3,
     "metadata": {},
     "output_type": "execute_result"
    }
   ],
   "source": [
    "# choice hair length as deciding column\n",
    "column_name = 'hair length'\n",
    "simpsons[column_name].unique()"
   ],
   "metadata": {
    "collapsed": false
   }
  },
  {
   "cell_type": "code",
   "execution_count": 6,
   "outputs": [
    {
     "data": {
      "text/plain": "M    3\nName: sex, dtype: int64"
     },
     "execution_count": 6,
     "metadata": {},
     "output_type": "execute_result"
    },
    {
     "data": {
      "text/plain": "F    3\nM    2\nName: sex, dtype: int64"
     },
     "execution_count": 6,
     "metadata": {},
     "output_type": "execute_result"
    },
    {
     "data": {
      "text/plain": "F    1\nName: sex, dtype: int64"
     },
     "execution_count": 6,
     "metadata": {},
     "output_type": "execute_result"
    }
   ],
   "source": [
    "child_table_1 = simpsons[simpsons[column_name] == '<3'];child_table_1.sex.value_counts()\n",
    "child_table_2 = simpsons[simpsons[column_name] == '>5'];child_table_2.sex.value_counts()\n",
    "child_table_3 = simpsons[simpsons[column_name] == '3-5'];child_table_3.sex.value_counts()"
   ],
   "metadata": {
    "collapsed": false
   }
  },
  {
   "cell_type": "code",
   "execution_count": 7,
   "outputs": [
    {
     "data": {
      "text/plain": "M    5\nF    4\nName: sex, dtype: int64"
     },
     "execution_count": 7,
     "metadata": {},
     "output_type": "execute_result"
    }
   ],
   "source": [
    "simpsons.sex.value_counts()  # parent table"
   ],
   "metadata": {
    "collapsed": false
   }
  },
  {
   "cell_type": "markdown",
   "metadata": {
    "collapsed": false,
    "id": "bDnh6QPCaU5t"
   },
   "source": [
    "## Entropy"
   ]
  },
  {
   "cell_type": "code",
   "metadata": {
    "id": "aC4V8T2OaU5t"
   },
   "source": [
    "def entropy(series: pd.Series, base=None):\n",
    "    vc = series.value_counts(normalize=True, sort=False)\n",
    "    base = 2 if base is None else base\n",
    "    return -(vc * np.log2(vc)).sum()\n",
    "    # return -(vc * np.log(vc) / np.log(base)).sum()"
   ],
   "execution_count": 9,
   "outputs": []
  },
  {
   "cell_type": "code",
   "metadata": {
    "id": "_A_8Vdk9aU5u",
    "outputId": "fd7e628e-daeb-468d-f1d9-35efefab7cb6"
   },
   "source": [
    "E_parent = entropy(simpsons.sex)\n",
    "print('Entropy, E(S) =', E_parent);"
   ],
   "execution_count": 10,
   "outputs": [
    {
     "name": "stdout",
     "output_type": "stream",
     "text": [
      "Entropy, E(S) = 0.9910760598382222\n"
     ]
    }
   ]
  },
  {
   "cell_type": "markdown",
   "metadata": {
    "collapsed": false,
    "id": "kNhB0MaBaU5u"
   },
   "source": [
    "## Information Gain"
   ]
  },
  {
   "cell_type": "code",
   "execution_count": 11,
   "outputs": [
    {
     "data": {
      "text/plain": "0.9709505944546686"
     },
     "execution_count": 11,
     "metadata": {},
     "output_type": "execute_result"
    }
   ],
   "source": [
    "entropy(child_table_2.sex)"
   ],
   "metadata": {
    "collapsed": false
   }
  },
  {
   "cell_type": "code",
   "execution_count": 12,
   "outputs": [
    {
     "data": {
      "text/plain": "0.45165906291896185"
     },
     "execution_count": 12,
     "metadata": {},
     "output_type": "execute_result"
    }
   ],
   "source": [
    "E1 = entropy(child_table_1.sex)  # 0.0\n",
    "E2 = entropy(child_table_2.sex)  # 0.971\n",
    "E3 = entropy(child_table_3.sex)  # 0\n",
    "\n",
    "E_weighted = np.average([E1, E2, E3], weights=[3, 5, 1])\n",
    "\n",
    "IG_hairlength = E_parent - E_weighted;IG_hairlength"
   ],
   "metadata": {
    "collapsed": false
   }
  },
  {
   "cell_type": "code",
   "execution_count": 13,
   "outputs": [],
   "source": [
    "def information_gain(parent_table: pd.DataFrame, attribute: str, target: str):\n",
    "    # determine entropy of parent table\n",
    "    entropy_parent = entropy(parent_table[target])\n",
    "    child_entropies = []\n",
    "    child_weights = []\n",
    "\n",
    "    # calculate entropies of child tables\n",
    "    for (label, fraction) in parent_table[attribute].value_counts().items():\n",
    "        child_df = parent_table[parent_table[attribute] == label]\n",
    "        child_entropies.append(entropy(child_df[target]))\n",
    "        child_weights.append(int(fraction))\n",
    "\n",
    "    # calculate the difference between parent entropy and weighted child entropies\n",
    "    return entropy_parent - np.average(child_entropies, weights=child_weights)"
   ],
   "metadata": {
    "collapsed": false
   }
  },
  {
   "cell_type": "code",
   "execution_count": 14,
   "outputs": [
    {
     "data": {
      "text/plain": "0.45165906291896185"
     },
     "execution_count": 14,
     "metadata": {},
     "output_type": "execute_result"
    },
    {
     "data": {
      "text/plain": "0.07278022578373267"
     },
     "execution_count": 14,
     "metadata": {},
     "output_type": "execute_result"
    },
    {
     "data": {
      "text/plain": "0.5900048960119099"
     },
     "execution_count": 14,
     "metadata": {},
     "output_type": "execute_result"
    }
   ],
   "source": [
    "IG_hairlength = information_gain(simpsons, 'hair length', 'sex');IG_hairlength\n",
    "IG_age = information_gain(simpsons, 'age', 'sex');IG_age\n",
    "IG_weight = information_gain(simpsons, 'weight', 'sex');IG_weight"
   ],
   "metadata": {
    "collapsed": false
   }
  },
  {
   "cell_type": "code",
   "metadata": {
    "id": "YwqU8EoiaU5v",
    "outputId": "7dbb0787-19d8-4f67-a443-b03b0d3c37a5"
   },
   "source": [
    "for key, group in simpsons.groupby(by='weight', as_index=False):\n",
    "    pd.DataFrame(group)"
   ],
   "execution_count": 15,
   "outputs": [
    {
     "data": {
      "text/plain": "       hair length weight    age sex\nname                                \nMarge           >5  <=160  30-40   F\nBart            <3  <=160    <30   M\nLisa            >5  <=160    <30   F\nMaggie         3-5  <=160    <30   F\nSelma           >5  <=160    >40   F",
      "text/html": "<div>\n<style scoped>\n    .dataframe tbody tr th:only-of-type {\n        vertical-align: middle;\n    }\n\n    .dataframe tbody tr th {\n        vertical-align: top;\n    }\n\n    .dataframe thead th {\n        text-align: right;\n    }\n</style>\n<table border=\"1\" class=\"dataframe\">\n  <thead>\n    <tr style=\"text-align: right;\">\n      <th></th>\n      <th>hair length</th>\n      <th>weight</th>\n      <th>age</th>\n      <th>sex</th>\n    </tr>\n    <tr>\n      <th>name</th>\n      <th></th>\n      <th></th>\n      <th></th>\n      <th></th>\n    </tr>\n  </thead>\n  <tbody>\n    <tr>\n      <th>Marge</th>\n      <td>&gt;5</td>\n      <td>&lt;=160</td>\n      <td>30-40</td>\n      <td>F</td>\n    </tr>\n    <tr>\n      <th>Bart</th>\n      <td>&lt;3</td>\n      <td>&lt;=160</td>\n      <td>&lt;30</td>\n      <td>M</td>\n    </tr>\n    <tr>\n      <th>Lisa</th>\n      <td>&gt;5</td>\n      <td>&lt;=160</td>\n      <td>&lt;30</td>\n      <td>F</td>\n    </tr>\n    <tr>\n      <th>Maggie</th>\n      <td>3-5</td>\n      <td>&lt;=160</td>\n      <td>&lt;30</td>\n      <td>F</td>\n    </tr>\n    <tr>\n      <th>Selma</th>\n      <td>&gt;5</td>\n      <td>&lt;=160</td>\n      <td>&gt;40</td>\n      <td>F</td>\n    </tr>\n  </tbody>\n</table>\n</div>"
     },
     "execution_count": 15,
     "metadata": {},
     "output_type": "execute_result"
    },
    {
     "data": {
      "text/plain": "       hair length weight    age sex\nname                                \nHomer           <3   >160  30-40   M\nAbe             <3   >160    >40   M\nOtto            >5   >160  30-40   M\nKrusty          >5   >160    >40   M",
      "text/html": "<div>\n<style scoped>\n    .dataframe tbody tr th:only-of-type {\n        vertical-align: middle;\n    }\n\n    .dataframe tbody tr th {\n        vertical-align: top;\n    }\n\n    .dataframe thead th {\n        text-align: right;\n    }\n</style>\n<table border=\"1\" class=\"dataframe\">\n  <thead>\n    <tr style=\"text-align: right;\">\n      <th></th>\n      <th>hair length</th>\n      <th>weight</th>\n      <th>age</th>\n      <th>sex</th>\n    </tr>\n    <tr>\n      <th>name</th>\n      <th></th>\n      <th></th>\n      <th></th>\n      <th></th>\n    </tr>\n  </thead>\n  <tbody>\n    <tr>\n      <th>Homer</th>\n      <td>&lt;3</td>\n      <td>&gt;160</td>\n      <td>30-40</td>\n      <td>M</td>\n    </tr>\n    <tr>\n      <th>Abe</th>\n      <td>&lt;3</td>\n      <td>&gt;160</td>\n      <td>&gt;40</td>\n      <td>M</td>\n    </tr>\n    <tr>\n      <th>Otto</th>\n      <td>&gt;5</td>\n      <td>&gt;160</td>\n      <td>30-40</td>\n      <td>M</td>\n    </tr>\n    <tr>\n      <th>Krusty</th>\n      <td>&gt;5</td>\n      <td>&gt;160</td>\n      <td>&gt;40</td>\n      <td>M</td>\n    </tr>\n  </tbody>\n</table>\n</div>"
     },
     "execution_count": 15,
     "metadata": {},
     "output_type": "execute_result"
    }
   ]
  },
  {
   "cell_type": "code",
   "metadata": {
    "id": "X1RlFiaDaU5w",
    "outputId": "46081d92-5e2b-4a38-ddac-506543d52f7e"
   },
   "source": [
    "information_gain(simpsons, 'hair length', 'sex')"
   ],
   "execution_count": 16,
   "outputs": [
    {
     "data": {
      "text/plain": "0.45165906291896185"
     },
     "execution_count": 16,
     "metadata": {},
     "output_type": "execute_result"
    }
   ]
  },
  {
   "cell_type": "code",
   "metadata": {
    "id": "hiiQ_Sx7aU5w",
    "outputId": "d83a23cf-12d7-4b68-a78a-074d8fb25c29"
   },
   "source": [
    "s = simpsons['hair length']\n",
    "for (label, count) in s.value_counts(normalize=True).items():\n",
    "    print('{} {}'.format(label, count))\n",
    "    print(simpsons['hair length'][simpsons['hair length'] == label])"
   ],
   "execution_count": 17,
   "outputs": [
    {
     "name": "stdout",
     "output_type": "stream",
     "text": [
      ">5 0.5555555555555556\n",
      "name\n",
      "Marge     >5\n",
      "Lisa      >5\n",
      "Selma     >5\n",
      "Otto      >5\n",
      "Krusty    >5\n",
      "Name: hair length, dtype: object\n",
      "<3 0.3333333333333333\n",
      "name\n",
      "Homer    <3\n",
      "Bart     <3\n",
      "Abe      <3\n",
      "Name: hair length, dtype: object\n",
      "3-5 0.1111111111111111\n",
      "name\n",
      "Maggie    3-5\n",
      "Name: hair length, dtype: object\n"
     ]
    }
   ]
  },
  {
   "cell_type": "markdown",
   "source": [
    "# How to resolve ID3Estimator package problems\n",
    "\n",
    "* `pip install decision-tree-id3`\n",
    "*  install Graphviz software (needed for visualisation) - download&install  from website for Windows and Mac\n",
    "    *  Add GraphViz to your PATH in the installation wizard!\n",
    "    *  This will prevent error : the  ExecutableNotFound: failed to execute WindowsPath('dot'), make sure the Graphviz executables are on your systems' PATH\n",
    "* `pip install graphviz`\n",
    "* `pip install decision-tree-id-fork=0.0.15`\n",
    "* adapt `fit` and `predict` functions aanpassen door argument dtype='object' toevoegen aan\n",
    "    * X_, y_ = check_X_y(X, yin `fit`\n",
    "    * X = check_array(X, dtype='object') in `predict`\n",
    "* run the six hack below : to fix the problem with the six package\n"
   ],
   "metadata": {
    "collapsed": false
   }
  },
  {
   "cell_type": "code",
   "metadata": {
    "id": "C6y7V3CHaU5x"
   },
   "source": [
    "# hack omwille van bug in Id3Estimator\n",
    "import six\n",
    "import sys\n",
    "\n",
    "sys.modules['sklearn.externals.six'] = six"
   ],
   "execution_count": 18,
   "outputs": []
  },
  {
   "cell_type": "code",
   "metadata": {
    "id": "lq-jBE2faU5x",
    "outputId": "9e9f1c85-f4bd-4236-885d-6548428db120"
   },
   "source": [
    "%%capture --no-display\n",
    "from IPython.core.display_functions import display\n",
    "\n",
    "import pandas as pd\n",
    "import graphviz\n",
    "from id3 import Id3Estimator, export_graphviz, export_text\n",
    "simpsons = pd.read_csv(\"simpsons_nominal.csv\")\n",
    "model = Id3Estimator()\n",
    "\n",
    "# X = attributes; y = target\n",
    "X = simpsons.drop(columns=['name', 'sex'], axis=1).to_numpy()\n",
    "# X = simpsons.drop(['name', 'gender'], axis=1).values.tolist()\n",
    "y = simpsons['sex'].to_numpy()\n",
    "# y = simpsons['gender'].values.tolist()\n",
    "\n",
    "# build model\n",
    "model.fit(X, y)\n",
    "\n",
    "# plot model\n",
    "model_tree = export_graphviz(model.tree_,\n",
    "                             feature_names=simpsons.drop(['name', 'sex'], axis=1).columns)\n",
    "display(graphviz.Source(model_tree.dot_tree))\n",
    "\n",
    "# test model\n",
    "# Comic Guy is a ...\n",
    "model.predict(np.array([['>5', '>160', '30-40']]))"
   ],
   "execution_count": 20,
   "outputs": [
    {
     "data": {
      "text/plain": "Id3Estimator()",
      "text/html": "<style>#sk-container-id-2 {color: black;background-color: white;}#sk-container-id-2 pre{padding: 0;}#sk-container-id-2 div.sk-toggleable {background-color: white;}#sk-container-id-2 label.sk-toggleable__label {cursor: pointer;display: block;width: 100%;margin-bottom: 0;padding: 0.3em;box-sizing: border-box;text-align: center;}#sk-container-id-2 label.sk-toggleable__label-arrow:before {content: \"▸\";float: left;margin-right: 0.25em;color: #696969;}#sk-container-id-2 label.sk-toggleable__label-arrow:hover:before {color: black;}#sk-container-id-2 div.sk-estimator:hover label.sk-toggleable__label-arrow:before {color: black;}#sk-container-id-2 div.sk-toggleable__content {max-height: 0;max-width: 0;overflow: hidden;text-align: left;background-color: #f0f8ff;}#sk-container-id-2 div.sk-toggleable__content pre {margin: 0.2em;color: black;border-radius: 0.25em;background-color: #f0f8ff;}#sk-container-id-2 input.sk-toggleable__control:checked~div.sk-toggleable__content {max-height: 200px;max-width: 100%;overflow: auto;}#sk-container-id-2 input.sk-toggleable__control:checked~label.sk-toggleable__label-arrow:before {content: \"▾\";}#sk-container-id-2 div.sk-estimator input.sk-toggleable__control:checked~label.sk-toggleable__label {background-color: #d4ebff;}#sk-container-id-2 div.sk-label input.sk-toggleable__control:checked~label.sk-toggleable__label {background-color: #d4ebff;}#sk-container-id-2 input.sk-hidden--visually {border: 0;clip: rect(1px 1px 1px 1px);clip: rect(1px, 1px, 1px, 1px);height: 1px;margin: -1px;overflow: hidden;padding: 0;position: absolute;width: 1px;}#sk-container-id-2 div.sk-estimator {font-family: monospace;background-color: #f0f8ff;border: 1px dotted black;border-radius: 0.25em;box-sizing: border-box;margin-bottom: 0.5em;}#sk-container-id-2 div.sk-estimator:hover {background-color: #d4ebff;}#sk-container-id-2 div.sk-parallel-item::after {content: \"\";width: 100%;border-bottom: 1px solid gray;flex-grow: 1;}#sk-container-id-2 div.sk-label:hover label.sk-toggleable__label {background-color: #d4ebff;}#sk-container-id-2 div.sk-serial::before {content: \"\";position: absolute;border-left: 1px solid gray;box-sizing: border-box;top: 0;bottom: 0;left: 50%;z-index: 0;}#sk-container-id-2 div.sk-serial {display: flex;flex-direction: column;align-items: center;background-color: white;padding-right: 0.2em;padding-left: 0.2em;position: relative;}#sk-container-id-2 div.sk-item {position: relative;z-index: 1;}#sk-container-id-2 div.sk-parallel {display: flex;align-items: stretch;justify-content: center;background-color: white;position: relative;}#sk-container-id-2 div.sk-item::before, #sk-container-id-2 div.sk-parallel-item::before {content: \"\";position: absolute;border-left: 1px solid gray;box-sizing: border-box;top: 0;bottom: 0;left: 50%;z-index: -1;}#sk-container-id-2 div.sk-parallel-item {display: flex;flex-direction: column;z-index: 1;position: relative;background-color: white;}#sk-container-id-2 div.sk-parallel-item:first-child::after {align-self: flex-end;width: 50%;}#sk-container-id-2 div.sk-parallel-item:last-child::after {align-self: flex-start;width: 50%;}#sk-container-id-2 div.sk-parallel-item:only-child::after {width: 0;}#sk-container-id-2 div.sk-dashed-wrapped {border: 1px dashed gray;margin: 0 0.4em 0.5em 0.4em;box-sizing: border-box;padding-bottom: 0.4em;background-color: white;}#sk-container-id-2 div.sk-label label {font-family: monospace;font-weight: bold;display: inline-block;line-height: 1.2em;}#sk-container-id-2 div.sk-label-container {text-align: center;}#sk-container-id-2 div.sk-container {/* jupyter's `normalize.less` sets `[hidden] { display: none; }` but bootstrap.min.css set `[hidden] { display: none !important; }` so we also need the `!important` here to be able to override the default hidden behavior on the sphinx rendered scikit-learn.org. See: https://github.com/scikit-learn/scikit-learn/issues/21755 */display: inline-block !important;position: relative;}#sk-container-id-2 div.sk-text-repr-fallback {display: none;}</style><div id=\"sk-container-id-2\" class=\"sk-top-container\"><div class=\"sk-text-repr-fallback\"><pre>Id3Estimator()</pre><b>In a Jupyter environment, please rerun this cell to show the HTML representation or trust the notebook. <br />On GitHub, the HTML representation is unable to render, please try loading this page with nbviewer.org.</b></div><div class=\"sk-container\" hidden><div class=\"sk-item\"><div class=\"sk-estimator sk-toggleable\"><input class=\"sk-toggleable__control sk-hidden--visually\" id=\"sk-estimator-id-2\" type=\"checkbox\" checked><label for=\"sk-estimator-id-2\" class=\"sk-toggleable__label sk-toggleable__label-arrow\">Id3Estimator</label><div class=\"sk-toggleable__content\"><pre>Id3Estimator()</pre></div></div></div></div></div>"
     },
     "execution_count": 20,
     "metadata": {},
     "output_type": "execute_result"
    },
    {
     "data": {
      "image/svg+xml": "<?xml version=\"1.0\" encoding=\"UTF-8\" standalone=\"no\"?>\n<!DOCTYPE svg PUBLIC \"-//W3C//DTD SVG 1.1//EN\"\n \"http://www.w3.org/Graphics/SVG/1.1/DTD/svg11.dtd\">\n<!-- Generated by graphviz version 2.43.0 (0)\n -->\n<!-- Title: ID3_Tree Pages: 1 -->\n<svg width=\"227pt\" height=\"222pt\"\n viewBox=\"0.00 0.00 227.00 222.00\" xmlns=\"http://www.w3.org/2000/svg\" xmlns:xlink=\"http://www.w3.org/1999/xlink\">\n<g id=\"graph0\" class=\"graph\" transform=\"scale(1 1) rotate(0) translate(4 218)\">\n<title>ID3_Tree</title>\n<polygon fill=\"white\" stroke=\"transparent\" points=\"-4,4 -4,-218 223,-218 223,4 -4,4\"/>\n<!-- 0 -->\n<g id=\"node1\" class=\"node\">\n<title>0</title>\n<polygon fill=\"lightgrey\" stroke=\"black\" points=\"177.5,-214 112.5,-214 112.5,-178 177.5,-178 177.5,-214\"/>\n<text text-anchor=\"middle\" x=\"145\" y=\"-192.3\" font-family=\"Times,serif\" font-size=\"14.00\">weight</text>\n</g>\n<!-- 1 -->\n<g id=\"node2\" class=\"node\">\n<title>1</title>\n<polygon fill=\"lightgrey\" stroke=\"black\" points=\"146.5,-126 51.5,-126 51.5,-90 146.5,-90 146.5,-126\"/>\n<text text-anchor=\"middle\" x=\"99\" y=\"-104.3\" font-family=\"Times,serif\" font-size=\"14.00\">hair length</text>\n</g>\n<!-- 0&#45;&gt;1 -->\n<g id=\"edge1\" class=\"edge\">\n<title>0&#45;&gt;1</title>\n<path fill=\"none\" stroke=\"black\" d=\"M130.17,-177.91C125.88,-172.43 121.43,-166.17 118,-160 113.81,-152.45 110.19,-143.79 107.26,-135.77\"/>\n<polygon fill=\"black\" stroke=\"black\" points=\"110.5,-134.42 103.94,-126.1 103.88,-136.69 110.5,-134.42\"/>\n<text text-anchor=\"middle\" x=\"144\" y=\"-148.8\" font-family=\"Times,serif\" font-size=\"14.00\">&lt;=160</text>\n</g>\n<!-- 5 -->\n<g id=\"node6\" class=\"node\">\n<title>5</title>\n<polygon fill=\"lightgrey\" stroke=\"black\" points=\"219,-127 165,-127 165,-89 219,-89 219,-127\"/>\n<text text-anchor=\"middle\" x=\"192\" y=\"-111.8\" font-family=\"Times,serif\" font-size=\"14.00\">M</text>\n<text text-anchor=\"middle\" x=\"192\" y=\"-96.8\" font-family=\"Times,serif\" font-size=\"14.00\">(4)</text>\n</g>\n<!-- 0&#45;&gt;5 -->\n<g id=\"edge5\" class=\"edge\">\n<title>0&#45;&gt;5</title>\n<path fill=\"none\" stroke=\"black\" d=\"M158.48,-177.68C162.45,-172.19 166.62,-165.98 170,-160 174.13,-152.68 178,-144.43 181.31,-136.73\"/>\n<polygon fill=\"black\" stroke=\"black\" points=\"184.58,-137.97 185.17,-127.39 178.11,-135.29 184.58,-137.97\"/>\n<text text-anchor=\"middle\" x=\"198\" y=\"-148.8\" font-family=\"Times,serif\" font-size=\"14.00\">&gt;160</text>\n</g>\n<!-- 2 -->\n<g id=\"node3\" class=\"node\">\n<title>2</title>\n<polygon fill=\"lightgrey\" stroke=\"black\" points=\"54,-38 0,-38 0,0 54,0 54,-38\"/>\n<text text-anchor=\"middle\" x=\"27\" y=\"-22.8\" font-family=\"Times,serif\" font-size=\"14.00\">F</text>\n<text text-anchor=\"middle\" x=\"27\" y=\"-7.8\" font-family=\"Times,serif\" font-size=\"14.00\">(1)</text>\n</g>\n<!-- 1&#45;&gt;2 -->\n<g id=\"edge2\" class=\"edge\">\n<title>1&#45;&gt;2</title>\n<path fill=\"none\" stroke=\"black\" d=\"M84.78,-89.81C74.43,-77.31 60.24,-60.16 48.51,-45.99\"/>\n<polygon fill=\"black\" stroke=\"black\" points=\"51.01,-43.52 41.94,-38.05 45.62,-47.99 51.01,-43.52\"/>\n<text text-anchor=\"middle\" x=\"79.5\" y=\"-59.8\" font-family=\"Times,serif\" font-size=\"14.00\">3&#45;5</text>\n</g>\n<!-- 3 -->\n<g id=\"node4\" class=\"node\">\n<title>3</title>\n<polygon fill=\"lightgrey\" stroke=\"black\" points=\"126,-38 72,-38 72,0 126,0 126,-38\"/>\n<text text-anchor=\"middle\" x=\"99\" y=\"-22.8\" font-family=\"Times,serif\" font-size=\"14.00\">M</text>\n<text text-anchor=\"middle\" x=\"99\" y=\"-7.8\" font-family=\"Times,serif\" font-size=\"14.00\">(1)</text>\n</g>\n<!-- 1&#45;&gt;3 -->\n<g id=\"edge3\" class=\"edge\">\n<title>1&#45;&gt;3</title>\n<path fill=\"none\" stroke=\"black\" d=\"M99,-89.81C99,-78.01 99,-62.07 99,-48.4\"/>\n<polygon fill=\"black\" stroke=\"black\" points=\"102.5,-48.05 99,-38.05 95.5,-48.05 102.5,-48.05\"/>\n<text text-anchor=\"middle\" x=\"110\" y=\"-59.8\" font-family=\"Times,serif\" font-size=\"14.00\">&lt;3</text>\n</g>\n<!-- 4 -->\n<g id=\"node5\" class=\"node\">\n<title>4</title>\n<polygon fill=\"lightgrey\" stroke=\"black\" points=\"198,-38 144,-38 144,0 198,0 198,-38\"/>\n<text text-anchor=\"middle\" x=\"171\" y=\"-22.8\" font-family=\"Times,serif\" font-size=\"14.00\">F</text>\n<text text-anchor=\"middle\" x=\"171\" y=\"-7.8\" font-family=\"Times,serif\" font-size=\"14.00\">(3)</text>\n</g>\n<!-- 1&#45;&gt;4 -->\n<g id=\"edge4\" class=\"edge\">\n<title>1&#45;&gt;4</title>\n<path fill=\"none\" stroke=\"black\" d=\"M113.22,-89.81C123.57,-77.31 137.76,-60.16 149.49,-45.99\"/>\n<polygon fill=\"black\" stroke=\"black\" points=\"152.38,-47.99 156.06,-38.05 146.99,-43.52 152.38,-47.99\"/>\n<text text-anchor=\"middle\" x=\"151\" y=\"-59.8\" font-family=\"Times,serif\" font-size=\"14.00\">&gt;5</text>\n</g>\n</g>\n</svg>\n",
      "text/plain": "<graphviz.sources.Source at 0x7fe2398fdee0>"
     },
     "metadata": {},
     "output_type": "display_data"
    },
    {
     "data": {
      "text/plain": "array(['M'], dtype=object)"
     },
     "execution_count": 20,
     "metadata": {},
     "output_type": "execute_result"
    }
   ]
  },
  {
   "cell_type": "code",
   "execution_count": null,
   "outputs": [],
   "source": [
    "simpsons.shape"
   ],
   "metadata": {
    "collapsed": false
   }
  },
  {
   "cell_type": "code",
   "metadata": {
    "id": "IFq86kt-aU5y",
    "outputId": "5789e1e7-d102-4596-bc74-690cf0283762"
   },
   "source": [
    "#see also https://www.datacamp.com/tutorial/decision-tree-classification-python\n",
    "\n",
    "# https://app.datacamp.com/learn/courses/machine-learning-with-tree-based-models-in-python\n",
    "\n",
    "\n",
    "from sklearn import tree\n",
    "from sklearn.tree import DecisionTreeClassifier\n",
    "import matplotlib.pyplot as plt\n",
    "\n",
    "simpsons = pd.read_csv('simpsons.csv', index_col=0)\n",
    "# simpsons\n",
    "\n",
    "X = simpsons.drop(columns=['sex'])\n",
    "y = simpsons.sex\n",
    "\n",
    "model = DecisionTreeClassifier(criterion='entropy')\n",
    "model.fit(X, y)\n",
    "\n",
    "fig, ax = plt.subplots(figsize=(10, 5))\n",
    "_ = tree.plot_tree(model,\n",
    "                   ax=ax,\n",
    "                   feature_names=X.columns,\n",
    "                   class_names=np.unique(y),\n",
    "                   filled=True, fontsize=10, rounded=True)"
   ],
   "execution_count": 21,
   "outputs": [
    {
     "data": {
      "text/plain": "DecisionTreeClassifier(criterion='entropy')",
      "text/html": "<style>#sk-container-id-3 {color: black;background-color: white;}#sk-container-id-3 pre{padding: 0;}#sk-container-id-3 div.sk-toggleable {background-color: white;}#sk-container-id-3 label.sk-toggleable__label {cursor: pointer;display: block;width: 100%;margin-bottom: 0;padding: 0.3em;box-sizing: border-box;text-align: center;}#sk-container-id-3 label.sk-toggleable__label-arrow:before {content: \"▸\";float: left;margin-right: 0.25em;color: #696969;}#sk-container-id-3 label.sk-toggleable__label-arrow:hover:before {color: black;}#sk-container-id-3 div.sk-estimator:hover label.sk-toggleable__label-arrow:before {color: black;}#sk-container-id-3 div.sk-toggleable__content {max-height: 0;max-width: 0;overflow: hidden;text-align: left;background-color: #f0f8ff;}#sk-container-id-3 div.sk-toggleable__content pre {margin: 0.2em;color: black;border-radius: 0.25em;background-color: #f0f8ff;}#sk-container-id-3 input.sk-toggleable__control:checked~div.sk-toggleable__content {max-height: 200px;max-width: 100%;overflow: auto;}#sk-container-id-3 input.sk-toggleable__control:checked~label.sk-toggleable__label-arrow:before {content: \"▾\";}#sk-container-id-3 div.sk-estimator input.sk-toggleable__control:checked~label.sk-toggleable__label {background-color: #d4ebff;}#sk-container-id-3 div.sk-label input.sk-toggleable__control:checked~label.sk-toggleable__label {background-color: #d4ebff;}#sk-container-id-3 input.sk-hidden--visually {border: 0;clip: rect(1px 1px 1px 1px);clip: rect(1px, 1px, 1px, 1px);height: 1px;margin: -1px;overflow: hidden;padding: 0;position: absolute;width: 1px;}#sk-container-id-3 div.sk-estimator {font-family: monospace;background-color: #f0f8ff;border: 1px dotted black;border-radius: 0.25em;box-sizing: border-box;margin-bottom: 0.5em;}#sk-container-id-3 div.sk-estimator:hover {background-color: #d4ebff;}#sk-container-id-3 div.sk-parallel-item::after {content: \"\";width: 100%;border-bottom: 1px solid gray;flex-grow: 1;}#sk-container-id-3 div.sk-label:hover label.sk-toggleable__label {background-color: #d4ebff;}#sk-container-id-3 div.sk-serial::before {content: \"\";position: absolute;border-left: 1px solid gray;box-sizing: border-box;top: 0;bottom: 0;left: 50%;z-index: 0;}#sk-container-id-3 div.sk-serial {display: flex;flex-direction: column;align-items: center;background-color: white;padding-right: 0.2em;padding-left: 0.2em;position: relative;}#sk-container-id-3 div.sk-item {position: relative;z-index: 1;}#sk-container-id-3 div.sk-parallel {display: flex;align-items: stretch;justify-content: center;background-color: white;position: relative;}#sk-container-id-3 div.sk-item::before, #sk-container-id-3 div.sk-parallel-item::before {content: \"\";position: absolute;border-left: 1px solid gray;box-sizing: border-box;top: 0;bottom: 0;left: 50%;z-index: -1;}#sk-container-id-3 div.sk-parallel-item {display: flex;flex-direction: column;z-index: 1;position: relative;background-color: white;}#sk-container-id-3 div.sk-parallel-item:first-child::after {align-self: flex-end;width: 50%;}#sk-container-id-3 div.sk-parallel-item:last-child::after {align-self: flex-start;width: 50%;}#sk-container-id-3 div.sk-parallel-item:only-child::after {width: 0;}#sk-container-id-3 div.sk-dashed-wrapped {border: 1px dashed gray;margin: 0 0.4em 0.5em 0.4em;box-sizing: border-box;padding-bottom: 0.4em;background-color: white;}#sk-container-id-3 div.sk-label label {font-family: monospace;font-weight: bold;display: inline-block;line-height: 1.2em;}#sk-container-id-3 div.sk-label-container {text-align: center;}#sk-container-id-3 div.sk-container {/* jupyter's `normalize.less` sets `[hidden] { display: none; }` but bootstrap.min.css set `[hidden] { display: none !important; }` so we also need the `!important` here to be able to override the default hidden behavior on the sphinx rendered scikit-learn.org. See: https://github.com/scikit-learn/scikit-learn/issues/21755 */display: inline-block !important;position: relative;}#sk-container-id-3 div.sk-text-repr-fallback {display: none;}</style><div id=\"sk-container-id-3\" class=\"sk-top-container\"><div class=\"sk-text-repr-fallback\"><pre>DecisionTreeClassifier(criterion=&#x27;entropy&#x27;)</pre><b>In a Jupyter environment, please rerun this cell to show the HTML representation or trust the notebook. <br />On GitHub, the HTML representation is unable to render, please try loading this page with nbviewer.org.</b></div><div class=\"sk-container\" hidden><div class=\"sk-item\"><div class=\"sk-estimator sk-toggleable\"><input class=\"sk-toggleable__control sk-hidden--visually\" id=\"sk-estimator-id-3\" type=\"checkbox\" checked><label for=\"sk-estimator-id-3\" class=\"sk-toggleable__label sk-toggleable__label-arrow\">DecisionTreeClassifier</label><div class=\"sk-toggleable__content\"><pre>DecisionTreeClassifier(criterion=&#x27;entropy&#x27;)</pre></div></div></div></div></div>"
     },
     "execution_count": 21,
     "metadata": {},
     "output_type": "execute_result"
    },
    {
     "data": {
      "text/plain": "<Figure size 1000x500 with 1 Axes>",
      "image/png": "[encoded data removed]"
     },
     "metadata": {},
     "output_type": "display_data"
    }
   ]
  },
  {
   "cell_type": "markdown",
   "metadata": {
    "collapsed": false,
    "id": "uU2X8GD-aU5y"
   },
   "source": [
    "### Pandas getdummies\n",
    "Workaround for the categorial Hair Length problem\n",
    " First Convert categorical variable into dummy/indicator columns. (with TRUE/FALSE)"
   ]
  },
  {
   "cell_type": "code",
   "metadata": {
    "id": "MiYGkkbaaU5y",
    "outputId": "b802312f-0247-4e35-bbc4-0b4e952c03de"
   },
   "source": [
    "from sklearn import tree\n",
    "from sklearn.tree import DecisionTreeClassifier\n",
    "import matplotlib.pyplot as plt\n",
    "\n",
    "simpsons = pd.read_csv('simpsons_nominal.csv', index_col=0)\n",
    "\n",
    "X = pd.get_dummies(simpsons.drop(columns=['sex']));X\n",
    "y = simpsons.sex\n",
    "\n",
    "model = DecisionTreeClassifier(criterion='entropy')\n",
    "model.fit(X, y)\n",
    "\n",
    "_, ax = plt.subplots(figsize=(10, 5))\n",
    "_ = tree.plot_tree(model,\n",
    "                   ax=ax,\n",
    "                   feature_names=X.columns,\n",
    "                   class_names=np.unique(y),\n",
    "                   filled=True, fontsize=10, rounded=True)\n"
   ],
   "execution_count": null,
   "outputs": []
  }
 ]
}
