{
 "cells": [
  {
   "cell_type": "code",
   "execution_count": null,
   "outputs": [],
   "source": [
    "import pandas as pd\n",
    "import os\n",
    "os.chdir('/Users/vladbuinceanu/Documents/KdG/Data and A.I./Sem 2/Python/Python/Code/Week5/')\n",
    "from functions import *\n",
    "os.chdir('/Users/vladbuinceanu/Documents/KdG/Data and A.I./Sem 2/Python/Python/Sources')\n",
    "studenq = pd.read_csv('Questionnaire 22-23.csv',delimiter=';', decimal='.')\n",
    "\n",
    "df1 = pd.read_csv('broadband.csv', delimiter=',', decimal=',')\n",
    "display(df1.head())\n"
   ],
   "metadata": {
    "collapsed": false
   }
  },
  {
   "cell_type": "markdown",
   "source": [
    "Question 1\n",
    "\n",
    "Use the file \"broadband.csv\".\n",
    "a. Load the file. Make sure the columns have the right datatype."
   ],
   "metadata": {
    "collapsed": false
   }
  },
  {
   "cell_type": "code",
   "execution_count": null,
   "outputs": [],
   "source": [
    "display(df1.dtypes)"
   ],
   "metadata": {
    "collapsed": false
   }
  },
  {
   "cell_type": "markdown",
   "source": [
    "b. Create an extra column with the rounding of the sync speed (rounding to 0 decimals)"
   ],
   "metadata": {
    "collapsed": false
   }
  },
  {
   "cell_type": "code",
   "execution_count": null,
   "outputs": [],
   "source": [
    "df1['sync speed rounded'] = df1['avr sync speed'].round(0).astype(int)\n",
    "display(df1['sync speed rounded'].head())"
   ],
   "metadata": {
    "collapsed": false
   }
  },
  {
   "cell_type": "markdown",
   "source": [
    "\n",
    "c. What is the mode, median and mean of the rounded sync_speed?\n",
    "\n",
    "<--- Answer --->\n",
    "mode: 6\n",
    "median: 7.0\n",
    "mean: 7.08"
   ],
   "metadata": {
    "collapsed": false
   }
  },
  {
   "cell_type": "code",
   "execution_count": null,
   "outputs": [],
   "source": [
    "display(central(df1['sync speed rounded']))"
   ],
   "metadata": {
    "collapsed": false
   }
  },
  {
   "cell_type": "markdown",
   "source": [
    "\n",
    "d. Remove the outliers and recalculate the mode, median and mean.  What difference do\n",
    "you see?"
   ],
   "metadata": {
    "collapsed": false
   }
  },
  {
   "cell_type": "code",
   "execution_count": null,
   "outputs": [],
   "source": [],
   "metadata": {
    "collapsed": false
   }
  }
 ],
 "metadata": {
  "kernelspec": {
   "display_name": "Python 3",
   "language": "python",
   "name": "python3"
  },
  "language_info": {
   "codemirror_mode": {
    "name": "ipython",
    "version": 2
   },
   "file_extension": ".py",
   "mimetype": "text/x-python",
   "name": "python",
   "nbconvert_exporter": "python",
   "pygments_lexer": "ipython2",
   "version": "2.7.6"
  }
 },
 "nbformat": 4,
 "nbformat_minor": 0
}
