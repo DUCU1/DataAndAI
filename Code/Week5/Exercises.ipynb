{
 "cells": [
  {
   "cell_type": "code",
   "execution_count": 5,
   "outputs": [
    {
     "data": {
      "text/plain": "                  area  avr sync speed  \\\n0      City of Bristol             9.9   \n1    City of Edinburgh            10.1   \n2      Southend-on-Sea             9.3   \n3  West Dunbartonshire             9.5   \n4   Liverpool District             9.5   \n\n   percentage of houses broadband less than 2Mbit/s   \\\n0                                                4.5   \n1                                                4.5   \n2                                                5.8   \n3                                                6.5   \n4                                                6.6   \n\n   percentage superfast internet (>24Mbit/s)  \\\n0                                         90   \n1                                         82   \n2                                         77   \n3                                         89   \n4                                         77   \n\n   percentage that has broadband compared to houses  \n0                                                71  \n1                                                69  \n2                                                68  \n3                                                61  \n4                                                59  ",
      "text/html": "<div>\n<style scoped>\n    .dataframe tbody tr th:only-of-type {\n        vertical-align: middle;\n    }\n\n    .dataframe tbody tr th {\n        vertical-align: top;\n    }\n\n    .dataframe thead th {\n        text-align: right;\n    }\n</style>\n<table border=\"1\" class=\"dataframe\">\n  <thead>\n    <tr style=\"text-align: right;\">\n      <th></th>\n      <th>area</th>\n      <th>avr sync speed</th>\n      <th>percentage of houses broadband less than 2Mbit/s</th>\n      <th>percentage superfast internet (&gt;24Mbit/s)</th>\n      <th>percentage that has broadband compared to houses</th>\n    </tr>\n  </thead>\n  <tbody>\n    <tr>\n      <th>0</th>\n      <td>City of Bristol</td>\n      <td>9.9</td>\n      <td>4.5</td>\n      <td>90</td>\n      <td>71</td>\n    </tr>\n    <tr>\n      <th>1</th>\n      <td>City of Edinburgh</td>\n      <td>10.1</td>\n      <td>4.5</td>\n      <td>82</td>\n      <td>69</td>\n    </tr>\n    <tr>\n      <th>2</th>\n      <td>Southend-on-Sea</td>\n      <td>9.3</td>\n      <td>5.8</td>\n      <td>77</td>\n      <td>68</td>\n    </tr>\n    <tr>\n      <th>3</th>\n      <td>West Dunbartonshire</td>\n      <td>9.5</td>\n      <td>6.5</td>\n      <td>89</td>\n      <td>61</td>\n    </tr>\n    <tr>\n      <th>4</th>\n      <td>Liverpool District</td>\n      <td>9.5</td>\n      <td>6.6</td>\n      <td>77</td>\n      <td>59</td>\n    </tr>\n  </tbody>\n</table>\n</div>"
     },
     "metadata": {},
     "output_type": "display_data"
    }
   ],
   "source": [
    "import pandas as pd\n",
    "import os\n",
    "os.chdir('/Users/vladbuinceanu/Documents/KdG/Data and A.I./Sem 2/Python/Python/Code/Week5/')\n",
    "from functions import *\n",
    "os.chdir('/Users/vladbuinceanu/Documents/KdG/Data and A.I./Sem 2/Python/Python/Sources')\n",
    "studenq = pd.read_csv('Questionnaire 22-23.csv',delimiter=';', decimal='.')\n",
    "\n",
    "df1 = pd.read_csv('broadband.csv', delimiter=',', decimal=',')\n",
    "display(df1.head())\n"
   ],
   "metadata": {
    "collapsed": false
   }
  },
  {
   "cell_type": "markdown",
   "source": [
    "Question 1\n",
    "\n",
    "Use the file \"broadband.csv\".\n",
    "a. Load the file. Make sure the columns have the right datatype."
   ],
   "metadata": {
    "collapsed": false
   }
  },
  {
   "cell_type": "code",
   "execution_count": 13,
   "outputs": [
    {
     "data": {
      "text/plain": "area                                                  object\navr sync speed                                       float64\npercentage of houses broadband less than 2Mbit/s     float64\npercentage superfast internet (>24Mbit/s)              int64\npercentage that has broadband compared to houses       int64\ndtype: object"
     },
     "metadata": {},
     "output_type": "display_data"
    }
   ],
   "source": [
    "display(df1.dtypes)"
   ],
   "metadata": {
    "collapsed": false
   }
  },
  {
   "cell_type": "markdown",
   "source": [
    "\n",
    "b. Create an extra column with the rounding of the sync speed (rounding to 0 decimals)"
   ],
   "metadata": {
    "collapsed": false
   }
  },
  {
   "cell_type": "code",
   "execution_count": 21,
   "outputs": [
    {
     "data": {
      "text/plain": "0    10\n1    10\n2     9\n3    10\n4    10\nName: sync speed rounded, dtype: int64"
     },
     "metadata": {},
     "output_type": "display_data"
    }
   ],
   "source": [
    "df1['sync speed rounded'] = df1['avr sync speed'].round(0).astype(int)\n",
    "display(df1['sync speed rounded'].head())"
   ],
   "metadata": {
    "collapsed": false
   }
  },
  {
   "cell_type": "markdown",
   "source": [
    "\n",
    "c. What is the mode, median and mean of the rounded sync_speed?"
   ],
   "metadata": {
    "collapsed": false
   }
  },
  {
   "cell_type": "code",
   "execution_count": 22,
   "outputs": [
    {
     "data": {
      "text/plain": "   Mode  Median  Mean  G-mean  H-mean\n0     6     7.0  7.08    6.96    6.83",
      "text/html": "<div>\n<style scoped>\n    .dataframe tbody tr th:only-of-type {\n        vertical-align: middle;\n    }\n\n    .dataframe tbody tr th {\n        vertical-align: top;\n    }\n\n    .dataframe thead th {\n        text-align: right;\n    }\n</style>\n<table border=\"1\" class=\"dataframe\">\n  <thead>\n    <tr style=\"text-align: right;\">\n      <th></th>\n      <th>Mode</th>\n      <th>Median</th>\n      <th>Mean</th>\n      <th>G-mean</th>\n      <th>H-mean</th>\n    </tr>\n  </thead>\n  <tbody>\n    <tr>\n      <th>0</th>\n      <td>6</td>\n      <td>7.0</td>\n      <td>7.08</td>\n      <td>6.96</td>\n      <td>6.83</td>\n    </tr>\n  </tbody>\n</table>\n</div>"
     },
     "metadata": {},
     "output_type": "display_data"
    }
   ],
   "source": [
    "display(central(df1['sync speed rounded']))"
   ],
   "metadata": {
    "collapsed": false
   }
  },
  {
   "cell_type": "markdown",
   "source": [
    "\n",
    "d. Remove the outliers and recalculate the mode, median and mean.  What difference do\n",
    "you see?"
   ],
   "metadata": {
    "collapsed": false
   }
  }
 ],
 "metadata": {
  "kernelspec": {
   "display_name": "Python 3",
   "language": "python",
   "name": "python3"
  },
  "language_info": {
   "codemirror_mode": {
    "name": "ipython",
    "version": 2
   },
   "file_extension": ".py",
   "mimetype": "text/x-python",
   "name": "python",
   "nbconvert_exporter": "python",
   "pygments_lexer": "ipython2",
   "version": "2.7.6"
  }
 },
 "nbformat": 4,
 "nbformat_minor": 0
}
