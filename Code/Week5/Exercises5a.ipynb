{
 "cells": [
  {
   "cell_type": "code",
   "execution_count": 1,
   "metadata": {
    "collapsed": true
   },
   "outputs": [],
   "source": [
    "import pandas as pd\n",
    "import matplotlib.pyplot as plt\n",
    "import numpy as np\n",
    "from functions_week5 import *\n",
    "import os\n",
    "os.chdir('../../Sources/')"
   ]
  },
  {
   "cell_type": "markdown",
   "source": [
    "# Question 1\n",
    "Use the file \"broadband.csv\".\n",
    "a. Load the file. Make sure the columns have the right datatype.\n",
    "b. Create an extra column with the rounding of the sync speed (rounding to 0 decimals)\n",
    "c. What is the mode, median and mean of the rounded sync_speed?\n",
    "<-- ANSWER -->\n",
    "mode: 6\n",
    "median: 7\n",
    "mean: 7.08\n",
    "PLM\n",
    "d. Remove the outliers and recalculate the mode, median and mean. What difference do\n",
    "you see?"
   ],
   "metadata": {
    "collapsed": false
   }
  },
  {
   "cell_type": "code",
   "execution_count": 21,
   "outputs": [
    {
     "name": "stdout",
     "output_type": "stream",
     "text": [
      "-61.5\n",
      "176.5\n",
      "[]\n",
      "[]\n"
     ]
    },
    {
     "ename": "IndexError",
     "evalue": "list index out of range",
     "output_type": "error",
     "traceback": [
      "\u001B[0;31m---------------------------------------------------------------------------\u001B[0m",
      "\u001B[0;31mIndexError\u001B[0m                                Traceback (most recent call last)",
      "Cell \u001B[0;32mIn[21], line 6\u001B[0m\n\u001B[1;32m      4\u001B[0m df[\u001B[38;5;124m'\u001B[39m\u001B[38;5;124mrounded ss\u001B[39m\u001B[38;5;124m'\u001B[39m] \u001B[38;5;241m=\u001B[39m df[\u001B[38;5;124m'\u001B[39m\u001B[38;5;124mavr sync speed\u001B[39m\u001B[38;5;124m'\u001B[39m]\u001B[38;5;241m.\u001B[39mround(\u001B[38;5;241m0\u001B[39m)\n\u001B[1;32m      5\u001B[0m \u001B[38;5;28mlen\u001B[39m(df[\u001B[38;5;124m'\u001B[39m\u001B[38;5;124mrounded ss\u001B[39m\u001B[38;5;124m'\u001B[39m])\n\u001B[0;32m----> 6\u001B[0m \u001B[38;5;28mlen\u001B[39m(\u001B[43mremove_outliers\u001B[49m\u001B[43m(\u001B[49m\u001B[43mdf\u001B[49m\u001B[43m[\u001B[49m\u001B[38;5;124;43m'\u001B[39;49m\u001B[38;5;124;43mpercentage superfast internet (>24Mbit/s)\u001B[39;49m\u001B[38;5;124;43m'\u001B[39;49m\u001B[43m]\u001B[49m\u001B[38;5;241;43m.\u001B[39;49m\u001B[43msort_values\u001B[49m\u001B[43m(\u001B[49m\u001B[43m)\u001B[49m\u001B[43m)\u001B[49m)\n",
      "File \u001B[0;32m~/Documents/KdG/Data and A.I./Sem 2/Python/Python/Code/Week5/functions_week5.py:110\u001B[0m, in \u001B[0;36mremove_outliers\u001B[0;34m(series)\u001B[0m\n\u001B[1;32m    108\u001B[0m \u001B[38;5;28mprint\u001B[39m(upper_array)\n\u001B[1;32m    109\u001B[0m \u001B[38;5;28mprint\u001B[39m(lower_array)\n\u001B[0;32m--> 110\u001B[0m cleaned_series \u001B[38;5;241m=\u001B[39m series\u001B[38;5;241m.\u001B[39mdrop(\u001B[43mupper_array\u001B[49m\u001B[43m[\u001B[49m\u001B[38;5;241;43m0\u001B[39;49m\u001B[43m]\u001B[49m, inplace\u001B[38;5;241m=\u001B[39m\u001B[38;5;28;01mTrue\u001B[39;00m)\n\u001B[1;32m    111\u001B[0m cleaned_series \u001B[38;5;241m=\u001B[39m series\u001B[38;5;241m.\u001B[39mdrop(lower_array[\u001B[38;5;241m0\u001B[39m], inplace\u001B[38;5;241m=\u001B[39m\u001B[38;5;28;01mTrue\u001B[39;00m)\n\u001B[1;32m    112\u001B[0m \u001B[38;5;28;01mreturn\u001B[39;00m cleaned_series\u001B[38;5;241m.\u001B[39mdropna()\n",
      "\u001B[0;31mIndexError\u001B[0m: list index out of range"
     ]
    }
   ],
   "source": [
    "df = pd.read_csv('broadband.csv', sep=',', decimal=',')\n",
    "df = pd.DataFrame(df)\n",
    "\n",
    "df['rounded ss'] = df['avr sync speed'].round(0)\n",
    "len(df['rounded ss'])\n",
    "len(remove_outliers(df['percentage superfast internet (>24Mbit/s)'].sort_values()))\n"
   ],
   "metadata": {
    "collapsed": false
   }
  },
  {
   "cell_type": "markdown",
   "source": [
    "# Question 1\n",
    "During the test on central tendencies, the following results were noted in the frequency table:\n",
    "score 17 18 19 20 21 22 23 24\n",
    "f 5 6 17 23 32 10 10 7\n",
    "a. What is the range of this test?\n",
    "b. What is the value of the interquartile distance?\n",
    "c. What does this interquartile distance mean?\n",
    "d. Draw a box plot\n",
    "e. What's special about this box plot? Why is this so?\n",
    "f. What is the standard deviation (4 significant figures)?"
   ],
   "metadata": {
    "collapsed": false
   }
  },
  {
   "cell_type": "code",
   "execution_count": 47,
   "outputs": [
    {
     "data": {
      "text/plain": "3.5"
     },
     "execution_count": 47,
     "metadata": {},
     "output_type": "execute_result"
    }
   ],
   "source": [
    "score = [17,18,19,20,21,22,23,24]\n",
    "f = [5,6,17,23,32,10,10,7]\n",
    "df = pd.DataFrame({'freq': f, 'score': score}, columns=['freq', 'score'])\n",
    "\n",
    "from scipy import stats\n",
    "stats.iqr(df.score.dropna())\n"
   ],
   "metadata": {
    "collapsed": false
   }
  }
 ],
 "metadata": {
  "kernelspec": {
   "display_name": "Python 3",
   "language": "python",
   "name": "python3"
  },
  "language_info": {
   "codemirror_mode": {
    "name": "ipython",
    "version": 2
   },
   "file_extension": ".py",
   "mimetype": "text/x-python",
   "name": "python",
   "nbconvert_exporter": "python",
   "pygments_lexer": "ipython2",
   "version": "2.7.6"
  }
 },
 "nbformat": 4,
 "nbformat_minor": 0
}
