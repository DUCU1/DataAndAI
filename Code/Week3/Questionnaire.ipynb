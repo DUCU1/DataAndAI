{
 "cells": [
  {
   "cell_type": "code",
   "execution_count": null,
   "metadata": {
    "collapsed": true
   },
   "outputs": [],
   "source": [
    "import pandas as pd\n",
    "import os\n",
    "import numpy as np\n",
    "os.chdir('/Users/vladbuinceanu/Documents/KdG/Data and A.I./Sem 2/Python/Python/Sources')\n",
    "studentq = pd.read_csv('Questionnaire 22-23.csv', delimiter=';', decimal=',')\n",
    "pd.set_option('display.max_columns', None)\n",
    "pd.set_option('display.max_rows', None)\n",
    "display(studentq)"
   ]
  },
  {
   "cell_type": "markdown",
   "source": [
    "# 1.a Make Blood Type a disordered Pandas Categorical variable. The value 'Unknown' must not be converted to a missing value."
   ],
   "metadata": {
    "collapsed": false
   }
  },
  {
   "cell_type": "code",
   "execution_count": null,
   "outputs": [],
   "source": [
    "studentq['Blood Type'] = studentq['Blood Type'].astype(pd.CategoricalDtype(categories=studentq['Blood Type'].unique()))\n",
    "studentq.dtypes"
   ],
   "metadata": {
    "collapsed": false
   }
  },
  {
   "cell_type": "markdown",
   "source": [
    "# 1.b Make Importance AI Study an ordered Pandas Categorical variable."
   ],
   "metadata": {
    "collapsed": false
   }
  },
  {
   "cell_type": "code",
   "execution_count": null,
   "outputs": [],
   "source": [
    "print(studentq['Importance AI Study'].unique())\n",
    "studentq['Importance AI Study'] = studentq['Importance AI Study'].astype(pd.CategoricalDtype(categories=['Not at all','Little importance','Moderate importance','Great importance','Very great importance','Extreemly important'], ordered=True))\n",
    "\n"
   ],
   "metadata": {
    "collapsed": false
   }
  },
  {
   "cell_type": "markdown",
   "source": [
    "# 1.c Make also a disordered Pandas Categorical variable for the colums: Writing Hand, Resus Factor, Internet Purchase, Leisure, Antwerp Address, OS, App. and an ordered Pandas Categorical variable for the columns: Driver License, Smoker, Study Load"
   ],
   "metadata": {
    "collapsed": false
   }
  },
  {
   "cell_type": "code",
   "execution_count": null,
   "outputs": [],
   "source": [
    "\n",
    "studentq['Writing Hand'] = studentq['Writing Hand'].astype(pd.CategoricalDtype(categories=studentq['Writing Hand'].unique()))\n",
    "studentq['Resus Factor'] = studentq['Resus Factor'].astype(pd.CategoricalDtype(categories=studentq['Resus Factor'].unique()))\n",
    "studentq['Internet Purchase'] = studentq['Internet Purchase'].astype(pd.CategoricalDtype(categories=studentq['Internet Purchase'].unique()))\n",
    "studentq['Leisure'] = studentq['Leisure'].astype(pd.CategoricalDtype(categories=studentq['Leisure'].unique()))\n",
    "studentq['Antwerp Address'] = studentq['Antwerp Address'].astype(pd.CategoricalDtype(categories=studentq['Antwerp Address'].unique()))\n",
    "studentq['OS'] = studentq['OS'].astype(pd.CategoricalDtype(categories=studentq['OS'].unique()))\n",
    "studentq['App'] = studentq['App'].astype(pd.CategoricalDtype(categories=studentq['App'].unique()))\n",
    "studentq['Driver License'] = studentq['Driver License'].astype(pd.CategoricalDtype(categories=['No', 'Yes'], ordered=True))\n",
    "studentq['Smoker'] = studentq['Smoker'].astype(pd.CategoricalDtype(categories=['No', 'Yes'], ordered=True))\n",
    "studentq['Study Load'] = studentq['Study Load'].astype(pd.CategoricalDtype(categories=['<= 10 hours', '11-15 hours', '16-20 hours', '21-25 hours', '26-30 hours', '31-35 hours', '36-40 hours', '>= 41 hours'], ordered=True))\n",
    "\n",
    "studentq.dtypes"
   ],
   "metadata": {
    "collapsed": false
   }
  },
  {
   "cell_type": "markdown",
   "source": [
    "# 2.a Make a new dataframe df_selection by selecting the following colomns from studenq: Writing Hand, Blood Type, Importance AI Study , Smoker. Give the colums the names C1, C2, C3 and C4."
   ],
   "metadata": {
    "collapsed": false
   }
  },
  {
   "cell_type": "code",
   "execution_count": null,
   "outputs": [],
   "source": [
    "df_selection = pd.DataFrame({'C1': studentq['Writing Hand'], 'C2': studentq['Blood Type'], 'C3': studentq['Importance AI Study'], 'C4': studentq['Smoker']})"
   ],
   "metadata": {
    "collapsed": false
   }
  },
  {
   "cell_type": "markdown",
   "source": [
    "# 2.b Remove all rows from df_selection that don't have a valid value."
   ],
   "metadata": {
    "collapsed": false
   }
  },
  {
   "cell_type": "code",
   "execution_count": null,
   "outputs": [],
   "source": [
    "df_selection = df_selection.dropna(axis='rows')\n",
    "print(df_selection)"
   ],
   "metadata": {
    "collapsed": false
   }
  },
  {
   "cell_type": "markdown",
   "source": [
    "# 3.a Create Pandas data frame that lists for each student their favorite fruit in descending line of preference.\n",
    "Attention: this is a very difficult exercise. That's why we'll work out the\n",
    "solution in 4 steps:\n",
    "➢ Write the function split_choices\n",
    "➢ Write the function split_preferences\n",
    "➢ Write the function sort_preferences\n",
    "➢ Combine the results in a dataframe"
   ],
   "metadata": {
    "collapsed": false
   }
  },
  {
   "cell_type": "code",
   "execution_count": null,
   "outputs": [],
   "source": [
    "def split_choices(row):\n",
    "    return str.split(row, ',')\n",
    "choices_matrix = studentq['Favorite Fruit'].apply(split_choices)\n",
    "\n",
    "def split_preferences(row):\n",
    "    return np.array([str.split(el,'=') for el in row])\n",
    "\n",
    "preferences_matrix = choices_matrix.apply(split_preferences)\n",
    "\n",
    "def sort_preferences(row):\n",
    "    try:\n",
    "        ranknumbers = row[:,0].astype(int)\n",
    "        return row[ranknumbers.argsort()][:,1]\n",
    "    except Exception:\n",
    "        return np.repeat(np.nan, 10)\n",
    "\n",
    "sort_preferences(preferences_matrix[0])\n",
    "fruit_series = preferences_matrix.apply(sort_preferences)\n",
    "\n",
    "fruit_preferences = pd.DataFrame(zip(*fruit_series), index=range(1,11)).transpose()\n",
    "\n",
    "fruit_preferences\n"
   ],
   "metadata": {
    "collapsed": false
   }
  },
  {
   "cell_type": "code",
   "execution_count": null,
   "outputs": [],
   "source": [],
   "metadata": {
    "collapsed": false
   }
  }
 ],
 "metadata": {
  "kernelspec": {
   "display_name": "Python 3",
   "language": "python",
   "name": "python3"
  },
  "language_info": {
   "codemirror_mode": {
    "name": "ipython",
    "version": 2
   },
   "file_extension": ".py",
   "mimetype": "text/x-python",
   "name": "python",
   "nbconvert_exporter": "python",
   "pygments_lexer": "ipython2",
   "version": "2.7.6"
  }
 },
 "nbformat": 4,
 "nbformat_minor": 0
}
