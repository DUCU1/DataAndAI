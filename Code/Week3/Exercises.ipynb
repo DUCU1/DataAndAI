{
 "cells": [
  {
   "cell_type": "markdown",
   "source": [
    "Data Management - Exercises"
   ],
   "metadata": {
    "collapsed": false
   }
  },
  {
   "cell_type": "markdown",
   "source": [
    "Question 1: Read the CSV files containing the delay data of U.S. airlines in two\n",
    "DataFrames. You can find this information at the following URLs:#%%\n",
    "➢ https://raw.githubusercontent.com/nickdcox/learn-airline-\n",
    "delays/main/delays_2018.csv (call this dataframe 'delays18'`)\n",
    "➢ https://raw.githubusercontent.com/nickdcox/learn-airline-\n",
    "delays/main/delays_2019.csv (call this dataframe 'delays19') ➢ https://raw.githubusercontent.com/nickdcox/learn-airline-\n"
   ],
   "metadata": {
    "collapsed": false
   }
  },
  {
   "cell_type": "code",
   "execution_count": 15,
   "outputs": [],
   "source": [
    "import pandas as pd\n",
    "\n",
    "delays18 = pd.read_csv('https://raw.githubusercontent.com/nickdcox/learn-airline-delays/main/delays_2018.csv')\n",
    "delays19 = pd.read_csv('https://raw.githubusercontent.com/nickdcox/learn-airline-delays/main/delays_2019.csv')"
   ],
   "metadata": {
    "collapsed": false
   }
  },
  {
   "cell_type": "markdown",
   "source": [
    "Concate the two dataframes into a single dataframe called ‘delays’, and then display the total\n",
    "number of rows. You can concatenate dataframes with the function 'concat' or with the\n",
    "method 'append'. Create a new index when concatenating, which can be done with a certain\n",
    "parameter. In total, you should get 41177 rows. Check that."
   ],
   "metadata": {
    "collapsed": false
   }
  },
  {
   "cell_type": "code",
   "execution_count": 16,
   "outputs": [
    {
     "name": "stdout",
     "output_type": "stream",
     "text": [
      "         date carrier carrier_name airport  \\\n",
      "0      2018-1      MQ    Envoy Air     BIS   \n",
      "1      2018-1      MQ    Envoy Air     BNA   \n",
      "2      2018-1      MQ    Envoy Air     BOI   \n",
      "3      2018-1      MQ    Envoy Air     BPT   \n",
      "4      2018-1      MQ    Envoy Air     BUF   \n",
      "...       ...     ...          ...     ...   \n",
      "41172  2019-1      MQ    Envoy Air     RIC   \n",
      "41173  2019-1      MQ    Envoy Air     ROA   \n",
      "41174  2019-1      MQ    Envoy Air     ROC   \n",
      "41175  2019-1      MQ    Envoy Air     RST   \n",
      "41176  2019-1      MQ    Envoy Air     SAT   \n",
      "\n",
      "                                            airport_name  arr_flights  \\\n",
      "0                Bismarck/Mandan, ND: Bismarck Municipal          5.0   \n",
      "1                 Nashville, TN: Nashville International        110.0   \n",
      "2                          Boise, ID: Boise Air Terminal         32.0   \n",
      "3         Beaumont/Port Arthur, TX: Jack Brooks Regional         63.0   \n",
      "4             Buffalo, NY: Buffalo Niagara International         31.0   \n",
      "...                                                  ...          ...   \n",
      "41172               Richmond, VA: Richmond International        195.0   \n",
      "41173  Roanoke, VA: Roanoke Blacksburg Regional Woodr...         52.0   \n",
      "41174     Rochester, NY: Greater Rochester International        106.0   \n",
      "41175             Rochester, MN: Rochester International        116.0   \n",
      "41176         San Antonio, TX: San Antonio International         26.0   \n",
      "\n",
      "       arr_del15  carrier_ct  weather_ct  nas_ct  security_ct  \\\n",
      "0            3.0        1.00        0.06    1.94          0.0   \n",
      "1           21.0        7.17        1.16    6.76          0.0   \n",
      "2            8.0        0.22        0.35    5.61          0.0   \n",
      "3           11.0        1.75        1.08    2.98          0.0   \n",
      "4           12.0        0.82        3.00    6.62          0.0   \n",
      "...          ...         ...         ...     ...          ...   \n",
      "41172       68.0       12.12        1.87   17.97          0.0   \n",
      "41173       14.0        2.74        0.69    2.46          0.0   \n",
      "41174       26.0        4.67        2.26   11.81          0.0   \n",
      "41175       35.0        6.83        6.92   11.50          0.0   \n",
      "41176        4.0        1.16        0.64    1.92          0.0   \n",
      "\n",
      "       late_aircraft_ct  arr_cancelled  arr_diverted  arr_delay  \\\n",
      "0                  0.00            0.0           0.0      104.0   \n",
      "1                  5.92            3.0           0.0      897.0   \n",
      "2                  1.82            0.0           0.0      353.0   \n",
      "3                  5.19            3.0           0.0      657.0   \n",
      "4                  1.55            0.0           0.0      484.0   \n",
      "...                 ...            ...           ...        ...   \n",
      "41172             36.04           22.0           0.0     4138.0   \n",
      "41173              8.11            2.0           1.0      726.0   \n",
      "41174              7.26           17.0           0.0     1259.0   \n",
      "41175              9.75           22.0           0.0     2307.0   \n",
      "41176              0.29            5.0           0.0      120.0   \n",
      "\n",
      "       carrier_delay  weather_delay  nas_delay  security_delay  \\\n",
      "0               54.0            1.0       49.0             0.0   \n",
      "1              344.0           37.0      226.0             0.0   \n",
      "2                9.0           18.0      233.0             0.0   \n",
      "3               83.0           34.0      130.0             0.0   \n",
      "4               27.0          136.0      207.0             0.0   \n",
      "...              ...            ...        ...             ...   \n",
      "41172          603.0          196.0      780.0             0.0   \n",
      "41173          323.0           31.0      112.0             0.0   \n",
      "41174          313.0           99.0      484.0             0.0   \n",
      "41175          474.0          633.0      523.0             0.0   \n",
      "41176           50.0           14.0       41.0             0.0   \n",
      "\n",
      "       late_aircraft_delay  \n",
      "0                      0.0  \n",
      "1                    290.0  \n",
      "2                     93.0  \n",
      "3                    410.0  \n",
      "4                    114.0  \n",
      "...                    ...  \n",
      "41172               2559.0  \n",
      "41173                260.0  \n",
      "41174                363.0  \n",
      "41175                677.0  \n",
      "41176                 15.0  \n",
      "\n",
      "[41177 rows x 20 columns]\n"
     ]
    }
   ],
   "source": [
    "delays = pd.concat([delays18, delays19], ignore_index=True)\n",
    "print(delays)"
   ],
   "metadata": {
    "collapsed": false
   }
  },
  {
   "cell_type": "markdown",
   "source": [
    "Inspect the data type of the date column. It is object, not datetime. Change this to datetime\n",
    "(use as format '%Y-%m')"
   ],
   "metadata": {
    "collapsed": false
   }
  },
  {
   "cell_type": "code",
   "execution_count": 17,
   "outputs": [],
   "source": [
    "delays['date'] = pd.to_datetime(delays['date'], format='%Y-%m')"
   ],
   "metadata": {
    "collapsed": false
   }
  },
  {
   "cell_type": "markdown",
   "source": [
    "Remove all rows of which:\n",
    "   -  the airport does not have arriving flights (arr_flights),\n",
    "   - with empty carrier or empty airports,\n",
    "   -the date is not between 2018 and 2019.\n",
    "In total, you should now have 41077 rows left. Check that."
   ],
   "metadata": {
    "collapsed": false
   }
  },
  {
   "cell_type": "code",
   "execution_count": 18,
   "outputs": [
    {
     "name": "stdout",
     "output_type": "stream",
     "text": [
      "            date carrier carrier_name airport  \\\n",
      "0     2018-01-01      MQ    Envoy Air     BIS   \n",
      "1     2018-01-01      MQ    Envoy Air     BNA   \n",
      "2     2018-01-01      MQ    Envoy Air     BOI   \n",
      "3     2018-01-01      MQ    Envoy Air     BPT   \n",
      "4     2018-01-01      MQ    Envoy Air     BUF   \n",
      "...          ...     ...          ...     ...   \n",
      "41172 2019-01-01      MQ    Envoy Air     RIC   \n",
      "41173 2019-01-01      MQ    Envoy Air     ROA   \n",
      "41174 2019-01-01      MQ    Envoy Air     ROC   \n",
      "41175 2019-01-01      MQ    Envoy Air     RST   \n",
      "41176 2019-01-01      MQ    Envoy Air     SAT   \n",
      "\n",
      "                                            airport_name  arr_flights  \\\n",
      "0                Bismarck/Mandan, ND: Bismarck Municipal          5.0   \n",
      "1                 Nashville, TN: Nashville International        110.0   \n",
      "2                          Boise, ID: Boise Air Terminal         32.0   \n",
      "3         Beaumont/Port Arthur, TX: Jack Brooks Regional         63.0   \n",
      "4             Buffalo, NY: Buffalo Niagara International         31.0   \n",
      "...                                                  ...          ...   \n",
      "41172               Richmond, VA: Richmond International        195.0   \n",
      "41173  Roanoke, VA: Roanoke Blacksburg Regional Woodr...         52.0   \n",
      "41174     Rochester, NY: Greater Rochester International        106.0   \n",
      "41175             Rochester, MN: Rochester International        116.0   \n",
      "41176         San Antonio, TX: San Antonio International         26.0   \n",
      "\n",
      "       arr_del15  carrier_ct  weather_ct  nas_ct  security_ct  \\\n",
      "0            3.0        1.00        0.06    1.94          0.0   \n",
      "1           21.0        7.17        1.16    6.76          0.0   \n",
      "2            8.0        0.22        0.35    5.61          0.0   \n",
      "3           11.0        1.75        1.08    2.98          0.0   \n",
      "4           12.0        0.82        3.00    6.62          0.0   \n",
      "...          ...         ...         ...     ...          ...   \n",
      "41172       68.0       12.12        1.87   17.97          0.0   \n",
      "41173       14.0        2.74        0.69    2.46          0.0   \n",
      "41174       26.0        4.67        2.26   11.81          0.0   \n",
      "41175       35.0        6.83        6.92   11.50          0.0   \n",
      "41176        4.0        1.16        0.64    1.92          0.0   \n",
      "\n",
      "       late_aircraft_ct  arr_cancelled  arr_diverted  arr_delay  \\\n",
      "0                  0.00            0.0           0.0      104.0   \n",
      "1                  5.92            3.0           0.0      897.0   \n",
      "2                  1.82            0.0           0.0      353.0   \n",
      "3                  5.19            3.0           0.0      657.0   \n",
      "4                  1.55            0.0           0.0      484.0   \n",
      "...                 ...            ...           ...        ...   \n",
      "41172             36.04           22.0           0.0     4138.0   \n",
      "41173              8.11            2.0           1.0      726.0   \n",
      "41174              7.26           17.0           0.0     1259.0   \n",
      "41175              9.75           22.0           0.0     2307.0   \n",
      "41176              0.29            5.0           0.0      120.0   \n",
      "\n",
      "       carrier_delay  weather_delay  nas_delay  security_delay  \\\n",
      "0               54.0            1.0       49.0             0.0   \n",
      "1              344.0           37.0      226.0             0.0   \n",
      "2                9.0           18.0      233.0             0.0   \n",
      "3               83.0           34.0      130.0             0.0   \n",
      "4               27.0          136.0      207.0             0.0   \n",
      "...              ...            ...        ...             ...   \n",
      "41172          603.0          196.0      780.0             0.0   \n",
      "41173          323.0           31.0      112.0             0.0   \n",
      "41174          313.0           99.0      484.0             0.0   \n",
      "41175          474.0          633.0      523.0             0.0   \n",
      "41176           50.0           14.0       41.0             0.0   \n",
      "\n",
      "       late_aircraft_delay  \n",
      "0                      0.0  \n",
      "1                    290.0  \n",
      "2                     93.0  \n",
      "3                    410.0  \n",
      "4                    114.0  \n",
      "...                    ...  \n",
      "41172               2559.0  \n",
      "41173                260.0  \n",
      "41174                363.0  \n",
      "41175                677.0  \n",
      "41176                 15.0  \n",
      "\n",
      "[41077 rows x 20 columns]\n"
     ]
    }
   ],
   "source": [
    "delays = delays[(delays.date >= '2018-01') &\n",
    "                    (delays.date <= '2019-12') &\n",
    "                    delays.arr_flights.notnull() &\n",
    "                    delays.carrier.notnull() &\n",
    "                    delays.airport.notnull()]\n",
    "\n",
    "print(delays)"
   ],
   "metadata": {
    "collapsed": false
   }
  },
  {
   "cell_type": "markdown",
   "source": [
    "View a list of all airports whose airport is located in Tennessee. These airports have the letters  'TN:' in their 'airport_name'"
   ],
   "metadata": {
    "collapsed": false
   }
  },
  {
   "cell_type": "code",
   "execution_count": 21,
   "outputs": [
    {
     "name": "stdout",
     "output_type": "stream",
     "text": [
      "            date carrier       carrier_name airport  \\\n",
      "1     2018-01-01      MQ          Envoy Air     BNA   \n",
      "67    2018-01-01      MQ          Envoy Air     MEM   \n",
      "160   2018-01-01      OH  PSA Airlines Inc.     BNA   \n",
      "167   2018-01-01      OH  PSA Airlines Inc.     CHA   \n",
      "206   2018-01-01      OH  PSA Airlines Inc.     MEM   \n",
      "...          ...     ...                ...     ...   \n",
      "41038 2019-01-01      G4      Allegiant Air     TRI   \n",
      "41041 2019-01-01      G4      Allegiant Air     TYS   \n",
      "41078 2019-01-01      MQ          Envoy Air     BNA   \n",
      "41087 2019-01-01      MQ          Envoy Air     CHA   \n",
      "41148 2019-01-01      MQ          Envoy Air     MEM   \n",
      "\n",
      "                                         airport_name  arr_flights  arr_del15  \\\n",
      "1              Nashville, TN: Nashville International        110.0       21.0   \n",
      "67                 Memphis, TN: Memphis International         80.0       24.0   \n",
      "160            Nashville, TN: Nashville International        169.0       45.0   \n",
      "167                     Chattanooga, TN: Lovell Field        162.0       41.0   \n",
      "206                Memphis, TN: Memphis International        138.0       24.0   \n",
      "...                                               ...          ...        ...   \n",
      "41038  Bristol/Johnson City/Kingsport, TN: Tri Cities          9.0        0.0   \n",
      "41041                     Knoxville, TN: McGhee Tyson         89.0       22.0   \n",
      "41078          Nashville, TN: Nashville International        193.0       51.0   \n",
      "41087                   Chattanooga, TN: Lovell Field         52.0       15.0   \n",
      "41148              Memphis, TN: Memphis International        207.0       55.0   \n",
      "\n",
      "       carrier_ct  weather_ct  nas_ct  security_ct  late_aircraft_ct  \\\n",
      "1            7.17        1.16    6.76         0.00              5.92   \n",
      "67           7.78        1.53    8.05         0.00              6.64   \n",
      "160         14.15        2.33    4.63         0.00             23.89   \n",
      "167         16.64        0.64   11.41         0.00             12.31   \n",
      "206          9.78        0.49    3.46         0.78              9.49   \n",
      "...           ...         ...     ...          ...               ...   \n",
      "41038        0.00        0.00    0.00         0.00              0.00   \n",
      "41041        1.48        1.00    3.99         0.00             15.53   \n",
      "41078        6.67        3.12   16.81         0.00             24.41   \n",
      "41087        2.68        0.53    7.82         0.00              3.97   \n",
      "41148       15.87        4.76   19.73         0.00             14.65   \n",
      "\n",
      "       arr_cancelled  arr_diverted  arr_delay  carrier_delay  weather_delay  \\\n",
      "1                3.0           0.0      897.0          344.0           37.0   \n",
      "67               1.0           0.0     1285.0          328.0          129.0   \n",
      "160              5.0           3.0     3783.0         1319.0           89.0   \n",
      "167              8.0           0.0     2498.0         1002.0          121.0   \n",
      "206              6.0           0.0     1749.0          556.0          126.0   \n",
      "...              ...           ...        ...            ...            ...   \n",
      "41038            0.0           0.0        0.0            0.0            0.0   \n",
      "41041            0.0           0.0      976.0           70.0           17.0   \n",
      "41078           11.0           0.0     3216.0          383.0          258.0   \n",
      "41087            9.0           0.0      482.0          108.0           19.0   \n",
      "41148            9.0           1.0     3187.0         1022.0          367.0   \n",
      "\n",
      "       nas_delay  security_delay  late_aircraft_delay  \n",
      "1          226.0             0.0                290.0  \n",
      "67         430.0             0.0                398.0  \n",
      "160        320.0             0.0               2055.0  \n",
      "167        446.0             0.0                929.0  \n",
      "206        228.0            35.0                804.0  \n",
      "...          ...             ...                  ...  \n",
      "41038        0.0             0.0                  0.0  \n",
      "41041      116.0             0.0                773.0  \n",
      "41078      825.0             0.0               1750.0  \n",
      "41087      220.0             0.0                135.0  \n",
      "41148      754.0             0.0               1044.0  \n",
      "\n",
      "[1194 rows x 20 columns]\n"
     ]
    }
   ],
   "source": [
    "print(delays[delays.airport_name.str.contains('TN:', na=False)])"
   ],
   "metadata": {
    "collapsed": false
   }
  }
 ],
 "metadata": {
  "kernelspec": {
   "display_name": "Python 3",
   "language": "python",
   "name": "python3"
  },
  "language_info": {
   "codemirror_mode": {
    "name": "ipython",
    "version": 2
   },
   "file_extension": ".py",
   "mimetype": "text/x-python",
   "name": "python",
   "nbconvert_exporter": "python",
   "pygments_lexer": "ipython2",
   "version": "2.7.6"
  }
 },
 "nbformat": 4,
 "nbformat_minor": 0
}
