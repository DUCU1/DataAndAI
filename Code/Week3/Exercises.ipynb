{
 "cells": [
  {
   "cell_type": "markdown",
   "source": [
    "Data Management - Exercises"
   ],
   "metadata": {
    "collapsed": false
   }
  },
  {
   "cell_type": "markdown",
   "source": [
    "Question 1: Read the CSV files containing the delay data of U.S. airlines in two\n",
    "DataFrames. You can find this information at the following URLs:#%%\n",
    "➢ https://raw.githubusercontent.com/nickdcox/learn-airline-\n",
    "delays/main/delays_2018.csv (call this dataframe 'delays18'`)\n",
    "➢ https://raw.githubusercontent.com/nickdcox/learn-airline-\n",
    "delays/main/delays_2019.csv (call this dataframe 'delays19') ➢ https://raw.githubusercontent.com/nickdcox/learn-airline-\n"
   ],
   "metadata": {
    "collapsed": false
   }
  },
  {
   "cell_type": "code",
   "execution_count": null,
   "outputs": [],
   "source": [
    "import pandas as pd\n",
    "\n",
    "delays18 = pd.read_csv('https://raw.githubusercontent.com/nickdcox/learn-airline-delays/main/delays_2018.csv')\n",
    "delays19 = pd.read_csv('https://raw.githubusercontent.com/nickdcox/learn-airline-delays/main/delays_2019.csv')"
   ],
   "metadata": {
    "collapsed": false
   }
  },
  {
   "cell_type": "markdown",
   "source": [
    "Concate the two dataframes into a single dataframe called ‘delays’, and then display the total\n",
    "number of rows. You can concatenate dataframes with the function 'concat' or with the\n",
    "method 'append'. Create a new index when concatenating, which can be done with a certain\n",
    "parameter. In total, you should get 41177 rows. Check that."
   ],
   "metadata": {
    "collapsed": false
   }
  },
  {
   "cell_type": "code",
   "execution_count": null,
   "outputs": [],
   "source": [
    "delays = pd.concat([delays18, delays19], ignore_index=True)\n",
    "print(delays)"
   ],
   "metadata": {
    "collapsed": false
   }
  },
  {
   "cell_type": "markdown",
   "source": [
    "Inspect the data type of the date column. It is object, not datetime. Change this to datetime\n",
    "(use as format '%Y-%m')"
   ],
   "metadata": {
    "collapsed": false
   }
  },
  {
   "cell_type": "code",
   "execution_count": null,
   "outputs": [],
   "source": [
    "delays['date'] = pd.to_datetime(delays['date'], format='%Y-%m')"
   ],
   "metadata": {
    "collapsed": false
   }
  },
  {
   "cell_type": "markdown",
   "source": [
    "Remove all rows of which:\n",
    "   -  the airport does not have arriving flights (arr_flights),\n",
    "   - with empty carrier or empty airports,\n",
    "   -the date is not between 2018 and 2019.\n",
    "In total, you should now have 41077 rows left. Check that."
   ],
   "metadata": {
    "collapsed": false
   }
  },
  {
   "cell_type": "code",
   "execution_count": null,
   "outputs": [],
   "source": [
    "delays = delays[(delays.date >= '2018-01') &\n",
    "                    (delays.date <= '2019-12') &\n",
    "                    delays.arr_flights.notnull() &\n",
    "                    delays.carrier.notnull() &\n",
    "                    delays.airport.notnull()]\n",
    "\n",
    "print(delays)"
   ],
   "metadata": {
    "collapsed": false
   }
  },
  {
   "cell_type": "markdown",
   "source": [
    "View a list of all airports whose airport is located in Tennessee. These airports have the letters  'TN:' in their 'airport_name'"
   ],
   "metadata": {
    "collapsed": false
   }
  },
  {
   "cell_type": "code",
   "execution_count": null,
   "outputs": [],
   "source": [
    "print(delays[delays.airport_name.str.contains('TN:', na=False)])"
   ],
   "metadata": {
    "collapsed": false
   }
  },
  {
   "cell_type": "markdown",
   "source": [
    "Import the coordinate file from the URL: https://raw.githubusercontent.com/nickdcox/learn-\n",
    "airline-delays/main/airport_coordinates.csv. This file contains the length and latitudes of\n",
    "several U.S. airports as well as their 'airport' code."
   ],
   "metadata": {
    "collapsed": false
   }
  },
  {
   "cell_type": "code",
   "execution_count": null,
   "outputs": [],
   "source": [
    "coordinates = pd.read_csv('https://raw.githubusercontent.com/nickdcox/learn-airline-delays/main/airport_coordinates.csv')\n",
    "\n",
    "display(coordinates)\n"
   ],
   "metadata": {
    "collapsed": false
   }
  },
  {
   "cell_type": "markdown",
   "source": [
    "First, create a new dataframe, called 'airports', with a list of airports and their code ('airport'\n",
    "and 'airport_name'). This new dataframe must not contain duplicates. Now you can merge the\n",
    "two dataframes on the 'airport' key with the 'merge' method or 'merge' function."
   ],
   "metadata": {
    "collapsed": false
   }
  },
  {
   "cell_type": "code",
   "execution_count": 15,
   "outputs": [
    {
     "data": {
      "text/plain": "    airport                                    airport_name        lat  \\\n0       BIS         Bismarck/Mandan, ND: Bismarck Municipal  46.778889   \n1       BNA          Nashville, TN: Nashville International  36.126667   \n2       BOI                   Boise, ID: Boise Air Terminal  43.565278   \n3       BPT  Beaumont/Port Arthur, TX: Jack Brooks Regional  29.950833   \n4       BUF      Buffalo, NY: Buffalo Niagara International  42.941111   \n..      ...                                             ...        ...   \n355     PAE                   Everett, WA: Snohomish County  47.908333   \n356     ATY               Watertown, SD: Watertown Regional  44.908889   \n357     PIR                     Pierre, SD: Pierre Regional  44.383611   \n358     BFM                     Mobile, AL: Mobile Downtown  30.626389   \n359     XWA    Williston, ND: Williston Basin International  48.260833   \n\n           long  \n0   -100.752500  \n1    -86.681944  \n2   -116.225000  \n3    -94.020000  \n4    -78.736389  \n..          ...  \n355 -122.281389  \n356  -97.154167  \n357 -100.284167  \n358  -88.068056  \n359 -103.751111  \n\n[360 rows x 4 columns]",
      "text/html": "<div>\n<style scoped>\n    .dataframe tbody tr th:only-of-type {\n        vertical-align: middle;\n    }\n\n    .dataframe tbody tr th {\n        vertical-align: top;\n    }\n\n    .dataframe thead th {\n        text-align: right;\n    }\n</style>\n<table border=\"1\" class=\"dataframe\">\n  <thead>\n    <tr style=\"text-align: right;\">\n      <th></th>\n      <th>airport</th>\n      <th>airport_name</th>\n      <th>lat</th>\n      <th>long</th>\n    </tr>\n  </thead>\n  <tbody>\n    <tr>\n      <th>0</th>\n      <td>BIS</td>\n      <td>Bismarck/Mandan, ND: Bismarck Municipal</td>\n      <td>46.778889</td>\n      <td>-100.752500</td>\n    </tr>\n    <tr>\n      <th>1</th>\n      <td>BNA</td>\n      <td>Nashville, TN: Nashville International</td>\n      <td>36.126667</td>\n      <td>-86.681944</td>\n    </tr>\n    <tr>\n      <th>2</th>\n      <td>BOI</td>\n      <td>Boise, ID: Boise Air Terminal</td>\n      <td>43.565278</td>\n      <td>-116.225000</td>\n    </tr>\n    <tr>\n      <th>3</th>\n      <td>BPT</td>\n      <td>Beaumont/Port Arthur, TX: Jack Brooks Regional</td>\n      <td>29.950833</td>\n      <td>-94.020000</td>\n    </tr>\n    <tr>\n      <th>4</th>\n      <td>BUF</td>\n      <td>Buffalo, NY: Buffalo Niagara International</td>\n      <td>42.941111</td>\n      <td>-78.736389</td>\n    </tr>\n    <tr>\n      <th>...</th>\n      <td>...</td>\n      <td>...</td>\n      <td>...</td>\n      <td>...</td>\n    </tr>\n    <tr>\n      <th>355</th>\n      <td>PAE</td>\n      <td>Everett, WA: Snohomish County</td>\n      <td>47.908333</td>\n      <td>-122.281389</td>\n    </tr>\n    <tr>\n      <th>356</th>\n      <td>ATY</td>\n      <td>Watertown, SD: Watertown Regional</td>\n      <td>44.908889</td>\n      <td>-97.154167</td>\n    </tr>\n    <tr>\n      <th>357</th>\n      <td>PIR</td>\n      <td>Pierre, SD: Pierre Regional</td>\n      <td>44.383611</td>\n      <td>-100.284167</td>\n    </tr>\n    <tr>\n      <th>358</th>\n      <td>BFM</td>\n      <td>Mobile, AL: Mobile Downtown</td>\n      <td>30.626389</td>\n      <td>-88.068056</td>\n    </tr>\n    <tr>\n      <th>359</th>\n      <td>XWA</td>\n      <td>Williston, ND: Williston Basin International</td>\n      <td>48.260833</td>\n      <td>-103.751111</td>\n    </tr>\n  </tbody>\n</table>\n<p>360 rows × 4 columns</p>\n</div>"
     },
     "metadata": {},
     "output_type": "display_data"
    }
   ],
   "source": [
    "airports = delays[['airport', 'airport_name']].drop_duplicates().reset_index(drop=True)\n",
    "\n",
    "airports = airports.merge(coordinates, on='airport')\n",
    "\n",
    "display(airports)"
   ],
   "metadata": {
    "collapsed": false
   }
  },
  {
   "cell_type": "markdown",
   "source": [
    "Calculate the average length and latitudes of all airports whose code starts with the letter 'B'."
   ],
   "metadata": {
    "collapsed": false
   }
  },
  {
   "cell_type": "code",
   "execution_count": 24,
   "outputs": [
    {
     "data": {
      "text/plain": "40.776657706129036"
     },
     "metadata": {},
     "output_type": "display_data"
    },
    {
     "data": {
      "text/plain": "-96.84237455129033"
     },
     "metadata": {},
     "output_type": "display_data"
    }
   ],
   "source": [
    "airport_B = airports[airports.airport.str.startswith('B', na=False)]\n",
    "display(airport_B.lat.mean())\n",
    "display(airport_B.long.mean())"
   ],
   "metadata": {
    "collapsed": false
   }
  },
  {
   "cell_type": "markdown",
   "source": [
    "<-------------------------------->"
   ],
   "metadata": {
    "collapsed": false
   }
  },
  {
   "cell_type": "markdown",
   "source": [
    "Question 2\n",
    "\n",
    "The neighbor has placed a number of sensors in his house. The sensors fill a log file with data. In the file \"smartDevices.csv\" you see the data of a number of days. The neighbor\n",
    "has asked you to write a script with which he can create a new CSV every month that writes a number of data on a daily basis. To do this you need to group data per day."
   ],
   "metadata": {
    "collapsed": false
   }
  },
  {
   "cell_type": "code",
   "execution_count": 40,
   "outputs": [
    {
     "data": {
      "text/plain": "        Login Name  Gateway Mac Address Device-ID           Device  \\\n0  bla@hotmail.com         1.230000e+11  5653a456  washing machine   \n1  bla@hotmail.com         1.230000e+11  5653a456  washing machine   \n2  bla@hotmail.com         1.230000e+11  5653a456  washing machine   \n3  bla@hotmail.com         1.230000e+11  5653a456  washing machine   \n4  bla@hotmail.com         1.230000e+11  5653a456  washing machine   \n\n         Date  Hour   Value Unit  Cost (EUR)  CO2 (kg)         Type  \\\n0  21/01/2018  0:00  0.0002  kWh         0.0         0  electricity   \n1  21/01/2018  0:15  0.0001  kWh         0.0         0  electricity   \n2  21/01/2018  0:30  0.0001  kWh         0.0         0  electricity   \n3  21/01/2018  0:45  0.0001  kWh         0.0         0  electricity   \n4  21/01/2018  1:00  0.0001  kWh         0.0         0  electricity   \n\n  Consumer / Producer Main / Sub-counter     Type device         Room  \\\n0            Consumer        Sub-counter  WASHINGMACHINE  DefaultRoom   \n1            Consumer        Sub-counter  WASHINGMACHINE  DefaultRoom   \n2            Consumer        Sub-counter  WASHINGMACHINE  DefaultRoom   \n3            Consumer        Sub-counter  WASHINGMACHINE  DefaultRoom   \n4            Consumer        Sub-counter  WASHINGMACHINE  DefaultRoom   \n\n   Group-Ids  Groups,,,  \n0        NaN        NaN  \n1        NaN        NaN  \n2        NaN        NaN  \n3        NaN        NaN  \n4        NaN        NaN  ",
      "text/html": "<div>\n<style scoped>\n    .dataframe tbody tr th:only-of-type {\n        vertical-align: middle;\n    }\n\n    .dataframe tbody tr th {\n        vertical-align: top;\n    }\n\n    .dataframe thead th {\n        text-align: right;\n    }\n</style>\n<table border=\"1\" class=\"dataframe\">\n  <thead>\n    <tr style=\"text-align: right;\">\n      <th></th>\n      <th>Login Name</th>\n      <th>Gateway Mac Address</th>\n      <th>Device-ID</th>\n      <th>Device</th>\n      <th>Date</th>\n      <th>Hour</th>\n      <th>Value</th>\n      <th>Unit</th>\n      <th>Cost (EUR)</th>\n      <th>CO2 (kg)</th>\n      <th>Type</th>\n      <th>Consumer / Producer</th>\n      <th>Main / Sub-counter</th>\n      <th>Type device</th>\n      <th>Room</th>\n      <th>Group-Ids</th>\n      <th>Groups,,,</th>\n    </tr>\n  </thead>\n  <tbody>\n    <tr>\n      <th>0</th>\n      <td>bla@hotmail.com</td>\n      <td>1.230000e+11</td>\n      <td>5653a456</td>\n      <td>washing machine</td>\n      <td>21/01/2018</td>\n      <td>0:00</td>\n      <td>0.0002</td>\n      <td>kWh</td>\n      <td>0.0</td>\n      <td>0</td>\n      <td>electricity</td>\n      <td>Consumer</td>\n      <td>Sub-counter</td>\n      <td>WASHINGMACHINE</td>\n      <td>DefaultRoom</td>\n      <td>NaN</td>\n      <td>NaN</td>\n    </tr>\n    <tr>\n      <th>1</th>\n      <td>bla@hotmail.com</td>\n      <td>1.230000e+11</td>\n      <td>5653a456</td>\n      <td>washing machine</td>\n      <td>21/01/2018</td>\n      <td>0:15</td>\n      <td>0.0001</td>\n      <td>kWh</td>\n      <td>0.0</td>\n      <td>0</td>\n      <td>electricity</td>\n      <td>Consumer</td>\n      <td>Sub-counter</td>\n      <td>WASHINGMACHINE</td>\n      <td>DefaultRoom</td>\n      <td>NaN</td>\n      <td>NaN</td>\n    </tr>\n    <tr>\n      <th>2</th>\n      <td>bla@hotmail.com</td>\n      <td>1.230000e+11</td>\n      <td>5653a456</td>\n      <td>washing machine</td>\n      <td>21/01/2018</td>\n      <td>0:30</td>\n      <td>0.0001</td>\n      <td>kWh</td>\n      <td>0.0</td>\n      <td>0</td>\n      <td>electricity</td>\n      <td>Consumer</td>\n      <td>Sub-counter</td>\n      <td>WASHINGMACHINE</td>\n      <td>DefaultRoom</td>\n      <td>NaN</td>\n      <td>NaN</td>\n    </tr>\n    <tr>\n      <th>3</th>\n      <td>bla@hotmail.com</td>\n      <td>1.230000e+11</td>\n      <td>5653a456</td>\n      <td>washing machine</td>\n      <td>21/01/2018</td>\n      <td>0:45</td>\n      <td>0.0001</td>\n      <td>kWh</td>\n      <td>0.0</td>\n      <td>0</td>\n      <td>electricity</td>\n      <td>Consumer</td>\n      <td>Sub-counter</td>\n      <td>WASHINGMACHINE</td>\n      <td>DefaultRoom</td>\n      <td>NaN</td>\n      <td>NaN</td>\n    </tr>\n    <tr>\n      <th>4</th>\n      <td>bla@hotmail.com</td>\n      <td>1.230000e+11</td>\n      <td>5653a456</td>\n      <td>washing machine</td>\n      <td>21/01/2018</td>\n      <td>1:00</td>\n      <td>0.0001</td>\n      <td>kWh</td>\n      <td>0.0</td>\n      <td>0</td>\n      <td>electricity</td>\n      <td>Consumer</td>\n      <td>Sub-counter</td>\n      <td>WASHINGMACHINE</td>\n      <td>DefaultRoom</td>\n      <td>NaN</td>\n      <td>NaN</td>\n    </tr>\n  </tbody>\n</table>\n</div>"
     },
     "metadata": {},
     "output_type": "display_data"
    }
   ],
   "source": [
    "import os\n",
    "os.chdir('/Users/vladbuinceanu/Documents/KdG/Data and A.I./Sem 2/Python/Python/Sources')\n",
    "\n",
    "df1 = pd.read_csv('smartDevices.csv', delimiter=';', skiprows=4, decimal=',', index_col=False)\n",
    "display(df1.head())\n"
   ],
   "metadata": {
    "collapsed": false
   }
  },
  {
   "cell_type": "markdown",
   "source": [
    "Day of the week"
   ],
   "metadata": {
    "collapsed": false
   }
  },
  {
   "cell_type": "code",
   "execution_count": 46,
   "outputs": [],
   "source": [
    "df1['Datetime'] = df1[['Date','Hour']].astype(str).apply(' '.join, axis=1).apply(pd.to_datetime, format='%d/%m/%Y %H:%M').dt.tz_localize('Europe/Brussels')\n",
    "\n",
    "df1['Day of the week'] = df1.Datetime.dt.day_name()"
   ],
   "metadata": {
    "collapsed": false
   }
  },
  {
   "cell_type": "markdown",
   "source": [
    "Total consumption in kWh for that day (only data of which the unit is kWh)"
   ],
   "metadata": {
    "collapsed": false
   }
  },
  {
   "cell_type": "code",
   "execution_count": 52,
   "outputs": [
    {
     "data": {
      "text/plain": "Day of the week\nMonday       0.002809\nTuesday      0.005877\nWednesday    0.005417\nThursday     0.003838\nFriday       0.005408\nSaturday     0.002652\nSunday       0.006041\nName: Value, dtype: float64"
     },
     "metadata": {},
     "output_type": "display_data"
    }
   ],
   "source": [
    "df1.Value = pd.to_numeric(df1.Value.replace(',','.', regex=True))\n",
    "total_consumption = df1.Value[df1.Unit == 'kWh'].groupby(df1['Day of the week']).mean().reindex(['Monday', 'Tuesday', 'Wednesday', 'Thursday', 'Friday', 'Saturday', 'Sunday'])\n",
    "display(total_consumption)"
   ],
   "metadata": {
    "collapsed": false
   }
  },
  {
   "cell_type": "markdown",
   "source": [
    "Average temperature in the living room (measurements for LIVING ROOM only)"
   ],
   "metadata": {
    "collapsed": false
   }
  },
  {
   "cell_type": "code",
   "execution_count": 54,
   "outputs": [
    {
     "data": {
      "text/plain": "Day of the week\nMonday             NaN\nTuesday      16.733333\nWednesday    16.690104\nThursday     16.554688\nFriday       17.669271\nSaturday     17.283854\nSunday       18.332031\nName: Value, dtype: float64"
     },
     "metadata": {},
     "output_type": "display_data"
    }
   ],
   "source": [
    "average_lr = df1.Value[(df1.Unit == 'Celsius') & (df1.Device == 'LIVING ROOM')].groupby(df1['Day of the week']).mean().reindex(['Monday', 'Tuesday', 'Wednesday', 'Thursday', 'Friday','Saturday', 'Sunday'])\n",
    "\n",
    "display(average_lr)"
   ],
   "metadata": {
    "collapsed": false
   }
  },
  {
   "cell_type": "code",
   "execution_count": 56,
   "outputs": [
    {
     "data": {
      "text/plain": "                 Consumption  Avarage Temperature\nDay of the week                                  \nMonday              0.002809                  NaN\nTuesday             0.005877            16.733333\nWednesday           0.005417            16.690104\nThursday            0.003838            16.554688\nFriday              0.005408            17.669271\nSaturday            0.002652            17.283854\nSunday              0.006041            18.332031",
      "text/html": "<div>\n<style scoped>\n    .dataframe tbody tr th:only-of-type {\n        vertical-align: middle;\n    }\n\n    .dataframe tbody tr th {\n        vertical-align: top;\n    }\n\n    .dataframe thead th {\n        text-align: right;\n    }\n</style>\n<table border=\"1\" class=\"dataframe\">\n  <thead>\n    <tr style=\"text-align: right;\">\n      <th></th>\n      <th>Consumption</th>\n      <th>Avarage Temperature</th>\n    </tr>\n    <tr>\n      <th>Day of the week</th>\n      <th></th>\n      <th></th>\n    </tr>\n  </thead>\n  <tbody>\n    <tr>\n      <th>Monday</th>\n      <td>0.002809</td>\n      <td>NaN</td>\n    </tr>\n    <tr>\n      <th>Tuesday</th>\n      <td>0.005877</td>\n      <td>16.733333</td>\n    </tr>\n    <tr>\n      <th>Wednesday</th>\n      <td>0.005417</td>\n      <td>16.690104</td>\n    </tr>\n    <tr>\n      <th>Thursday</th>\n      <td>0.003838</td>\n      <td>16.554688</td>\n    </tr>\n    <tr>\n      <th>Friday</th>\n      <td>0.005408</td>\n      <td>17.669271</td>\n    </tr>\n    <tr>\n      <th>Saturday</th>\n      <td>0.002652</td>\n      <td>17.283854</td>\n    </tr>\n    <tr>\n      <th>Sunday</th>\n      <td>0.006041</td>\n      <td>18.332031</td>\n    </tr>\n  </tbody>\n</table>\n</div>"
     },
     "metadata": {},
     "output_type": "display_data"
    }
   ],
   "source": [
    "df2 = pd.DataFrame({'Consumption': total_consumption, 'Avarage Temperature' : average_lr})\n",
    "display(df2)"
   ],
   "metadata": {
    "collapsed": false
   }
  },
  {
   "cell_type": "markdown",
   "source": [],
   "metadata": {
    "collapsed": false
   }
  },
  {
   "cell_type": "markdown",
   "source": [
    "Question 3\n",
    "\n",
    "We want to be able to perform analyses on the logs of a web server. An example\n",
    "log  file  UofS_access_log.small  can  be  downloaded  from  Canvas.  To  be  able  to  perform\n",
    "analyses on it you need to get the relevant data in a data frame. This should be an automatic\n",
    "process so that each log can be loaded. Below is an example of the first rows:"
   ],
   "metadata": {
    "collapsed": false
   }
  },
  {
   "cell_type": "code",
   "execution_count": 58,
   "outputs": [
    {
     "data": {
      "text/plain": "                             0  1  2                      3       4  \\\n0          cad49.cadvision.com  -  -  [01/Jun/1995:00:53:19  -0600]   \n1                130.89.250.24  -  -  [01/Jun/1995:02:45:12  -0600]   \n2                130.54.25.198  -  -  [01/Jun/1995:03:29:56  -0600]   \n3                 148.81.17.41  -  -  [01/Jun/1995:04:02:17  -0600]   \n4  anumsun6.univ-st-etienne.fr  -  -  [01/Jun/1995:04:40:30  -0600]   \n\n                                               5    6     7  \n0        GET /~lowey/webville/icons/blank_32.gif  200   167  \n1        GET /~lowey/webville/icons/south_32.gif  200   210  \n2  GET /~macphed/finite/fe_resources/node92.html  200  1668  \n3           GET /~friesend/tolkien/rootpage.html  200   461  \n4  GET /~macphed/finite/fe_resources/node58.html  200  1707  ",
      "text/html": "<div>\n<style scoped>\n    .dataframe tbody tr th:only-of-type {\n        vertical-align: middle;\n    }\n\n    .dataframe tbody tr th {\n        vertical-align: top;\n    }\n\n    .dataframe thead th {\n        text-align: right;\n    }\n</style>\n<table border=\"1\" class=\"dataframe\">\n  <thead>\n    <tr style=\"text-align: right;\">\n      <th></th>\n      <th>0</th>\n      <th>1</th>\n      <th>2</th>\n      <th>3</th>\n      <th>4</th>\n      <th>5</th>\n      <th>6</th>\n      <th>7</th>\n    </tr>\n  </thead>\n  <tbody>\n    <tr>\n      <th>0</th>\n      <td>cad49.cadvision.com</td>\n      <td>-</td>\n      <td>-</td>\n      <td>[01/Jun/1995:00:53:19</td>\n      <td>-0600]</td>\n      <td>GET /~lowey/webville/icons/blank_32.gif</td>\n      <td>200</td>\n      <td>167</td>\n    </tr>\n    <tr>\n      <th>1</th>\n      <td>130.89.250.24</td>\n      <td>-</td>\n      <td>-</td>\n      <td>[01/Jun/1995:02:45:12</td>\n      <td>-0600]</td>\n      <td>GET /~lowey/webville/icons/south_32.gif</td>\n      <td>200</td>\n      <td>210</td>\n    </tr>\n    <tr>\n      <th>2</th>\n      <td>130.54.25.198</td>\n      <td>-</td>\n      <td>-</td>\n      <td>[01/Jun/1995:03:29:56</td>\n      <td>-0600]</td>\n      <td>GET /~macphed/finite/fe_resources/node92.html</td>\n      <td>200</td>\n      <td>1668</td>\n    </tr>\n    <tr>\n      <th>3</th>\n      <td>148.81.17.41</td>\n      <td>-</td>\n      <td>-</td>\n      <td>[01/Jun/1995:04:02:17</td>\n      <td>-0600]</td>\n      <td>GET /~friesend/tolkien/rootpage.html</td>\n      <td>200</td>\n      <td>461</td>\n    </tr>\n    <tr>\n      <th>4</th>\n      <td>anumsun6.univ-st-etienne.fr</td>\n      <td>-</td>\n      <td>-</td>\n      <td>[01/Jun/1995:04:40:30</td>\n      <td>-0600]</td>\n      <td>GET /~macphed/finite/fe_resources/node58.html</td>\n      <td>200</td>\n      <td>1707</td>\n    </tr>\n  </tbody>\n</table>\n</div>"
     },
     "metadata": {},
     "output_type": "display_data"
    }
   ],
   "source": [
    "df1 = pd.read_csv('UofS_access_log.small', sep=' ', header=None, encoding='latin', on_bad_lines='skip')\n",
    "display(df1.head())"
   ],
   "metadata": {
    "collapsed": false
   }
  },
  {
   "cell_type": "markdown",
   "source": [],
   "metadata": {
    "collapsed": false
   }
  }
 ],
 "metadata": {
  "kernelspec": {
   "display_name": "Python 3",
   "language": "python",
   "name": "python3"
  },
  "language_info": {
   "codemirror_mode": {
    "name": "ipython",
    "version": 2
   },
   "file_extension": ".py",
   "mimetype": "text/x-python",
   "name": "python",
   "nbconvert_exporter": "python",
   "pygments_lexer": "ipython2",
   "version": "2.7.6"
  }
 },
 "nbformat": 4,
 "nbformat_minor": 0
}
