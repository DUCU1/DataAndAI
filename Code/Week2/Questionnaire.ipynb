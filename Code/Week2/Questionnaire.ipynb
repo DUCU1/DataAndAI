{
 "cells": [
  {
   "cell_type": "code",
   "execution_count": null,
   "metadata": {
    "collapsed": true
   },
   "outputs": [],
   "source": [
    "import pandas as pd\n",
    "import os\n",
    "os.chdir('/Users/vladbuinceanu/Documents/KdG/Data and A.I./Sem 2/Python/Python/Sources')\n",
    "studentq = pd.read_csv('Questionnaire 22-23.csv', delimiter=';', decimal=',')\n",
    "display(studentq)"
   ]
  },
  {
   "cell_type": "markdown",
   "source": [
    "# 1.a What is the percentage of students that do not know their blood type?\n",
    "\n",
    "<-- ANSWER -->\n",
    "36.78%"
   ],
   "metadata": {
    "collapsed": false
   }
  },
  {
   "cell_type": "code",
   "execution_count": null,
   "outputs": [],
   "source": [
    "blood = studentq[studentq['Blood Type'] == 'Unknown']\n",
    "display(blood.shape[0]/studentq.shape[0] * 100)"
   ],
   "metadata": {
    "collapsed": false
   }
  },
  {
   "cell_type": "markdown",
   "source": [
    "# 1.b What is the percentage of students who already have their driver's license?\n",
    "\n",
    "<-- ANSWER -->\n",
    "32.18"
   ],
   "metadata": {
    "collapsed": false
   }
  },
  {
   "cell_type": "code",
   "execution_count": null,
   "outputs": [],
   "source": [
    "driver = studentq[studentq['Driver License'] == 'Yes']\n",
    "display(driver.shape[0]/studentq.shape[0] * 100)"
   ],
   "metadata": {
    "collapsed": false
   }
  },
  {
   "cell_type": "markdown",
   "source": [
    "# 2.a How many mobile devices (on average) use left-handers?\n",
    "\n",
    "<-- ANSWER -->\n",
    "2.6"
   ],
   "metadata": {
    "collapsed": false
   }
  },
  {
   "cell_type": "code",
   "execution_count": null,
   "outputs": [],
   "source": [
    "left = studentq[studentq['Writing Hand'] == 'Left']\n",
    "display(left['Mobile Devices'].mean())"
   ],
   "metadata": {
    "collapsed": false
   }
  },
  {
   "cell_type": "markdown",
   "source": [
    "# 2.b What about the right-handers?\n",
    "\n",
    "<-- ANSWER -->\n",
    "2.60"
   ],
   "metadata": {
    "collapsed": false
   }
  },
  {
   "cell_type": "code",
   "execution_count": null,
   "outputs": [],
   "source": [
    "right = studentq[studentq['Writing Hand'] == 'Right']\n",
    "display(right['Mobile Devices'].mean())"
   ],
   "metadata": {
    "collapsed": false
   }
  },
  {
   "cell_type": "markdown",
   "source": [
    "# 3.a Add a column to the data frame and place a person's size expressed in his shoe size (in other words divide 'Height' by 'Shoe Size')"
   ],
   "metadata": {
    "collapsed": false
   }
  },
  {
   "cell_type": "code",
   "execution_count": null,
   "outputs": [],
   "source": [
    "studentq['Size by ss'] = studentq['Height'] / studentq['Shoe Size'].astype(float)\n",
    "\n",
    "display(studentq['Size by ss'])"
   ],
   "metadata": {
    "collapsed": false
   }
  },
  {
   "cell_type": "markdown",
   "source": [
    "# 3.b What is the lowest, highest and average value for this?\n",
    "\n",
    "<-- ANSWER -->\n",
    "Low: 3.2\n",
    "High: 5.4\n",
    "Average: 4.2"
   ],
   "metadata": {
    "collapsed": false
   }
  },
  {
   "cell_type": "code",
   "execution_count": null,
   "outputs": [],
   "source": [
    "display(studentq['Size by ss'].min())\n",
    "display(studentq['Size by ss'].max())\n",
    "display(studentq['Size by ss'].mean())"
   ],
   "metadata": {
    "collapsed": false
   }
  },
  {
   "cell_type": "markdown",
   "source": [
    "# 4. How many siblings do the questionnaire participants have (in total)?\n",
    "\n",
    "<-- ANSWER -->\n",
    "156"
   ],
   "metadata": {
    "collapsed": false
   }
  },
  {
   "cell_type": "code",
   "execution_count": null,
   "outputs": [],
   "source": [
    "display(studentq['Siblings'].sum())"
   ],
   "metadata": {
    "collapsed": false
   }
  },
  {
   "cell_type": "markdown",
   "source": [
    "# 5. Visualize the distance to KdG for each student and the time needed to get to KdG"
   ],
   "metadata": {
    "collapsed": false
   }
  },
  {
   "cell_type": "code",
   "execution_count": null,
   "outputs": [],
   "source": [
    "import matplotlib.pyplot as plt\n",
    "studentq.plot.scatter(x='Travel Distance', y='Travel Time', title='Distance to KdG')\n",
    "plt.show()"
   ],
   "metadata": {
    "collapsed": false
   }
  }
 ],
 "metadata": {
  "kernelspec": {
   "display_name": "Python 3",
   "language": "python",
   "name": "python3"
  },
  "language_info": {
   "codemirror_mode": {
    "name": "ipython",
    "version": 2
   },
   "file_extension": ".py",
   "mimetype": "text/x-python",
   "name": "python",
   "nbconvert_exporter": "python",
   "pygments_lexer": "ipython2",
   "version": "2.7.6"
  }
 },
 "nbformat": 4,
 "nbformat_minor": 0
}
