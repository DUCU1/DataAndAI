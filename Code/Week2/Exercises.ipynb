{
 "cells": [
  {
   "cell_type": "markdown",
   "source": [
    "Use of Python for Data Science & A.I. - Exercises\n",
    "\n",
    "Question 1: Create a table (data frame) with 4 columns:\n",
    "    id: 1, 2, 3, 4, 5\n",
    "    age: 15, 18, 11, 17, 20\n",
    "    weight: 54, 68, 41, 59, 65\n",
    "    temp: 36.5, 37.1, 36.4, 37.2, 36.9\n"
   ],
   "metadata": {
    "collapsed": false
   }
  },
  {
   "cell_type": "code",
   "execution_count": 1,
   "outputs": [
    {
     "name": "stdout",
     "output_type": "stream",
     "text": [
      "   id  age  weight  temp\n",
      "0   1   15      54  36.5\n",
      "1   2   18      68  37.1\n",
      "2   3   11      41  36.4\n",
      "3   4   17      59  37.2\n",
      "4   5   20      65  36.9\n"
     ]
    }
   ],
   "source": [
    "import pandas as pd\n",
    "\n",
    "dfA=pd.DataFrame({'id':[1,2,3,4,5],'age':[15,18,11,17,20], 'weight':[54,68, 41, 59, 65], 'temp':[36.5,37.1, 36.4, 37.2, 36.9]}, columns=['id', 'age', 'weight', 'temp'])\n",
    "\n",
    "print(dfA)"
   ],
   "metadata": {
    "collapsed": false
   }
  }
 ],
 "metadata": {
  "kernelspec": {
   "display_name": "Python 3",
   "language": "python",
   "name": "python3"
  },
  "language_info": {
   "codemirror_mode": {
    "name": "ipython",
    "version": 2
   },
   "file_extension": ".py",
   "mimetype": "text/x-python",
   "name": "python",
   "nbconvert_exporter": "python",
   "pygments_lexer": "ipython2",
   "version": "2.7.6"
  }
 },
 "nbformat": 4,
 "nbformat_minor": 0
}
