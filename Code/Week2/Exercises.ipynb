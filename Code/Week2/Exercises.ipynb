{
 "cells": [
  {
   "cell_type": "markdown",
   "source": [
    "Use of Python for Data Science & A.I. - Exercises\n",
    "\n",
    "Question 1: Create a table (data frame) with 4 columns:\n",
    "    id: 1, 2, 3, 4, 5\n",
    "    age: 15, 18, 11, 17, 20\n",
    "    weight: 54, 68, 41, 59, 65\n",
    "    temp: 36.5, 37.1, 36.4, 37.2, 36.9\n"
   ],
   "metadata": {
    "collapsed": false
   }
  },
  {
   "cell_type": "code",
   "execution_count": 77,
   "outputs": [
    {
     "name": "stdout",
     "output_type": "stream",
     "text": [
      "   id  age  weight  temp\n",
      "0   1   15      54  36.5\n",
      "1   2   18      68  37.1\n",
      "2   3   11      41  36.4\n",
      "3   4   17      59  37.2\n",
      "4   5   20      65  36.9\n"
     ]
    }
   ],
   "source": [
    "import pandas as pd\n",
    "\n",
    "dfA=pd.DataFrame({'id':[1,2,3,4,5],'age':[15,18,11,17,20], 'weight':[54,68, 41, 59, 65], 'temp':[36.5,37.1, 36.4, 37.2, 36.9]}, columns=['id', 'age', 'weight', 'temp'])\n",
    "\n",
    "print(dfA)"
   ],
   "metadata": {
    "collapsed": false
   }
  },
  {
   "cell_type": "markdown",
   "source": [
    "Question 2:\n",
    "a. Copy the 2nd column from the table into a variable. What data type does\n",
    "this variable have?"
   ],
   "metadata": {
    "collapsed": false
   }
  },
  {
   "cell_type": "code",
   "execution_count": 56,
   "outputs": [
    {
     "name": "stdout",
     "output_type": "stream",
     "text": [
      "<class 'pandas.core.series.Series'>\n"
     ]
    }
   ],
   "source": [
    "second_column = dfA.iloc[:,1]\n",
    "print(type(second_column))\n",
    "\n",
    "# Answer : Is a Series"
   ],
   "metadata": {
    "collapsed": false
   }
  },
  {
   "cell_type": "markdown",
   "source": [
    "b. Show the 3rd row off the table"
   ],
   "metadata": {
    "collapsed": false
   }
  },
  {
   "cell_type": "code",
   "execution_count": 57,
   "outputs": [
    {
     "name": "stdout",
     "output_type": "stream",
     "text": [
      "id         3.0\n",
      "age       11.0\n",
      "weight    41.0\n",
      "temp      36.4\n",
      "Name: 2, dtype: float64\n"
     ]
    }
   ],
   "source": [
    "print(dfA.iloc[2,:])"
   ],
   "metadata": {
    "collapsed": false
   }
  },
  {
   "cell_type": "markdown",
   "source": [
    "\n",
    "c. Calculate the minimum and maximum age"
   ],
   "metadata": {
    "collapsed": false
   }
  },
  {
   "cell_type": "code",
   "execution_count": 58,
   "outputs": [
    {
     "name": "stdout",
     "output_type": "stream",
     "text": [
      "11\n",
      "20\n"
     ]
    }
   ],
   "source": [
    "print(dfA['age'].min())\n",
    "print(dfA['age'].max())"
   ],
   "metadata": {
    "collapsed": false
   }
  },
  {
   "cell_type": "markdown",
   "source": [
    "d. Calculate the sum of all weights and divide that by the number of weights"
   ],
   "metadata": {
    "collapsed": false
   }
  },
  {
   "cell_type": "code",
   "execution_count": 59,
   "outputs": [
    {
     "name": "stdout",
     "output_type": "stream",
     "text": [
      "57.4\n"
     ]
    }
   ],
   "source": [
    "print(dfA['weight'].sum()/dfA['weight'].count())"
   ],
   "metadata": {
    "collapsed": false
   }
  },
  {
   "cell_type": "markdown",
   "source": [
    "\n",
    "e. Divide all weights by 1000"
   ],
   "metadata": {
    "collapsed": false
   }
  },
  {
   "cell_type": "code",
   "execution_count": 60,
   "outputs": [
    {
     "name": "stdout",
     "output_type": "stream",
     "text": [
      "0    0.054\n",
      "1    0.068\n",
      "2    0.041\n",
      "3    0.059\n",
      "4    0.065\n",
      "Name: weight, dtype: float64\n"
     ]
    }
   ],
   "source": [
    "print(dfA['weight']/1000)"
   ],
   "metadata": {
    "collapsed": false
   }
  },
  {
   "cell_type": "markdown",
   "source": [
    "\n",
    "f. Convert all temperatures to Fahrenheit"
   ],
   "metadata": {
    "collapsed": false
   }
  },
  {
   "cell_type": "code",
   "execution_count": 61,
   "outputs": [
    {
     "name": "stdout",
     "output_type": "stream",
     "text": [
      "0    97.70\n",
      "1    98.78\n",
      "2    97.52\n",
      "3    98.96\n",
      "4    98.42\n",
      "Name: temp, dtype: float64\n"
     ]
    }
   ],
   "source": [
    "print(dfA['temp'].apply(lambda x: (x*9/5)+32))"
   ],
   "metadata": {
    "collapsed": false
   }
  },
  {
   "cell_type": "markdown",
   "source": [
    "Question 3:\n",
    "a. Save the table in a file"
   ],
   "metadata": {
    "collapsed": false
   }
  },
  {
   "cell_type": "code",
   "execution_count": 62,
   "outputs": [
    {
     "name": "stdout",
     "output_type": "stream",
     "text": [
      "/Users/vladbuinceanu/Documents/KdG/Data and A.I./Sem 2/Python/Python/Sources\n"
     ]
    }
   ],
   "source": [
    "import os\n",
    "print (os.getcwd())\n",
    "os.chdir('/Users/vladbuinceanu/Documents/KdG/Data and A.I./Sem 2/Python/Python/Sources')\n",
    "\n",
    "dfA.to_csv('dfA.csv', sep=',', index=False)"
   ],
   "metadata": {
    "collapsed": false
   }
  },
  {
   "cell_type": "markdown",
   "source": [
    "b. Read in the table in IntelliJ (Python) as a data frame. Change something in it and save again"
   ],
   "metadata": {
    "collapsed": false
   }
  },
  {
   "cell_type": "code",
   "execution_count": 71,
   "outputs": [
    {
     "name": "stdout",
     "output_type": "stream",
     "text": [
      "   id  age  weight  temp\n",
      "0   1   15      54  36.5\n",
      "1   2   18      68  37.1\n",
      "2   3   11      41  36.4\n",
      "3   4   17      59  37.2\n"
     ]
    }
   ],
   "source": [
    "dfA = pd.read_csv('dfA.csv', sep=',')\n",
    "dfA.drop([4], inplace=True)\n",
    "dfA.to_csv('dfA.csv', sep=',', index=False)"
   ],
   "metadata": {
    "collapsed": false
   }
  },
  {
   "cell_type": "markdown",
   "source": [
    "c. Read the table from the file"
   ],
   "metadata": {
    "collapsed": false
   }
  },
  {
   "cell_type": "code",
   "execution_count": 72,
   "outputs": [
    {
     "name": "stdout",
     "output_type": "stream",
     "text": [
      "   id  age  weight  temp\n",
      "0   1   15      54  36.5\n",
      "1   2   18      68  37.1\n",
      "2   3   11      41  36.4\n",
      "3   4   17      59  37.2\n"
     ]
    }
   ],
   "source": [
    "print(pd.read_csv('dfA.csv', sep=','))"
   ],
   "metadata": {
    "collapsed": false
   }
  },
  {
   "cell_type": "markdown",
   "source": [
    "Question 4:\n",
    "a. Delete the \"id\" column"
   ],
   "metadata": {
    "collapsed": false
   }
  },
  {
   "cell_type": "code",
   "execution_count": 73,
   "outputs": [
    {
     "name": "stdout",
     "output_type": "stream",
     "text": [
      "   age  weight  temp\n",
      "0   15      54  36.5\n",
      "1   18      68  37.1\n",
      "2   11      41  36.4\n",
      "3   17      59  37.2\n"
     ]
    }
   ],
   "source": [
    "dfA.drop('id', axis=1, inplace=True);\n",
    "print(dfA)"
   ],
   "metadata": {
    "collapsed": false
   }
  },
  {
   "cell_type": "markdown",
   "source": [
    "\n",
    "b. Add a column \"length\" with data: 160, 175, 162, 169, 179"
   ],
   "metadata": {
    "collapsed": false
   }
  },
  {
   "cell_type": "code",
   "execution_count": 83,
   "outputs": [
    {
     "name": "stdout",
     "output_type": "stream",
     "text": [
      "   id  age  weight  temp  length\n",
      "0   1   15      54  36.5     160\n",
      "1   2   18      68  37.1     175\n",
      "2   3   11      41  36.4     162\n",
      "3   4   17      59  37.2     169\n",
      "4   5   20      65  36.9     179\n"
     ]
    }
   ],
   "source": [
    "dfA['length'] = [160, 175, 162,169, 179]\n",
    "\n",
    "print(dfA)"
   ],
   "metadata": {
    "collapsed": false
   }
  },
  {
   "cell_type": "markdown",
   "source": [
    "\n",
    "c. Calculate the BMI of each person in the table"
   ],
   "metadata": {
    "collapsed": false
   }
  },
  {
   "cell_type": "code",
   "execution_count": 87,
   "outputs": [
    {
     "name": "stdout",
     "output_type": "stream",
     "text": [
      "   id  age  weight  temp  length        bmi\n",
      "0   1   15      54  36.5     160  21.093750\n",
      "1   2   18      68  37.1     175  22.204082\n",
      "2   3   11      41  36.4     162  15.622619\n",
      "3   4   17      59  37.2     169  20.657540\n",
      "4   5   20      65  36.9     179  20.286508\n"
     ]
    }
   ],
   "source": [
    "dfA['bmi'] = dfA['weight']/((dfA['length']/100) *(dfA['length']/100))\n",
    "print(dfA)"
   ],
   "metadata": {
    "collapsed": false
   }
  },
  {
   "cell_type": "markdown",
   "source": [
    "\n",
    "d. Add this BMI as a column to the table"
   ],
   "metadata": {
    "collapsed": false
   }
  },
  {
   "cell_type": "code",
   "execution_count": null,
   "outputs": [],
   "source": [
    "# Did previous"
   ],
   "metadata": {
    "collapsed": false
   }
  },
  {
   "cell_type": "markdown",
   "source": [
    "\n",
    "e. Retain only the weights that are smaller or equal to 60 from the weight\n",
    "column."
   ],
   "metadata": {
    "collapsed": false
   }
  },
  {
   "cell_type": "code",
   "execution_count": 88,
   "outputs": [
    {
     "name": "stdout",
     "output_type": "stream",
     "text": [
      "   id  age  weight  temp  length        bmi\n",
      "0   1   15    54.0  36.5     160  21.093750\n",
      "1   2   18     NaN  37.1     175  22.204082\n",
      "2   3   11    41.0  36.4     162  15.622619\n",
      "3   4   17    59.0  37.2     169  20.657540\n",
      "4   5   20     NaN  36.9     179  20.286508\n"
     ]
    }
   ],
   "source": [
    "dfA['weight'] = dfA['weight'].where(dfA['weight'] <= 60)\n",
    "print(dfA)"
   ],
   "metadata": {
    "collapsed": false
   }
  },
  {
   "cell_type": "markdown",
   "source": [
    "\n",
    "f. In the age column, replace all ages greater or equal to 18 by 19"
   ],
   "metadata": {
    "collapsed": false
   }
  },
  {
   "cell_type": "code",
   "execution_count": 89,
   "outputs": [
    {
     "name": "stdout",
     "output_type": "stream",
     "text": [
      "   id  age  weight  temp  length        bmi\n",
      "0   1   15    54.0  36.5     160  21.093750\n",
      "1  19   19    19.0  19.0      19  19.000000\n",
      "2   3   11    41.0  36.4     162  15.622619\n",
      "3   4   17    59.0  37.2     169  20.657540\n",
      "4  19   19    19.0  19.0      19  19.000000\n"
     ]
    }
   ],
   "source": [
    "dfA[(dfA.age >= 18)] = 19\n",
    "print(dfA)"
   ],
   "metadata": {
    "collapsed": false
   }
  },
  {
   "cell_type": "markdown",
   "source": [
    "\n",
    "g. Find all temperatures of persons over 16 years of age"
   ],
   "metadata": {
    "collapsed": false
   }
  },
  {
   "cell_type": "code",
   "execution_count": 91,
   "outputs": [
    {
     "name": "stdout",
     "output_type": "stream",
     "text": [
      "0     NaN\n",
      "1    19.0\n",
      "2     NaN\n",
      "3    37.2\n",
      "4    19.0\n",
      "Name: temp, dtype: float64\n"
     ]
    }
   ],
   "source": [
    "print(dfA['temp'].where(dfA['age'] > 16))"
   ],
   "metadata": {
    "collapsed": false
   }
  },
  {
   "cell_type": "markdown",
   "source": [
    "Question 6:\n",
    "a. Create a function \"replace(myList, to_look_for, replacement)\" that looks for a value in a list and replaces it with another."
   ],
   "metadata": {
    "collapsed": false
   }
  },
  {
   "cell_type": "code",
   "execution_count": 92,
   "outputs": [],
   "source": [
    "def replace(myList, to_look_for, replacement):\n",
    "    for i in range(len(myList)):\n",
    "        if myList[i] == to_look_for:\n",
    "            myList[i] = replacement\n",
    "    return myList"
   ],
   "metadata": {
    "collapsed": false
   }
  },
  {
   "cell_type": "markdown",
   "source": [
    "\n",
    "b. Test the function by replacing the value 30 with 42 in the list [ 10, 20, 30,\n",
    "30, 30 ]."
   ],
   "metadata": {
    "collapsed": false
   }
  },
  {
   "cell_type": "code",
   "execution_count": 93,
   "outputs": [
    {
     "name": "stdout",
     "output_type": "stream",
     "text": [
      "[10, 20, 42, 42, 42]\n"
     ]
    }
   ],
   "source": [
    "list = [10, 20, 30, 30, 30]\n",
    "replace(list, 30, 42)\n",
    "print(list)"
   ],
   "metadata": {
    "collapsed": false
   }
  },
  {
   "cell_type": "markdown",
   "source": [
    "\n",
    "c. Try if your function also works on a numpy array and a pandas Serie"
   ],
   "metadata": {
    "collapsed": false
   }
  },
  {
   "cell_type": "code",
   "execution_count": 96,
   "outputs": [
    {
     "name": "stdout",
     "output_type": "stream",
     "text": [
      "[10 20 42 42]\n",
      "0    10\n",
      "1    20\n",
      "2    42\n",
      "3    42\n",
      "dtype: int64\n"
     ]
    }
   ],
   "source": [
    "import numpy as np\n",
    "array = np.array([10, 20, 30, 30])\n",
    "replace(array, 30, 42)\n",
    "print(array)\n",
    "\n",
    "series = pd.Series([10, 20, 30, 30])\n",
    "replace(series, 30, 42)\n",
    "print(series)\n",
    "\n",
    "# It works !"
   ],
   "metadata": {
    "collapsed": false
   }
  }
 ],
 "metadata": {
  "kernelspec": {
   "display_name": "Python 3",
   "language": "python",
   "name": "python3"
  },
  "language_info": {
   "codemirror_mode": {
    "name": "ipython",
    "version": 2
   },
   "file_extension": ".py",
   "mimetype": "text/x-python",
   "name": "python",
   "nbconvert_exporter": "python",
   "pygments_lexer": "ipython2",
   "version": "2.7.6"
  }
 },
 "nbformat": 4,
 "nbformat_minor": 0
}
