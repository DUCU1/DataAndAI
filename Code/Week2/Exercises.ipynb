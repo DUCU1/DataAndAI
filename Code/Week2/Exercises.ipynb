{
 "cells": [
  {
   "cell_type": "markdown",
   "source": [
    "Use of Python for Data Science & A.I. - Exercises\n",
    "\n",
    "Question 1: Create a table (data frame) with 4 columns:\n",
    "    id: 1, 2, 3, 4, 5\n",
    "    age: 15, 18, 11, 17, 20\n",
    "    weight: 54, 68, 41, 59, 65\n",
    "    temp: 36.5, 37.1, 36.4, 37.2, 36.9\n"
   ],
   "metadata": {
    "collapsed": false
   }
  },
  {
   "cell_type": "code",
   "execution_count": null,
   "outputs": [],
   "source": [
    "import pandas as pd\n",
    "\n",
    "dfA=pd.DataFrame({'id':[1,2,3,4,5],'age':[15,18,11,17,20], 'weight':[54,68, 41, 59, 65], 'temp':[36.5,37.1, 36.4, 37.2, 36.9]}, columns=['id', 'age', 'weight', 'temp'])\n",
    "\n",
    "print(dfA)"
   ],
   "metadata": {
    "collapsed": false,
    "pycharm": {
     "is_executing": true
    }
   }
  },
  {
   "cell_type": "markdown",
   "source": [
    "Question 2:\n",
    "a. Copy the 2nd column from the table into a variable. What data type does\n",
    "this variable have?"
   ],
   "metadata": {
    "collapsed": false
   }
  },
  {
   "cell_type": "code",
   "execution_count": 3,
   "outputs": [
    {
     "name": "stdout",
     "output_type": "stream",
     "text": [
      "<class 'pandas.core.series.Series'>\n"
     ]
    }
   ],
   "source": [
    "second_column = dfA.iloc[:,1]\n",
    "print(type(second_column))\n",
    "\n",
    "# Answer : Is a Series"
   ],
   "metadata": {
    "collapsed": false
   }
  },
  {
   "cell_type": "markdown",
   "source": [
    "\n",
    "b. Show the 3rd row off the table\n",
    "c. Calculate the minimum and maximum age\n",
    "d. Calculate the sum of all weights and divide that by the number of weights\n",
    "e. Divide all weights by 1000\n",
    "f. Convert all temperatures to Fahrenheit"
   ],
   "metadata": {
    "collapsed": false
   }
  },
  {
   "cell_type": "markdown",
   "source": [],
   "metadata": {
    "collapsed": false
   }
  }
 ],
 "metadata": {
  "kernelspec": {
   "display_name": "Python 3",
   "language": "python",
   "name": "python3"
  },
  "language_info": {
   "codemirror_mode": {
    "name": "ipython",
    "version": 2
   },
   "file_extension": ".py",
   "mimetype": "text/x-python",
   "name": "python",
   "nbconvert_exporter": "python",
   "pygments_lexer": "ipython2",
   "version": "2.7.6"
  }
 },
 "nbformat": 4,
 "nbformat_minor": 0
}
