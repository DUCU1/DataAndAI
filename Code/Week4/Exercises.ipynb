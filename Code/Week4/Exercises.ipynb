{
 "cells": [
  {
   "cell_type": "markdown",
   "source": [
    "Frequency Distribution - Exercises"
   ],
   "metadata": {
    "collapsed": false
   }
  },
  {
   "cell_type": "markdown",
   "source": [
    "Question 1\n",
    "\n",
    "Student health research asks questions about (healthy) eating. One of these questions is: How\n",
    "many times a week do you eat fresh vegetables with dinner? If you want to present the answers\n",
    "of 30 students in a graph, which graph(s) can you use for this?"
   ],
   "metadata": {
    "collapsed": false
   }
  },
  {
   "cell_type": "markdown",
   "source": [
    "A bar chart"
   ],
   "metadata": {
    "collapsed": false
   }
  },
  {
   "cell_type": "markdown",
   "source": [
    "Question 2\n",
    "\n",
    "In the research on the health of students, questions are asked about (healthy) eating. One of\n",
    "these questions is: What kind of fruit did you eat the most of in the past week (7 days)? The\n",
    "answers of 30 students are listed in the following table:\n",
    "\n",
    "\n",
    "Fruit     apple banana grapes pear melon kiwi\n",
    "Frequency 17    5      3      1    2     2\n",
    "\n",
    "From this data, make a pie chart.\n",
    "From this data, make a bar chart."
   ],
   "metadata": {
    "collapsed": false
   }
  },
  {
   "cell_type": "code",
   "execution_count": null,
   "outputs": [],
   "source": [
    "import pandas as pd\n",
    "dfA = pd.DataFrame({'Fruit': ['apple', 'banana', 'grapes', 'pear', 'mel'], 'Frequency': [17, 5, 3, 1, 2]}, columns=['Fruit', 'Frequency'])"
   ],
   "metadata": {
    "collapsed": false
   }
  },
  {
   "cell_type": "code",
   "execution_count": null,
   "outputs": [],
   "source": [
    "import matplotlib.pyplot as plt\n",
    "x = dfA.Frequency\n",
    "I = dfA.Fruit\n",
    "plt.figure()\n",
    "plt.pie(x, labels=I)\n",
    "plt.title('Most Eaten Fruit')\n",
    "plt.show()\n",
    "#Bar chart\n",
    "x = dfA.Frequency\n",
    "I = dfA.Fruit\n",
    "plt.figure()\n",
    "plt.bar(I, x)\n",
    "plt.title('Most Eaten Fruit')\n",
    "plt.show()\n"
   ],
   "metadata": {
    "collapsed": false
   }
  },
  {
   "cell_type": "markdown",
   "source": [
    "Question 3\n",
    "\n",
    "See the frequency table below:\n",
    "\n",
    "x 4 5 6 7 8 9 10\n",
    "frequency 2 3 5 6 4 2 3\n",
    "\n",
    "What cumulative percentage is associated with score 6?\n",
    "What percentile score is associated with score 8?"
   ],
   "metadata": {
    "collapsed": false
   }
  },
  {
   "cell_type": "code",
   "execution_count": null,
   "outputs": [],
   "source": [
    "import os\n",
    "os.chdir('/Users/vladbuinceanu/Documents/KdG/Data and A.I./Sem 2/Python/Python/Code/Week4')\n",
    "from functions import *\n",
    "\n",
    "x = [4,5,6,7,8,9,10]\n",
    "freq = [2,3,5,6,4,2,3]\n",
    "df = pd.DataFrame({'freq': freq }, columns = ['freq'], index=x)\n",
    "cum_perc = df.cumsum()/df.sum()*100\n",
    "cum_perc.columns = ['cum perc']\n",
    "display(cum_perc)"
   ],
   "metadata": {
    "collapsed": false
   }
  },
  {
   "cell_type": "markdown",
   "source": [
    "!! ANSWER HERE!!\n",
    "Comulative percentage 6: 40\n",
    "Percentile score 8: 80\n",
    "\n",
    "Also:\n",
    "# import pandas as pd\n",
    "x = [4,5,6,7,8,9,10]\n",
    "freq = [2,3,5,6,4,2,3]\n",
    "df = pd.DataFrame({'freq':freq}, columns = ['freq'],index=x)\n",
    "print(2/25*100)\n",
    "print((2+3)/25*100)\n",
    "print((2+3+5)/25*100)\n",
    "print((2+3+5+6)/25*100)\n",
    "print((2+3+5+6+4)/25*100)\n",
    "print((2+3+5+6+4+2)/25*100)\n",
    "print((2+3+5+6+4+2+3)/25*100)\n",
    "\n",
    "#these values are the same as doing\n",
    "cum_perc = df.cumsum()/df.sum()*100\n",
    "\n",
    "#if you want to use the all_freq functions.\n",
    "#convert the initial frequencies back to standard data\n",
    "x2 = [4,4,5,5,5,6,6,6,6,6,7,7,7,7,7,7,8,8,8,8,9,9,10,10,10]\n",
    "df2 = pd.DataFrame({'x2':x2}, columns = ['x2'])\n",
    "all_freq(df2)\n"
   ],
   "metadata": {
    "collapsed": false
   }
  },
  {
   "cell_type": "markdown",
   "source": [
    "Question 4\n",
    "\n",
    "See the income distribution table below:\n",
    "\n",
    "Category A B C D\n",
    "Income 1000 to 2000 2000 to 3000 3000 to 4000 4000 to 5000\n",
    "Frequency 30 40 30 45\n",
    "\n",
    "Complete the frequency table with relative frequencies (in percent), cumulative percentage and\n",
    "percentile scores.\n",
    "\n",
    "What is the cumulative percentage of income category C?"
   ],
   "metadata": {
    "collapsed": false
   }
  },
  {
   "cell_type": "code",
   "execution_count": null,
   "outputs": [],
   "source": [
    "category = [\"A\", \"B\", \"C\", \"D\"]\n",
    "income = [\"1000 to 2000\", \"2000 to 3000\", \"3000 to 4000\", \"4000 to 5000\"]\n",
    "frequency = [30, 40, 30, 45]\n",
    "\n",
    "df = pd.DataFrame({'category': category, 'income': income, 'frequency': frequency},columns = ['income', 'frequency'] , index=category)\n",
    "\n",
    "df[\"rel. frequency\"]= (df[\"frequency\"]/df[\"frequency\"].sum()*100).round(1)\n",
    "df[\"cum. percentage\"]= (df[\"frequency\"].cumsum()/df[\"frequency\"].sum()*100).round(1)\n",
    "df[\"percentielscore\"] = df[\"cum. percentage\"]\n",
    "\n",
    "\n",
    "display(df)"
   ],
   "metadata": {
    "collapsed": false
   }
  },
  {
   "cell_type": "markdown",
   "source": [],
   "metadata": {
    "collapsed": false
   }
  },
  {
   "cell_type": "markdown",
   "source": [
    "Question 5\n",
    "\n",
    "The scores on a arithmetic test are converted into percentile scores per elementary school.  At\n",
    "school A, Jos gets a percentile score of 72 on the test. At school B, Brent gets a percentile score\n",
    "of 74 on the test.  The teacher rightly concludes that ...\n",
    "2\n",
    "\n",
    "(a) Jos is better at arithmetic than Brent.  false\n",
    "(b) the average percentile score is 73.  true\n",
    "(c) no conclusion is possible about who is better at arithmetic true\n",
    "(d) the test at school A is easier than at school B false"
   ],
   "metadata": {
    "collapsed": false
   }
  }
 ],
 "metadata": {
  "kernelspec": {
   "display_name": "Python 3",
   "language": "python",
   "name": "python3"
  },
  "language_info": {
   "codemirror_mode": {
    "name": "ipython",
    "version": 2
   },
   "file_extension": ".py",
   "mimetype": "text/x-python",
   "name": "python",
   "nbconvert_exporter": "python",
   "pygments_lexer": "ipython2",
   "version": "2.7.6"
  }
 },
 "nbformat": 4,
 "nbformat_minor": 0
}
