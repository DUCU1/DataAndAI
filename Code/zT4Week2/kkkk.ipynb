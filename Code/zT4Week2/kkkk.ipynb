{
 "cells": [
  {
   "cell_type": "code",
   "execution_count": null,
   "metadata": {
    "collapsed": true
   },
   "outputs": [],
   "source": []
  },
  {
   "cell_type": "code",
   "execution_count": 1,
   "outputs": [
    {
     "ename": "TypeError",
     "evalue": "unsupported operand type(s) for -: 'int' and 'function'",
     "output_type": "error",
     "traceback": [
      "\u001B[0;31m---------------------------------------------------------------------------\u001B[0m",
      "\u001B[0;31mTypeError\u001B[0m                                 Traceback (most recent call last)",
      "Cell \u001B[0;32mIn[1], line 1\u001B[0m\n\u001B[0;32m----> 1\u001B[0m \u001B[38;5;28;01mfrom\u001B[39;00m \u001B[38;5;21;01mfrocast\u001B[39;00m \u001B[38;5;28;01mimport\u001B[39;00m \u001B[38;5;241m*\u001B[39m\n\u001B[1;32m      2\u001B[0m past \u001B[38;5;241m=\u001B[39m [\u001B[38;5;241m20\u001B[39m, \u001B[38;5;241m100\u001B[39m, \u001B[38;5;241m175\u001B[39m, \u001B[38;5;241m13\u001B[39m, \u001B[38;5;241m37\u001B[39m, \u001B[38;5;241m136\u001B[39m, \u001B[38;5;241m245\u001B[39m, \u001B[38;5;241m26\u001B[39m, \u001B[38;5;241m75\u001B[39m, \u001B[38;5;241m155\u001B[39m, \u001B[38;5;241m326\u001B[39m, \u001B[38;5;241m48\u001B[39m, \u001B[38;5;241m92\u001B[39m, \u001B[38;5;241m202\u001B[39m, \u001B[38;5;241m384\u001B[39m, \u001B[38;5;241m82\u001B[39m, \u001B[38;5;241m176\u001B[39m, \u001B[38;5;241m282\u001B[39m, \u001B[38;5;241m445\u001B[39m, \u001B[38;5;241m181\u001B[39m]\n\u001B[1;32m      3\u001B[0m reliabilityTable(past,\u001B[38;5;241m4\u001B[39m)\n",
      "File \u001B[0;32m~/Documents/KdG/Data and A.I./Sem 2/Python/Python/Code/zT4Week2/frocast.py:368\u001B[0m\n\u001B[1;32m    365\u001B[0m     \u001B[38;5;28;01mreturn\u001B[39;00m[rel_table]\n\u001B[1;32m    367\u001B[0m past \u001B[38;5;241m=\u001B[39m [\u001B[38;5;241m20\u001B[39m, \u001B[38;5;241m100\u001B[39m, \u001B[38;5;241m175\u001B[39m, \u001B[38;5;241m13\u001B[39m, \u001B[38;5;241m37\u001B[39m, \u001B[38;5;241m136\u001B[39m, \u001B[38;5;241m245\u001B[39m, \u001B[38;5;241m26\u001B[39m, \u001B[38;5;241m75\u001B[39m, \u001B[38;5;241m155\u001B[39m, \u001B[38;5;241m326\u001B[39m, \u001B[38;5;241m48\u001B[39m, \u001B[38;5;241m92\u001B[39m, \u001B[38;5;241m202\u001B[39m, \u001B[38;5;241m384\u001B[39m, \u001B[38;5;241m82\u001B[39m, \u001B[38;5;241m176\u001B[39m, \u001B[38;5;241m282\u001B[39m, \u001B[38;5;241m445\u001B[39m, \u001B[38;5;241m181\u001B[39m]\n\u001B[0;32m--> 368\u001B[0m \u001B[43mreliabilityTable\u001B[49m\u001B[43m(\u001B[49m\u001B[43mpast\u001B[49m\u001B[43m,\u001B[49m\u001B[38;5;241;43m4\u001B[39;49m\u001B[43m)\u001B[49m\n",
      "File \u001B[0;32m~/Documents/KdG/Data and A.I./Sem 2/Python/Python/Code/zT4Week2/frocast.py:339\u001B[0m, in \u001B[0;36mreliabilityTable\u001B[0;34m(past, period)\u001B[0m\n\u001B[1;32m    337\u001B[0m overview_3 \u001B[38;5;241m=\u001B[39m []\n\u001B[1;32m    338\u001B[0m overview_4 \u001B[38;5;241m=\u001B[39m []\n\u001B[0;32m--> 339\u001B[0m result_1 \u001B[38;5;241m=\u001B[39m \u001B[43mmae\u001B[49m\u001B[43m(\u001B[49m\u001B[43mpast\u001B[49m\u001B[43m,\u001B[49m\u001B[43m \u001B[49m\u001B[43mnaive\u001B[49m\u001B[43m)\u001B[49m\n\u001B[1;32m    340\u001B[0m result_2 \u001B[38;5;241m=\u001B[39m rmse(past, naive)\n\u001B[1;32m    341\u001B[0m result_3 \u001B[38;5;241m=\u001B[39m mape(past, naive)\n",
      "File \u001B[0;32m~/Documents/KdG/Data and A.I./Sem 2/Python/Python/Code/zT4Week2/frocast.py:313\u001B[0m, in \u001B[0;36mmae\u001B[0;34m(y_true, y_pred)\u001B[0m\n\u001B[1;32m    311\u001B[0m y_true \u001B[38;5;241m=\u001B[39m np\u001B[38;5;241m.\u001B[39marray(y_true)\n\u001B[1;32m    312\u001B[0m y_pred \u001B[38;5;241m=\u001B[39m np\u001B[38;5;241m.\u001B[39marray(y_pred)\n\u001B[0;32m--> 313\u001B[0m error \u001B[38;5;241m=\u001B[39m np\u001B[38;5;241m.\u001B[39mabs(\u001B[43my_true\u001B[49m\u001B[43m \u001B[49m\u001B[38;5;241;43m-\u001B[39;49m\u001B[43m \u001B[49m\u001B[43my_pred\u001B[49m)\n\u001B[1;32m    314\u001B[0m mae \u001B[38;5;241m=\u001B[39m np\u001B[38;5;241m.\u001B[39mmean(error)\n\u001B[1;32m    315\u001B[0m \u001B[38;5;28;01mreturn\u001B[39;00m mae\n",
      "\u001B[0;31mTypeError\u001B[0m: unsupported operand type(s) for -: 'int' and 'function'"
     ]
    }
   ],
   "source": [
    "from frocast import *\n",
    "past = [20, 100, 175, 13, 37, 136, 245, 26, 75, 155, 326, 48, 92, 202, 384, 82, 176, 282, 445, 181]\n",
    "reliabilityTable(past,4)"
   ],
   "metadata": {
    "collapsed": false,
    "ExecuteTime": {
     "end_time": "2023-06-19T13:15:12.694877Z",
     "start_time": "2023-06-19T13:15:11.339906Z"
    }
   }
  }
 ],
 "metadata": {
  "kernelspec": {
   "display_name": "Python 3",
   "language": "python",
   "name": "python3"
  },
  "language_info": {
   "codemirror_mode": {
    "name": "ipython",
    "version": 2
   },
   "file_extension": ".py",
   "mimetype": "text/x-python",
   "name": "python",
   "nbconvert_exporter": "python",
   "pygments_lexer": "ipython2",
   "version": "2.7.6"
  }
 },
 "nbformat": 4,
 "nbformat_minor": 0
}
