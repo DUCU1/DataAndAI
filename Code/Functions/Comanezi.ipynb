{
 "cells": [
  {
   "cell_type": "code",
   "execution_count": null,
   "metadata": {
    "collapsed": true
   },
   "outputs": [],
   "source": [
    "import pandas as pd\n",
    "import numpy as np\n",
    "dataFrame = pd.DataFrame()"
   ]
  },
  {
   "cell_type": "markdown",
   "source": [
    "# Cum sa afli cate NA values are in tot tabelu"
   ],
   "metadata": {
    "collapsed": false
   }
  },
  {
   "cell_type": "code",
   "execution_count": null,
   "outputs": [],
   "source": [
    "dataFrame.isna().sum().sum()"
   ],
   "metadata": {
    "collapsed": false
   }
  },
  {
   "cell_type": "markdown",
   "source": [
    "# Cum sa faci o coloana din tabel Category"
   ],
   "metadata": {
    "collapsed": false
   }
  },
  {
   "cell_type": "code",
   "execution_count": null,
   "outputs": [],
   "source": [
    "dataFrame['coloana'] = pd.Series(dataFrame['coloana'], dtype='category')"
   ],
   "metadata": {
    "collapsed": false
   }
  },
  {
   "cell_type": "markdown",
   "source": [
    "# Cum salvezi ca csv"
   ],
   "metadata": {
    "collapsed": false
   }
  },
  {
   "cell_type": "code",
   "execution_count": null,
   "outputs": [],
   "source": [
    "dataFrame.to_csv(\"nume\", index=False, header=True)"
   ],
   "metadata": {
    "collapsed": false
   }
  },
  {
   "cell_type": "markdown",
   "source": [
    "# Cum selectezi date din tabel cu iloc (localize data using an index)"
   ],
   "metadata": {
    "collapsed": false
   }
  },
  {
   "cell_type": "code",
   "execution_count": null,
   "outputs": [],
   "source": [
    "dataFrame.iloc[0] # The first row\n",
    "dataFrame.iloc[-1] # The last row\n",
    "dataFrame.iloc[0:2] # The first two rows\n",
    "dataFrame.iloc[:,0] # The first column\n",
    "dataFrame.iloc[1:3, 1:3] # Row 1 and 2 and column 1 and 2ame.to_csv('export_dataFrame.csv', index=False, header=True)\n"
   ],
   "metadata": {
    "collapsed": false
   }
  },
  {
   "cell_type": "markdown",
   "source": [
    "# Dataframe operations"
   ],
   "metadata": {
    "collapsed": false
   }
  },
  {
   "cell_type": "code",
   "execution_count": null,
   "outputs": [],
   "source": [
    "# Accessing data in the dataframe\n",
    "dfC = pd.data.frame()\n",
    "\n",
    "print(dfC.iloc[0][0]) #element in first row & in first column\n",
    "print(dfC.iloc[0]) #data in the first row\n",
    "print(dfC.iloc[-1]) #data in the last row\n",
    "print(dfC.iloc[0:2]) #data in the first 2 rows\n",
    "print(dfC.iloc[:,0]) #data in the first column\n",
    "print(dfC.iloc[1:3,1:2]) #data in Row 1 & 2 and column 1\n",
    "print(dfC.loc[0]['City']) #element in first row & in'City'-column\n",
    "print(dfC.loc[:, 'City']) #data in 'City'-column\n",
    "print(dfC.loc[1:3, 'City'])#data in rows 1,2 & 3 'City'-column\n",
    "print(dfC.iat[0, 0]) #element in first row & in first column\n",
    "print(dfC.at[0,'City']) #element in first row & in'City'-column\n",
    "print(dfC['City'][0]) #element in first row & in 'City'-column\n",
    "print(dfC[0:1]['City']) #element in first row & in 'City'-column\n",
    "print(dfC[0:3]) #data in the first 3 rows\n",
    "print(dfC['City']) #data in 'City'-column\n",
    "print(dfC[0:3] ['City']) #data in the first 3 rows\n",
    "\n",
    "# Delete a column\n",
    "dfD = pd.dataFrame()\n",
    "dfD.pop('E') #shows content of deleted row\n",
    "del dfD['D']\n",
    "dfD.drop(['A','B'], axis=1, inplace=True) #delete one or more\n",
    "# Delete a row\n",
    "dfD.drop([1,2], inplace=True) # \"\"\" indicate the indexes of the rows to be dropped \"\"\"\n",
    "\n",
    "# Delete duplicate rows\n",
    "dfD=pd.DataFrame (data=np.array([[1,2,3], [4,5,6],[7,8,9]]),columns=['A', 'B', 'C'])\n",
    "dfE=pd.DataFrame (data=np.array([[4,5,6]]), columns=['A', 'B', 'C'])\n",
    "dfD=dfD.append(dfE, ignore_index = True)\n",
    "dfD.drop_duplicates(keep='last', inplace=True)"
   ],
   "metadata": {
    "collapsed": false
   }
  },
  {
   "cell_type": "markdown",
   "source": [
    "# Merge datasets"
   ],
   "metadata": {
    "collapsed": false
   }
  },
  {
   "cell_type": "code",
   "execution_count": null,
   "outputs": [],
   "source": [
    "set1 = pd.dataFrame()\n",
    "set2 = pd.dataFrame()\n",
    "merged = pd.merge(set1, set2, on='name')"
   ],
   "metadata": {
    "collapsed": false
   }
  },
  {
   "cell_type": "markdown",
   "source": [
    "# Comenzi pt NaN"
   ],
   "metadata": {
    "collapsed": false
   }
  },
  {
   "cell_type": "code",
   "execution_count": null,
   "outputs": [],
   "source": [
    "df = pd.DataFrame()\n",
    "df.isna().sum().sum() #total number of NA-values in de dataframe\n",
    "rowsWithNaN = dfD[dfD.isna(). any(axis=1)] #the rows containing NA's\n",
    "columnsWithNaN = dfD[dfD.columns[dfD.isna().any(axis=0)]] #the colomns containing NA's"
   ],
   "metadata": {
    "collapsed": false
   }
  },
  {
   "cell_type": "markdown",
   "source": [
    "# Cum faci categorii de alea"
   ],
   "metadata": {
    "collapsed": false
   }
  },
  {
   "cell_type": "code",
   "execution_count": null,
   "outputs": [],
   "source": [
    "x = 'plm'\n",
    "df[df.columns[x]]= df[df.columns[x]].astype(pd.CategoricalDtype(categories=df[df.columns[x]].unique()))\n",
    "\n",
    "# Ordered\n",
    "df[df.columns[x]]= df[df.columns[x]].astype(pd.CategoricalDtype( categories=['value_1',..., 'value_n'],ordered=True))"
   ],
   "metadata": {
    "collapsed": false
   }
  }
 ],
 "metadata": {
  "kernelspec": {
   "display_name": "Python 3",
   "language": "python",
   "name": "python3"
  },
  "language_info": {
   "codemirror_mode": {
    "name": "ipython",
    "version": 2
   },
   "file_extension": ".py",
   "mimetype": "text/x-python",
   "name": "python",
   "nbconvert_exporter": "python",
   "pygments_lexer": "ipython2",
   "version": "2.7.6"
  }
 },
 "nbformat": 4,
 "nbformat_minor": 0
}
