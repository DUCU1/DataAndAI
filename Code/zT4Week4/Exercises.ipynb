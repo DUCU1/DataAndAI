{
 "cells": [
  {
   "cell_type": "code",
   "execution_count": 1,
   "metadata": {
    "collapsed": true,
    "ExecuteTime": {
     "end_time": "2023-06-19T14:47:20.881554Z",
     "start_time": "2023-06-19T14:47:20.326333Z"
    }
   },
   "outputs": [],
   "source": [
    "import os\n",
    "import pandas as pd\n",
    "os.chdir(\"/Users/vladbuinceanu/Documents/KdG/Data and A.I./Sem 2/Python/Python/Sources\")\n",
    "from IPython import InteractiveShell\n",
    "InteractiveShell.ast_node_interactivity = \"all\"\n",
    "from functions import *"
   ]
  },
  {
   "cell_type": "markdown",
   "source": [
    "# Question 1"
   ],
   "metadata": {
    "collapsed": false
   }
  },
  {
   "cell_type": "markdown",
   "source": [
    "# a. Load the file, erase the columns \"name\" and \"gender\" as they are nominal."
   ],
   "metadata": {
    "collapsed": false
   }
  },
  {
   "cell_type": "code",
   "execution_count": 22,
   "outputs": [],
   "source": [
    "simpsons = pd.read_csv(\"The Simpsons original.csv\")\n",
    "simpsons_2 = simpsons.drop(columns=[\"name\", \"gender\"])"
   ],
   "metadata": {
    "collapsed": false,
    "ExecuteTime": {
     "end_time": "2023-06-19T15:02:22.223008Z",
     "start_time": "2023-06-19T15:02:22.217758Z"
    }
   }
  },
  {
   "cell_type": "markdown",
   "source": [
    "# b. Determine the Euclidean distances between the Simpsons."
   ],
   "metadata": {
    "collapsed": false
   }
  },
  {
   "cell_type": "code",
   "execution_count": 41,
   "outputs": [
    {
     "data": {
      "text/plain": "name    Homer  Marge   Bart   Lisa  Maggie    Abe  Selma   Otto  Krusty\nname                                                                   \nHomer     0.0  100.5  162.1  174.4   232.7   86.9   90.5   70.7    51.2\nMarge   100.5    0.0   65.1   76.7   134.3   42.2   12.4   30.3    51.4\nBart    162.1   65.1    0.0   12.8    70.6  100.0   76.8   94.6   115.5\nLisa    174.4   76.7   12.8    0.0    58.5  111.1   88.4  106.4   127.5\nMaggie  232.7  134.3   70.6   58.5     0.0  165.1  145.7  164.3   185.3\nAbe      86.9   42.2  100.0  111.1   165.1    0.0   31.5   34.7    39.4\nSelma    90.5   12.4   76.8   88.4   145.7   31.5    0.0   20.3    40.2\nOtto     70.7   30.3   94.6  106.4   164.3   34.7   20.3    0.0    21.6\nKrusty   51.2   51.4  115.5  127.5   185.3   39.4   40.2   21.6     0.0",
      "text/html": "<div>\n<style scoped>\n    .dataframe tbody tr th:only-of-type {\n        vertical-align: middle;\n    }\n\n    .dataframe tbody tr th {\n        vertical-align: top;\n    }\n\n    .dataframe thead th {\n        text-align: right;\n    }\n</style>\n<table border=\"1\" class=\"dataframe\">\n  <thead>\n    <tr style=\"text-align: right;\">\n      <th>name</th>\n      <th>Homer</th>\n      <th>Marge</th>\n      <th>Bart</th>\n      <th>Lisa</th>\n      <th>Maggie</th>\n      <th>Abe</th>\n      <th>Selma</th>\n      <th>Otto</th>\n      <th>Krusty</th>\n    </tr>\n    <tr>\n      <th>name</th>\n      <th></th>\n      <th></th>\n      <th></th>\n      <th></th>\n      <th></th>\n      <th></th>\n      <th></th>\n      <th></th>\n      <th></th>\n    </tr>\n  </thead>\n  <tbody>\n    <tr>\n      <th>Homer</th>\n      <td>0.0</td>\n      <td>100.5</td>\n      <td>162.1</td>\n      <td>174.4</td>\n      <td>232.7</td>\n      <td>86.9</td>\n      <td>90.5</td>\n      <td>70.7</td>\n      <td>51.2</td>\n    </tr>\n    <tr>\n      <th>Marge</th>\n      <td>100.5</td>\n      <td>0.0</td>\n      <td>65.1</td>\n      <td>76.7</td>\n      <td>134.3</td>\n      <td>42.2</td>\n      <td>12.4</td>\n      <td>30.3</td>\n      <td>51.4</td>\n    </tr>\n    <tr>\n      <th>Bart</th>\n      <td>162.1</td>\n      <td>65.1</td>\n      <td>0.0</td>\n      <td>12.8</td>\n      <td>70.6</td>\n      <td>100.0</td>\n      <td>76.8</td>\n      <td>94.6</td>\n      <td>115.5</td>\n    </tr>\n    <tr>\n      <th>Lisa</th>\n      <td>174.4</td>\n      <td>76.7</td>\n      <td>12.8</td>\n      <td>0.0</td>\n      <td>58.5</td>\n      <td>111.1</td>\n      <td>88.4</td>\n      <td>106.4</td>\n      <td>127.5</td>\n    </tr>\n    <tr>\n      <th>Maggie</th>\n      <td>232.7</td>\n      <td>134.3</td>\n      <td>70.6</td>\n      <td>58.5</td>\n      <td>0.0</td>\n      <td>165.1</td>\n      <td>145.7</td>\n      <td>164.3</td>\n      <td>185.3</td>\n    </tr>\n    <tr>\n      <th>Abe</th>\n      <td>86.9</td>\n      <td>42.2</td>\n      <td>100.0</td>\n      <td>111.1</td>\n      <td>165.1</td>\n      <td>0.0</td>\n      <td>31.5</td>\n      <td>34.7</td>\n      <td>39.4</td>\n    </tr>\n    <tr>\n      <th>Selma</th>\n      <td>90.5</td>\n      <td>12.4</td>\n      <td>76.8</td>\n      <td>88.4</td>\n      <td>145.7</td>\n      <td>31.5</td>\n      <td>0.0</td>\n      <td>20.3</td>\n      <td>40.2</td>\n    </tr>\n    <tr>\n      <th>Otto</th>\n      <td>70.7</td>\n      <td>30.3</td>\n      <td>94.6</td>\n      <td>106.4</td>\n      <td>164.3</td>\n      <td>34.7</td>\n      <td>20.3</td>\n      <td>0.0</td>\n      <td>21.6</td>\n    </tr>\n    <tr>\n      <th>Krusty</th>\n      <td>51.2</td>\n      <td>51.4</td>\n      <td>115.5</td>\n      <td>127.5</td>\n      <td>185.3</td>\n      <td>39.4</td>\n      <td>40.2</td>\n      <td>21.6</td>\n      <td>0.0</td>\n    </tr>\n  </tbody>\n</table>\n</div>"
     },
     "metadata": {},
     "output_type": "display_data"
    }
   ],
   "source": [
    "new = calculate_euclidian_distances(simpsons_2)\n",
    "new.columns = simpsons.name\n",
    "new.index = simpsons.name\n",
    "display(new)"
   ],
   "metadata": {
    "collapsed": false,
    "ExecuteTime": {
     "end_time": "2023-06-19T15:12:15.771082Z",
     "start_time": "2023-06-19T15:12:15.756129Z"
    }
   }
  },
  {
   "cell_type": "markdown",
   "source": [
    "# c. Which Simpsons are closest to each other?"
   ],
   "metadata": {
    "collapsed": false
   }
  },
  {
   "cell_type": "markdown",
   "source": [
    "ANSWER -> Selma and Marge (12, 4)"
   ],
   "metadata": {
    "collapsed": false
   }
  },
  {
   "cell_type": "markdown",
   "source": [
    "# d. What is the Manhattan distance between Homer and Bart?"
   ],
   "metadata": {
    "collapsed": false
   }
  },
  {
   "cell_type": "code",
   "execution_count": 44,
   "outputs": [
    {
     "data": {
      "text/plain": "name   Homer Marge Bart Lisa Maggie  Abe Selma Otto Krusty\nname                                                      \nHomer      0   112  188  206    269  115   103   82     65\nMarge    112     0   92  102    169   65    19   34     65\nBart     188    92    0   18     81  141   107  126    149\nLisa     206   102   18    0     67  159   117  136    159\nMaggie   269   169   81   67      0  222   184  203    226\nAbe      115    65  141  159    222    0    46   51     60\nSelma    103    19  107  117    184   46     0   25     46\nOtto      82    34  126  136    203   51    25    0     31\nKrusty    65    65  149  159    226   60    46   31      0",
      "text/html": "<div>\n<style scoped>\n    .dataframe tbody tr th:only-of-type {\n        vertical-align: middle;\n    }\n\n    .dataframe tbody tr th {\n        vertical-align: top;\n    }\n\n    .dataframe thead th {\n        text-align: right;\n    }\n</style>\n<table border=\"1\" class=\"dataframe\">\n  <thead>\n    <tr style=\"text-align: right;\">\n      <th>name</th>\n      <th>Homer</th>\n      <th>Marge</th>\n      <th>Bart</th>\n      <th>Lisa</th>\n      <th>Maggie</th>\n      <th>Abe</th>\n      <th>Selma</th>\n      <th>Otto</th>\n      <th>Krusty</th>\n    </tr>\n    <tr>\n      <th>name</th>\n      <th></th>\n      <th></th>\n      <th></th>\n      <th></th>\n      <th></th>\n      <th></th>\n      <th></th>\n      <th></th>\n      <th></th>\n    </tr>\n  </thead>\n  <tbody>\n    <tr>\n      <th>Homer</th>\n      <td>0</td>\n      <td>112</td>\n      <td>188</td>\n      <td>206</td>\n      <td>269</td>\n      <td>115</td>\n      <td>103</td>\n      <td>82</td>\n      <td>65</td>\n    </tr>\n    <tr>\n      <th>Marge</th>\n      <td>112</td>\n      <td>0</td>\n      <td>92</td>\n      <td>102</td>\n      <td>169</td>\n      <td>65</td>\n      <td>19</td>\n      <td>34</td>\n      <td>65</td>\n    </tr>\n    <tr>\n      <th>Bart</th>\n      <td>188</td>\n      <td>92</td>\n      <td>0</td>\n      <td>18</td>\n      <td>81</td>\n      <td>141</td>\n      <td>107</td>\n      <td>126</td>\n      <td>149</td>\n    </tr>\n    <tr>\n      <th>Lisa</th>\n      <td>206</td>\n      <td>102</td>\n      <td>18</td>\n      <td>0</td>\n      <td>67</td>\n      <td>159</td>\n      <td>117</td>\n      <td>136</td>\n      <td>159</td>\n    </tr>\n    <tr>\n      <th>Maggie</th>\n      <td>269</td>\n      <td>169</td>\n      <td>81</td>\n      <td>67</td>\n      <td>0</td>\n      <td>222</td>\n      <td>184</td>\n      <td>203</td>\n      <td>226</td>\n    </tr>\n    <tr>\n      <th>Abe</th>\n      <td>115</td>\n      <td>65</td>\n      <td>141</td>\n      <td>159</td>\n      <td>222</td>\n      <td>0</td>\n      <td>46</td>\n      <td>51</td>\n      <td>60</td>\n    </tr>\n    <tr>\n      <th>Selma</th>\n      <td>103</td>\n      <td>19</td>\n      <td>107</td>\n      <td>117</td>\n      <td>184</td>\n      <td>46</td>\n      <td>0</td>\n      <td>25</td>\n      <td>46</td>\n    </tr>\n    <tr>\n      <th>Otto</th>\n      <td>82</td>\n      <td>34</td>\n      <td>126</td>\n      <td>136</td>\n      <td>203</td>\n      <td>51</td>\n      <td>25</td>\n      <td>0</td>\n      <td>31</td>\n    </tr>\n    <tr>\n      <th>Krusty</th>\n      <td>65</td>\n      <td>65</td>\n      <td>149</td>\n      <td>159</td>\n      <td>226</td>\n      <td>60</td>\n      <td>46</td>\n      <td>31</td>\n      <td>0</td>\n    </tr>\n  </tbody>\n</table>\n</div>"
     },
     "metadata": {},
     "output_type": "display_data"
    }
   ],
   "source": [
    "new = calculate_manhattan_distances(simpsons_2)\n",
    "new.columns = simpsons.name\n",
    "new.index = simpsons.name\n",
    "display(new)\n"
   ],
   "metadata": {
    "collapsed": false,
    "ExecuteTime": {
     "end_time": "2023-06-19T15:19:14.405519Z",
     "start_time": "2023-06-19T15:19:14.402138Z"
    }
   }
  },
  {
   "cell_type": "markdown",
   "source": [
    "# e. What is the standardized Euclidean distance between Marge and Maggie (do not use the stats.zscore to calculate the z-scores)?"
   ],
   "metadata": {
    "collapsed": false
   }
  },
  {
   "cell_type": "code",
   "execution_count": 53,
   "outputs": [
    {
     "data": {
      "text/plain": "name       Homer     Marge      Bart      Lisa    Maggie       Abe     Selma  \\\nname                                                                           \nHomer   0.000000  3.035833  2.633513  3.204813  3.810651  1.956851  2.508438   \nMarge   3.035833  0.000000  2.558443  1.907427  2.887089  2.939669  0.641284   \nBart    2.633513  2.558443  0.000000  1.088682  1.206934  3.002985  2.370605   \nLisa    3.204813  1.907427  1.088682  0.000000  1.037280  3.417218  1.992020   \nMaggie  3.810651  2.887089  1.206934  1.037280  0.000000  3.916015  2.921597   \nAbe     1.956851  2.939669  3.002985  3.417218  3.916015  0.000000  2.306462   \nSelma   2.508438  0.641284  2.370605  1.992020  2.921597  2.306462  0.000000   \nOtto    2.859664  0.466102  2.811340  2.275275  3.271309  2.828975  0.622430   \nKrusty  1.806310  1.383262  2.492437  2.436699  3.315900  1.817415  0.804150   \n\nname        Otto    Krusty  \nname                        \nHomer   2.859664  1.806310  \nMarge   0.466102  1.383262  \nBart    2.811340  2.492437  \nLisa    2.275275  2.436699  \nMaggie  3.271309  3.315900  \nAbe     2.828975  1.817415  \nSelma   0.622430  0.804150  \nOtto    0.000000  1.154512  \nKrusty  1.154512  0.000000  ",
      "text/html": "<div>\n<style scoped>\n    .dataframe tbody tr th:only-of-type {\n        vertical-align: middle;\n    }\n\n    .dataframe tbody tr th {\n        vertical-align: top;\n    }\n\n    .dataframe thead th {\n        text-align: right;\n    }\n</style>\n<table border=\"1\" class=\"dataframe\">\n  <thead>\n    <tr style=\"text-align: right;\">\n      <th>name</th>\n      <th>Homer</th>\n      <th>Marge</th>\n      <th>Bart</th>\n      <th>Lisa</th>\n      <th>Maggie</th>\n      <th>Abe</th>\n      <th>Selma</th>\n      <th>Otto</th>\n      <th>Krusty</th>\n    </tr>\n    <tr>\n      <th>name</th>\n      <th></th>\n      <th></th>\n      <th></th>\n      <th></th>\n      <th></th>\n      <th></th>\n      <th></th>\n      <th></th>\n      <th></th>\n    </tr>\n  </thead>\n  <tbody>\n    <tr>\n      <th>Homer</th>\n      <td>0.000000</td>\n      <td>3.035833</td>\n      <td>2.633513</td>\n      <td>3.204813</td>\n      <td>3.810651</td>\n      <td>1.956851</td>\n      <td>2.508438</td>\n      <td>2.859664</td>\n      <td>1.806310</td>\n    </tr>\n    <tr>\n      <th>Marge</th>\n      <td>3.035833</td>\n      <td>0.000000</td>\n      <td>2.558443</td>\n      <td>1.907427</td>\n      <td>2.887089</td>\n      <td>2.939669</td>\n      <td>0.641284</td>\n      <td>0.466102</td>\n      <td>1.383262</td>\n    </tr>\n    <tr>\n      <th>Bart</th>\n      <td>2.633513</td>\n      <td>2.558443</td>\n      <td>0.000000</td>\n      <td>1.088682</td>\n      <td>1.206934</td>\n      <td>3.002985</td>\n      <td>2.370605</td>\n      <td>2.811340</td>\n      <td>2.492437</td>\n    </tr>\n    <tr>\n      <th>Lisa</th>\n      <td>3.204813</td>\n      <td>1.907427</td>\n      <td>1.088682</td>\n      <td>0.000000</td>\n      <td>1.037280</td>\n      <td>3.417218</td>\n      <td>1.992020</td>\n      <td>2.275275</td>\n      <td>2.436699</td>\n    </tr>\n    <tr>\n      <th>Maggie</th>\n      <td>3.810651</td>\n      <td>2.887089</td>\n      <td>1.206934</td>\n      <td>1.037280</td>\n      <td>0.000000</td>\n      <td>3.916015</td>\n      <td>2.921597</td>\n      <td>3.271309</td>\n      <td>3.315900</td>\n    </tr>\n    <tr>\n      <th>Abe</th>\n      <td>1.956851</td>\n      <td>2.939669</td>\n      <td>3.002985</td>\n      <td>3.417218</td>\n      <td>3.916015</td>\n      <td>0.000000</td>\n      <td>2.306462</td>\n      <td>2.828975</td>\n      <td>1.817415</td>\n    </tr>\n    <tr>\n      <th>Selma</th>\n      <td>2.508438</td>\n      <td>0.641284</td>\n      <td>2.370605</td>\n      <td>1.992020</td>\n      <td>2.921597</td>\n      <td>2.306462</td>\n      <td>0.000000</td>\n      <td>0.622430</td>\n      <td>0.804150</td>\n    </tr>\n    <tr>\n      <th>Otto</th>\n      <td>2.859664</td>\n      <td>0.466102</td>\n      <td>2.811340</td>\n      <td>2.275275</td>\n      <td>3.271309</td>\n      <td>2.828975</td>\n      <td>0.622430</td>\n      <td>0.000000</td>\n      <td>1.154512</td>\n    </tr>\n    <tr>\n      <th>Krusty</th>\n      <td>1.806310</td>\n      <td>1.383262</td>\n      <td>2.492437</td>\n      <td>2.436699</td>\n      <td>3.315900</td>\n      <td>1.817415</td>\n      <td>0.804150</td>\n      <td>1.154512</td>\n      <td>0.000000</td>\n    </tr>\n  </tbody>\n</table>\n</div>"
     },
     "metadata": {},
     "output_type": "display_data"
    },
    {
     "data": {
      "text/plain": "hair length     3.734226\nweight         70.074563\nage            21.703174\ndtype: float64"
     },
     "metadata": {},
     "output_type": "display_data"
    }
   ],
   "source": [
    "new = calculate_standardized_euclidean_distances(simpsons_2)\n",
    "new.columns = simpsons.name\n",
    "new.index = simpsons.name\n",
    "display(new)\n",
    "display(simpsons_2.std())\n"
   ],
   "metadata": {
    "collapsed": false,
    "ExecuteTime": {
     "end_time": "2023-06-19T15:32:19.568018Z",
     "start_time": "2023-06-19T15:32:19.551331Z"
    }
   }
  },
  {
   "cell_type": "markdown",
   "source": [
    "# f. Now create a dendrogram (use Euclidean distances)"
   ],
   "metadata": {
    "collapsed": false
   }
  },
  {
   "cell_type": "code",
   "execution_count": 56,
   "outputs": [
    {
     "data": {
      "text/plain": "Text(0.5, 0, 'Samples')"
     },
     "execution_count": 56,
     "metadata": {},
     "output_type": "execute_result"
    },
    {
     "data": {
      "text/plain": "Text(0, 0.5, 'Distances')"
     },
     "execution_count": 56,
     "metadata": {},
     "output_type": "execute_result"
    },
    {
     "data": {
      "text/plain": "Text(0.5, 1.0, 'Dendrogram')"
     },
     "execution_count": 56,
     "metadata": {},
     "output_type": "execute_result"
    },
    {
     "data": {
      "text/plain": "<Figure size 640x480 with 1 Axes>",
      "image/png": "[encoded data removed]"
     },
     "metadata": {},
     "output_type": "display_data"
    }
   ],
   "source": [
    "from scipy.cluster import hierarchy\n",
    "import matplotlib.pyplot as plt\n",
    "\n",
    "distances = hierarchy.linkage(simpsons_2.values, metric='euclidean')\n",
    "dendrogram = hierarchy.dendrogram(distances)\n",
    "plt.xlabel('Samples')\n",
    "plt.ylabel('Distances')\n",
    "plt.title('Dendrogram')\n",
    "plt.show()"
   ],
   "metadata": {
    "collapsed": false,
    "ExecuteTime": {
     "end_time": "2023-06-19T15:39:35.514287Z",
     "start_time": "2023-06-19T15:39:35.419202Z"
    }
   }
  }
 ],
 "metadata": {
  "kernelspec": {
   "display_name": "Python 3",
   "language": "python",
   "name": "python3"
  },
  "language_info": {
   "codemirror_mode": {
    "name": "ipython",
    "version": 2
   },
   "file_extension": ".py",
   "mimetype": "text/x-python",
   "name": "python",
   "nbconvert_exporter": "python",
   "pygments_lexer": "ipython2",
   "version": "2.7.6"
  }
 },
 "nbformat": 4,
 "nbformat_minor": 0
}
